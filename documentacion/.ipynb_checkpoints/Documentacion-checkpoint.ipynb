{
 "cells": [
  {
   "cell_type": "markdown",
   "metadata": {},
   "source": [
    "# Expansión de consultas con Word2Vec\n",
    "Antes de ejecutar este notebook asegurate de que elasticsearch está iniciado. Además los tweets deben estar indexados. Para indexarlos ejecuta el script 'index.py'. \n",
    "\n",
    "## Importando las librerías\n",
    "Primero vamos a importar las librerías que vamos a usar."
   ]
  },
  {
   "cell_type": "code",
   "execution_count": 1,
   "metadata": {
    "collapsed": true
   },
   "outputs": [],
   "source": [
    "import elasticsearch.helpers\n",
    "import string\n",
    "import matplotlib as mpl\n",
    "import matplotlib.pyplot as plt\n",
    "import numpy as np\n",
    "\n",
    "from elasticsearch import Elasticsearch\n",
    "from elasticsearch_dsl import Search, Q\n",
    "from gensim.models import word2vec\n",
    "from glove import Glove\n",
    "from glove import Corpus\n",
    "from memory_profiler import memory_usage\n",
    "from sklearn.decomposition import PCA\n",
    "from stop_words import get_stop_words\n",
    "\n",
    "\n",
    "%load_ext memory_profiler\n",
    "%matplotlib inline"
   ]
  },
  {
   "cell_type": "markdown",
   "metadata": {},
   "source": [
    "Las consultas que realizaremos a lo largo de la práctica son:"
   ]
  },
  {
   "cell_type": "code",
   "execution_count": 2,
   "metadata": {
    "collapsed": true
   },
   "outputs": [],
   "source": [
    "client = Elasticsearch()\n",
    "index = '2008-feb-02-04-en'\n",
    "queries = ['American Football Conference', 'David Tyree','defensive end', 'Eli Manning','football', 'Glendale',\n",
    "           'Laurence Maroney', 'Miami Dolphins', 'Michael Strahan', 'National Football Conference',\n",
    "           'National Football League', 'New England Patriots', 'New York', 'New York Giants', 'NFL', \n",
    "           'Plaxico Burress', 'quarterback', 'Randy Moss', 'running back', 'Super Bowl',\n",
    "           'University of Phoenix', 'Wide receiver', 'XLII']"
   ]
  },
  {
   "cell_type": "markdown",
   "metadata": {},
   "source": [
    "La mitad de estas consultas serán para entrenar el modelo de Word2Vec, mientras que la otra mitad se usarán para realizar la expansión de consultas."
   ]
  },
  {
   "cell_type": "code",
   "execution_count": 3,
   "metadata": {
    "collapsed": true
   },
   "outputs": [],
   "source": [
    "queries_train = queries[:len(queries)//2]\n",
    "queries_test = queries[len(queries)//2:]"
   ]
  },
  {
   "cell_type": "markdown",
   "metadata": {},
   "source": [
    "## Entrenamiento de los modelos\n",
    "Lo primero que necesitamos hacer es entrenar ambos modelos. Para entrenarlos utilizaremos la colección de tweets completa. Dado que contamos con una cantidad de documentos relativamente grande (390000), vamos a crear una clase que vaya generando una lista de palabras de cada tweet de la colección de manera perezosa. De esta manera no tendremos que guardar todos los tweets en una lista en memoria RAM. Los modelos reciben un iterable como parámetro para poder entrenarlos. Lo único que tenemos que hacer es implementar la función predefinida de python __iter__ para que los objetos de la clase que creemos se comporten como un iterable cualquiera.\n",
    "\n",
    "Por último, cabe destacar que antes de devolver cada palabra en el generador realizamos un pequeño preprocesamiento para mejorar el rendimiento tanto de Word2Vec como de Glove. En primer lugar, eliminaremos las palabras vacías de cada tweet. La lista de palabras vacías se obtuvo usando la librería externa stop-words. Además, también eliminaremos los signos de puntuación de cada palabra (así nos evitaremos distinguir 'super,' de 'super' por ejemplo)."
   ]
  },
  {
   "cell_type": "code",
   "execution_count": 4,
   "metadata": {
    "collapsed": true
   },
   "outputs": [],
   "source": [
    "class SentencesGenerator:\n",
    "    def __init__(self, client, index):\n",
    "        self.s = Search(using=client, index=index)\n",
    "    \n",
    "    def __iter__(self):\n",
    "        # creamos una tabla de traducción que usaremos para eliminar los simbolos de puntuación.\n",
    "        remove_punctuation_map = dict((ord(char), None) for char in string.punctuation)\n",
    "        stop_words = get_stop_words('english')\n",
    "        for tweet in self.s.scan():\n",
    "            words = [word.translate(remove_punctuation_map) # eliminar simb. puntuacion de cada palabra\n",
    "                     for word in tweet.text.split(' ') if word not in stop_words]\n",
    "            yield words\n",
    "        self.s = Search(using=client, index=index)\n",
    "\n",
    "\n",
    "words_generator = SentencesGenerator(client, index)"
   ]
  },
  {
   "cell_type": "markdown",
   "metadata": {},
   "source": [
    "### Entrenamiento de Word2Vec"
   ]
  },
  {
   "cell_type": "code",
   "execution_count": 6,
   "metadata": {
    "collapsed": true
   },
   "outputs": [],
   "source": [
    "model = word2vec.Word2Vec(documents, size=100, window=5, min_count=5, workers=1)"
   ]
  },
  {
   "cell_type": "code",
   "execution_count": 7,
   "metadata": {},
   "outputs": [
    {
     "data": {
      "text/plain": [
       "[('sports', 0.8346830606460571),\n",
       " ('rugby', 0.8225096464157104),\n",
       " ('game', 0.8120060563087463),\n",
       " ('soccer', 0.8012762069702148),\n",
       " ('commercials', 0.7899086475372314),\n",
       " ('superbowl', 0.7843654155731201),\n",
       " ('SB', 0.7807307839393616),\n",
       " ('halftime', 0.7798340320587158),\n",
       " ('pregame', 0.7778581976890564),\n",
       " ('winning', 0.7690386176109314)]"
      ]
     },
     "execution_count": 7,
     "metadata": {},
     "output_type": "execute_result"
    }
   ],
   "source": [
    "model.most_similar(['super', 'bowl'])"
   ]
  },
  {
   "cell_type": "markdown",
   "metadata": {},
   "source": [
    "## Dibujando vectores de palabras\n",
    "Ahora vamos a dibujar un gráfico que nos ayude a visualizar el modelo que utiliza Word2Vec para determinar que palabras son similares a una palabra dada. En el constructor de Word2Vec uno de los parámetros que se le introdujo fue 'size=100'. Esto quiere decir que cada palabra de los documentos de entrenamiento se representa en el modelo utilizándo un vector de 100 dimensiones."
   ]
  },
  {
   "cell_type": "code",
   "execution_count": 8,
   "metadata": {},
   "outputs": [
    {
     "data": {
      "text/plain": [
       "100"
      ]
     },
     "execution_count": 8,
     "metadata": {},
     "output_type": "execute_result"
    }
   ],
   "source": [
    "len(model.wv['football'])"
   ]
  },
  {
   "cell_type": "markdown",
   "metadata": {},
   "source": [
    "Las palabras que suelan aparecer en el mismo contexto tendrán unos vectores parecidos, mientras que las palabras que no tengan nada en común tenderán a estar alejadas. Para poder ver esta relación vamos a reducir la dimensionalidad de algunos vectores a 2 dimensiones utilizando la técnica de PCA (Principal Component Analysis):"
   ]
  },
  {
   "cell_type": "code",
   "execution_count": 9,
   "metadata": {
    "collapsed": true
   },
   "outputs": [],
   "source": [
    "X_train = [model.wv[word] for word in model.wv.vocab]\n",
    "\n",
    "queries_split_words = [query.split(' ') for query in queries]\n",
    "words = []\n",
    "for query in queries_split_words:\n",
    "    for word in query:\n",
    "        words.append(word)\n",
    "    \n",
    "    \n",
    "X = [model.wv[word] for word in words]\n",
    "pca = PCA(n_components=2)\n",
    "pca.fit(X_train)\n",
    "result = pca.transform(X)"
   ]
  },
  {
   "cell_type": "markdown",
   "metadata": {},
   "source": [
    "Ahora que tenemos los vectores en 2 dimensiones, podemos realizar un scatter plot y dibujar cada palabra en el plano:"
   ]
  },
  {
   "cell_type": "code",
   "execution_count": 10,
   "metadata": {},
   "outputs": [
    {
     "data": {
      "image/png": "[encoded data removed]",
      "text/plain": [
       "<matplotlib.figure.Figure at 0x11b31d9b0>"
      ]
     },
     "metadata": {},
     "output_type": "display_data"
    }
   ],
   "source": [
    "plt.style.use('seaborn-poster')\n",
    "\n",
    "plt.title('Visualización de los vectores de palabras')\n",
    "plt.xlabel('x')\n",
    "plt.ylabel('y')\n",
    "plt.scatter(result[:,0], result[:,1])\n",
    "for i, word in enumerate(words):\n",
    "    plt.annotate(word, xy=(result[i,0],result[i,1] + 0.1))\n",
    "\n",
    "\"\"\"    \n",
    "dibujando elipses para que nos ayuden a visualizar las relaciones\n",
    "fig = plt.gcf()\n",
    "fig.gca().add_artist(mpl.patches.Ellipse(xy=(-4.7,4), width=1.7, height=1.4, angle=155, color='r', fill=False))\n",
    "fig.gca().add_artist(mpl.patches.Ellipse(xy=(-2.2,1.55), width=1.4, height=0.9, angle=180, color='g', fill=False))\n",
    "fig.gca().add_artist(mpl.patches.Ellipse(xy=(1.1,0.2), width=0.8, height=0.7, angle=180, color='c', fill=False))\n",
    "fig.gca().add_artist(mpl.patches.Ellipse(xy=(0,2.4), width=2.4, height=0.9, angle=180, color='m', fill=False))\n",
    "fig.gca().add_artist(mpl.patches.Ellipse(xy=(-0.5,0.75), width=1.2, height=1.2, angle=180, color='y', fill=False))\n",
    "plt.show()\n",
    "\"\"\"\n",
    "\n",
    "plt.show()"
   ]
  },
  {
   "cell_type": "markdown",
   "metadata": {
    "collapsed": true
   },
   "source": [
    "## Expansión de consultas"
   ]
  },
  {
   "cell_type": "code",
   "execution_count": 11,
   "metadata": {
    "collapsed": true
   },
   "outputs": [],
   "source": [
    "start_query = 'Super Bowl'\n",
    "num_expanded_words = 5\n",
    "final_query = []\n",
    "\n",
    "# separamos la query original en términos y sacamos\n",
    "# las 5 palabras más similares de cada término\n",
    "for word in start_query.split(' '):\n",
    "    expanded_words = [tuple[0] for tuple in model.most_similar(word)[:num_expanded_words]]\n",
    "    expanded_words.append(word)\n",
    "    final_query.append(expanded_words)"
   ]
  },
  {
   "cell_type": "code",
   "execution_count": 12,
   "metadata": {},
   "outputs": [
    {
     "name": "stdout",
     "output_type": "stream",
     "text": [
      "Puppy Bowl VI!!!!\n",
      "super bowl? or puppy bowl?\n",
      "souper bowl.\n",
      "PUPPY BOWL! PUPPY BOWL!\n",
      "Forget the super bowl. I'm mesmerized by Puppy Bowl IV!!!\n",
      "Super bowl sucks. I miss the puppy bowl :P\n",
      "@kellypuffs, do what we're doing, Super Bowl AND Puppy Bowl!\n",
      "Expertly balancing work, Super Bowl, and Puppy Bowl IV.\n",
      "Puppy Bowl! Puppy Bowl! Daughter squealing.\n",
      "not watching the stupor bowl.\n"
     ]
    }
   ],
   "source": [
    "queries = []\n",
    "for expansion in final_query:\n",
    "    queries.append(Q('match', text=' '.join(expansion)))\n",
    "q = Q('bool', should=queries)\n",
    "s = Search(using=client, index=index).query(q)\n",
    "for tweet in s:\n",
    "    print(tweet.text)"
   ]
  },
  {
   "cell_type": "code",
   "execution_count": 13,
   "metadata": {},
   "outputs": [
    {
     "name": "stdout",
     "output_type": "stream",
     "text": [
      "Super Bowl, baby, Super Bowl ... go Pats!\n",
      "super bowl? super martinis!\n",
      "super bowl? or puppy bowl?\n",
      "super bowl?!\n",
      "Super Bowl!!!!!\n",
      "Super Bowl！\n",
      "Super bowl :)\n",
      "Super Bowl.\n",
      "super bowl!!\n",
      "Super Tuesday not Super Bowl.\n"
     ]
    }
   ],
   "source": [
    "s = Search(using=client, index=index).query('match', text='super bowl')\n",
    "for tweet in s:\n",
    "    print(tweet.text)"
   ]
  },
  {
   "cell_type": "code",
   "execution_count": 14,
   "metadata": {},
   "outputs": [
    {
     "data": {
      "text/plain": [
       "[('puppy', 0.8980789184570312),\n",
       " ('berkeley', 0.865573525428772),\n",
       " ('stupor', 0.8645041584968567),\n",
       " ('Toilet', 0.7452303171157837),\n",
       " ('superbowl', 0.7270327806472778),\n",
       " ('Puppy', 0.7263351678848267),\n",
       " ('planet', 0.7259806990623474),\n",
       " ('Super', 0.7156269550323486),\n",
       " ('pooper', 0.7111208438873291),\n",
       " ('grains', 0.7024902701377869)]"
      ]
     },
     "execution_count": 14,
     "metadata": {},
     "output_type": "execute_result"
    }
   ],
   "source": [
    "model.most_similar('super')"
   ]
  },
  {
   "cell_type": "markdown",
   "metadata": {
    "collapsed": true
   },
   "source": [
    "# Entrenando el modelo de Glove\n",
    "Ahora vamos a entrenar el modelo de Glove utilizando el mismo generador"
   ]
  },
  {
   "cell_type": "code",
   "execution_count": 17,
   "metadata": {
    "collapsed": true
   },
   "outputs": [],
   "source": [
    "corpus_model = Corpus()\n",
    "corpus_model.fit(documents, window=5)"
   ]
  },
  {
   "cell_type": "code",
   "execution_count": 18,
   "metadata": {},
   "outputs": [
    {
     "name": "stdout",
     "output_type": "stream",
     "text": [
      "Performing 10 training epochs with 1 threads\n",
      "Epoch 0\n",
      "Epoch 1\n",
      "Epoch 2\n",
      "Epoch 3\n",
      "Epoch 4\n",
      "Epoch 5\n",
      "Epoch 6\n",
      "Epoch 7\n",
      "Epoch 8\n",
      "Epoch 9\n"
     ]
    }
   ],
   "source": [
    "glove = Glove(no_components=100, learning_rate=0.05)\n",
    "glove.fit(corpus_model.matrix, epochs=10,\n",
    "          no_threads=1, verbose=True)\n",
    "glove.add_dictionary(corpus_model.dictionary)"
   ]
  },
  {
   "cell_type": "code",
   "execution_count": 19,
   "metadata": {},
   "outputs": [
    {
     "data": {
      "text/plain": [
       "[('REAL', 0.87831751341355857),\n",
       " ('organization', 0.87821719464304515),\n",
       " ('intriguing', 0.87574659417442613),\n",
       " ('Emily', 0.86957480155414135),\n",
       " ('benefits', 0.86764982724696771),\n",
       " ('channels', 0.86661836440454809),\n",
       " ('Quite', 0.86241336991820161),\n",
       " ('robot', 0.8623624457434903),\n",
       " ('inflation', 0.8607461438870585)]"
      ]
     },
     "execution_count": 19,
     "metadata": {},
     "output_type": "execute_result"
    }
   ],
   "source": [
    "glove.most_similar('Moss', number=10)"
   ]
  },
  {
   "cell_type": "code",
   "execution_count": 20,
   "metadata": {},
   "outputs": [
    {
     "data": {
      "text/plain": [
       "[('tuesday', 0.9104859828948975),\n",
       " ('bowel', 0.8990493416786194),\n",
       " ('duper', 0.8810420632362366),\n",
       " ('Bowl', 0.8015990257263184),\n",
       " ('bowls', 0.7814620733261108),\n",
       " ('superbowl', 0.7537227869033813),\n",
       " ('BowlReuters\\r\\nhttptinyurlcom3696qp', 0.7042330503463745),\n",
       " ('Superbowl', 0.6899716854095459),\n",
       " ('Bowel', 0.688156008720398),\n",
       " ('gear', 0.6840819120407104)]"
      ]
     },
     "execution_count": 20,
     "metadata": {},
     "output_type": "execute_result"
    }
   ],
   "source": [
    "model.most_similar('bowl')"
   ]
  },
  {
   "cell_type": "markdown",
   "metadata": {
    "collapsed": true
   },
   "source": [
    "# Medición del consumo de memoria de los modelos"
   ]
  },
  {
   "cell_type": "code",
   "execution_count": 39,
   "metadata": {},
   "outputs": [],
   "source": [
    "f = word2vec.Word2Vec\n",
    "mem_usage_w2v = memory_usage((f, (documents,), {'size': 100, 'window': 5, 'min_count': 5, 'workers': 1}))\n",
    "\n",
    "def glove_benchmark():\n",
    "    corpus_model = Corpus()\n",
    "    corpus_model.fit(documents, window=5)\n",
    "    glove = Glove(no_components=100, learning_rate=0.05)\n",
    "    glove.fit(corpus_model.matrix, epochs=10,\n",
    "              no_threads=1, verbose=False)\n",
    "\n",
    "mem_usage_glove = memory_usage((glove_benchmark, (), {}))"
   ]
  },
  {
   "cell_type": "code",
   "execution_count": 40,
   "metadata": {
    "scrolled": false
   },
   "outputs": [
    {
     "data": {
      "image/png": "[encoded data removed]",
      "text/plain": [
       "<matplotlib.figure.Figure at 0x11c4de630>"
      ]
     },
     "metadata": {},
     "output_type": "display_data"
    }
   ],
   "source": [
    "plt.plot(np.arange(len(mem_usage_w2v)) * 0.1, mem_usage_w2v, 'b')\n",
    "plt.plot(np.arange(len(mem_usage_glove)) * 0.1, mem_usage_glove, 'r')\n",
    "plt.xlabel(\"Tiempo (s)\")\n",
    "plt.ylabel(\"Memoria usada (mb)\")\n",
    "plt.title(\"Memoria usada por los dos modelos\")\n",
    "plt.show()"
   ]
  },
  {
   "cell_type": "code",
   "execution_count": null,
   "metadata": {},
   "outputs": [],
   "source": [
    "%timeit glove_benchmark() "
   ]
  },
  {
   "cell_type": "code",
   "execution_count": null,
   "metadata": {
    "collapsed": true
   },
   "outputs": [],
   "source": []
  }
 ],
 "metadata": {
  "kernelspec": {
   "display_name": "Python 3",
   "language": "python",
   "name": "python3"
  },
  "language_info": {
   "codemirror_mode": {
    "name": "ipython",
    "version": 3
   },
   "file_extension": ".py",
   "mimetype": "text/x-python",
   "name": "python",
   "nbconvert_exporter": "python",
   "pygments_lexer": "ipython3",
   "version": "3.6.2"
  }
 },
 "nbformat": 4,
 "nbformat_minor": 2
}
