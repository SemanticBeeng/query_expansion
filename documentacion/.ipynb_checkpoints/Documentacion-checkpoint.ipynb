{
 "cells": [
  {
   "cell_type": "markdown",
   "metadata": {},
   "source": [
    "# Expansión de consultas con Word2Vec\n",
    "Antes de ejecutar este notebook asegurate de que elasticsearch está iniciado. Además los tweets deben estar indexados. Para indexarlos ejecuta el script 'index.py'. \n",
    "\n",
    "## Importando las librerías\n",
    "Primero vamos a importar las librerías que vamos a usar."
   ]
  },
  {
   "cell_type": "code",
   "execution_count": 1,
   "metadata": {},
   "outputs": [],
   "source": [
    "import elasticsearch.helpers\n",
    "from elasticsearch import Elasticsearch\n",
    "from elasticsearch_dsl import Search, Q\n",
    "from gensim.models import word2vec\n",
    "\n",
    "%load_ext memory_profiler"
   ]
  },
  {
   "cell_type": "markdown",
   "metadata": {},
   "source": [
    "Las consultas que realizaremos a lo largo de la práctica son:"
   ]
  },
  {
   "cell_type": "code",
   "execution_count": 2,
   "metadata": {
    "collapsed": true
   },
   "outputs": [],
   "source": [
    "index = '2008-feb-02-04-en'\n",
    "queries = ['American Football Conference', 'David Tyree','defensive end', 'Eli Manning','football', 'Glendale',\n",
    "           'Laurence Maroney', 'Miami Dolphins', 'Michael Strahan', 'National Football Conference',\n",
    "           'National Football League', 'New England Patriots', 'New York', 'New York Giants', 'NFL', \n",
    "           'Plaxico Burress', 'quarterback', 'Randy Moss', 'running back', 'Super Bowl',\n",
    "           'University of Phoenix', 'Wide receiver', 'XLII']"
   ]
  },
  {
   "cell_type": "markdown",
   "metadata": {},
   "source": [
    "La mitad de estas consultas serán para entrenar el modelo de Word2Vec, mientras que la otra mitad se usarán para realizar la expansión de consultas."
   ]
  },
  {
   "cell_type": "code",
   "execution_count": 3,
   "metadata": {
    "collapsed": true
   },
   "outputs": [],
   "source": [
    "queries_train = queries[:len(queries)//2]\n",
    "queries_test = queries[len(queries)//2:]"
   ]
  },
  {
   "cell_type": "markdown",
   "metadata": {},
   "source": [
    "## Entrenamiento de Word2Vec\n",
    "Ahora vamos a comparar el resultado que obtenemos al entrenar el modelo con distinto número de documentos.\n",
    "\n",
    "### Prueba 1: Utilizando las consultas de entrenamiento"
   ]
  },
  {
   "cell_type": "code",
   "execution_count": 4,
   "metadata": {
    "collapsed": true
   },
   "outputs": [],
   "source": [
    "import string\n",
    "from stop_words import get_stop_words\n",
    "\n",
    "client = Elasticsearch()\n",
    "\n",
    "class SonGenerator:\n",
    "    def __init__(self, client, index):\n",
    "        self.s = Search(using=client, index=index)\n",
    "    \n",
    "    def __iter__(self):\n",
    "        # creamos una tabla de traducción que usaremos para eliminar los simbolos de puntuación.\n",
    "        remove_punctuation_map = dict((ord(char), None) for char in string.punctuation)\n",
    "        stop_words = get_stop_words('english')\n",
    "        for tweet in self.s.scan():\n",
    "            words = [word.translate(remove_punctuation_map) # eliminar simb. puntuacion de cada palabra\n",
    "                     for word in tweet.text.split(' ') if word not in stop_words]\n",
    "            yield words\n",
    "        self.s = Search(using=client, index=index)"
   ]
  },
  {
   "cell_type": "markdown",
   "metadata": {},
   "source": [
    "Una vez que tenemos los documentos de entrenamiento, necesitamos preparalos para que el modelo de Word2Vec los pueda procesar. Primero necesitamos separar cada tweet en una lista de palabras. Después, eliminaremos las palabras vacías de cada tweet para mejorar los resultados obtenidos con Word2Vec. Finalmente, eliminaremos símbolos de puntuación pegados a las palabras (por ejemplo, 'football,') para evitar añadir ruido al modelo:"
   ]
  },
  {
   "cell_type": "code",
   "execution_count": 5,
   "metadata": {},
   "outputs": [],
   "source": [
    "documents = SonGenerator(client, index)"
   ]
  },
  {
   "cell_type": "code",
   "execution_count": 6,
   "metadata": {},
   "outputs": [],
   "source": [
    "model = word2vec.Word2Vec(documents, size=100, window=5, min_count=5, workers=1)"
   ]
  },
  {
   "cell_type": "code",
   "execution_count": 10,
   "metadata": {},
   "outputs": [],
   "source": [
    "from memory_profiler import memory_usage\n",
    "f = word2vec.Word2Vec\n",
    "mem_usage = memory_usage((f, (documents,), {'size': 100, 'window': 5, 'min_count': 5, 'workers': 1}))"
   ]
  },
  {
   "cell_type": "code",
   "execution_count": 14,
   "metadata": {},
   "outputs": [
    {
     "name": "stdout",
     "output_type": "stream",
     "text": [
      "183.62109375\n"
     ]
    }
   ],
   "source": [
    "print(min(mem_usage))"
   ]
  },
  {
   "cell_type": "code",
   "execution_count": 15,
   "metadata": {},
   "outputs": [
    {
     "data": {
      "text/plain": [
       "[('sports', 0.8473115563392639),\n",
       " ('rugby', 0.8118000626564026),\n",
       " ('game', 0.8092204332351685),\n",
       " ('soccer', 0.8015111684799194),\n",
       " ('commercials', 0.7871308326721191),\n",
       " ('superbowl', 0.7849005460739136),\n",
       " ('patriots', 0.7787284255027771),\n",
       " ('halftime', 0.7778968811035156),\n",
       " ('SB', 0.7754900455474854),\n",
       " ('pregame', 0.773967981338501)]"
      ]
     },
     "execution_count": 15,
     "metadata": {},
     "output_type": "execute_result"
    }
   ],
   "source": [
    "model.most_similar(['football'])"
   ]
  },
  {
   "cell_type": "markdown",
   "metadata": {},
   "source": [
    "## Dibujando vectores de palabras\n",
    "Ahora vamos a dibujar un gráfico que nos ayude a visualizar el modelo que utiliza Word2Vec para determinar que palabras son similares a una palabra dada. En el constructor de Word2Vec uno de los parámetros que se le introdujo fue 'size=100'. Esto quiere decir que cada palabra de los documentos de entrenamiento se representa en el modelo utilizándo un vector de 100 dimensiones."
   ]
  },
  {
   "cell_type": "code",
   "execution_count": 16,
   "metadata": {},
   "outputs": [
    {
     "data": {
      "text/plain": [
       "100"
      ]
     },
     "execution_count": 16,
     "metadata": {},
     "output_type": "execute_result"
    }
   ],
   "source": [
    "len(model.wv['football'])"
   ]
  },
  {
   "cell_type": "markdown",
   "metadata": {},
   "source": [
    "Las palabras que suelan aparecer en el mismo contexto tendrán unos vectores parecidos, mientras que las palabras que no tengan nada en común tenderán a estar alejadas. Para poder ver esta relación vamos a reducir la dimensionalidad de algunos vectores a 2 dimensiones utilizando la técnica de PCA (Principal Component Analysis):"
   ]
  },
  {
   "cell_type": "code",
   "execution_count": 17,
   "metadata": {},
   "outputs": [],
   "source": [
    "from sklearn.decomposition import PCA\n",
    "import numpy as np\n",
    "\n",
    "X_train = [model.wv[word] for word in model.wv.vocab]\n",
    "\n",
    "queries_split_words = [query.split(' ') for query in queries]\n",
    "words = []\n",
    "for query in queries_split_words:\n",
    "    for word in query:\n",
    "        words.append(word)\n",
    "    \n",
    "    \n",
    "X = [model.wv[word] for word in words]\n",
    "pca = PCA(n_components=2)\n",
    "pca.fit(X_train)\n",
    "result = pca.transform(X)"
   ]
  },
  {
   "cell_type": "markdown",
   "metadata": {},
   "source": [
    "Ahora que tenemos los vectores en 2 dimensiones, podemos realizar un scatter plot y dibujar cada palabra en el plano:"
   ]
  },
  {
   "cell_type": "code",
   "execution_count": 18,
   "metadata": {},
   "outputs": [
    {
     "data": {
      "image/png": "[encoded data removed]",
      "text/plain": [
       "<matplotlib.figure.Figure at 0x11b4329e8>"
      ]
     },
     "metadata": {},
     "output_type": "display_data"
    }
   ],
   "source": [
    "from matplotlib.patches import Ellipse\n",
    "import matplotlib as mpl\n",
    "import matplotlib.pyplot as plt\n",
    "%matplotlib inline\n",
    "\n",
    "plt.style.use('seaborn-poster')\n",
    "\n",
    "plt.title('Visualización de los vectores de palabras')\n",
    "plt.xlabel('x')\n",
    "plt.ylabel('y')\n",
    "plt.scatter(result[:,0], result[:,1])\n",
    "for i, word in enumerate(words):\n",
    "    plt.annotate(word, xy=(result[i,0],result[i,1] + 0.1))\n",
    "    \n",
    "# dibujando elipses para que nos ayuden a visualizar las relaciones\n",
    "\"\"\"\n",
    "fig = plt.gcf()\n",
    "fig.gca().add_artist(mpl.patches.Ellipse(xy=(-4.7,4), width=1.7, height=1.4, angle=155, color='r', fill=False))\n",
    "fig.gca().add_artist(mpl.patches.Ellipse(xy=(-2.2,1.55), width=1.4, height=0.9, angle=180, color='g', fill=False))\n",
    "fig.gca().add_artist(mpl.patches.Ellipse(xy=(1.1,0.2), width=0.8, height=0.7, angle=180, color='c', fill=False))\n",
    "fig.gca().add_artist(mpl.patches.Ellipse(xy=(0,2.4), width=2.4, height=0.9, angle=180, color='m', fill=False))\n",
    "fig.gca().add_artist(mpl.patches.Ellipse(xy=(-0.5,0.75), width=1.2, height=1.2, angle=180, color='y', fill=False))\n",
    "plt.show()\n",
    "\"\"\"\n",
    "plt.show()"
   ]
  },
  {
   "cell_type": "markdown",
   "metadata": {
    "collapsed": true
   },
   "source": [
    "## Expansión de consultas"
   ]
  },
  {
   "cell_type": "code",
   "execution_count": 19,
   "metadata": {
    "collapsed": true
   },
   "outputs": [],
   "source": [
    "start_query = 'Super Bowl'\n",
    "num_expanded_words = 5\n",
    "final_query = []\n",
    "\n",
    "# separamos la query original en términos y sacamos\n",
    "# las 5 palabras más similares de cada término\n",
    "for word in start_query.split(' '):\n",
    "    expanded_words = [tuple[0] for tuple in model.most_similar(word)[:num_expanded_words]]\n",
    "    expanded_words.append(word)\n",
    "    final_query.append(expanded_words)"
   ]
  },
  {
   "cell_type": "code",
   "execution_count": 20,
   "metadata": {},
   "outputs": [
    {
     "name": "stdout",
     "output_type": "stream",
     "text": [
      "finishing my Reading beer and working the Souper Bowel\n",
      "souper bowl.\n",
      "super bowl? or puppy bowl?\n",
      "Super Bowls are super.\n",
      "PUPPY BOWL! PUPPY BOWL!\n",
      "Forget the super bowl. I'm mesmerized by Puppy Bowl IV!!!\n",
      "Super bowl sucks. I miss the puppy bowl :P\n",
      "not watching the stupor bowl.\n",
      "@kellypuffs, do what we're doing, Super Bowl AND Puppy Bowl!\n",
      "Not watching the Stupor Bowl.\n"
     ]
    }
   ],
   "source": [
    "queries = []\n",
    "for expansion in final_query:\n",
    "    queries.append(Q('match', text=' '.join(expansion)))\n",
    "q = Q('bool', should=queries)\n",
    "s = Search(using=client, index=index).query(q)\n",
    "for tweet in s:\n",
    "    print(tweet.text)"
   ]
  },
  {
   "cell_type": "code",
   "execution_count": 21,
   "metadata": {},
   "outputs": [
    {
     "name": "stdout",
     "output_type": "stream",
     "text": [
      "Super Bowl, baby, Super Bowl ... go Pats!\n",
      "super bowl? super martinis!\n",
      "super bowl? or puppy bowl?\n",
      "super bowl?!\n",
      "Super Bowl!!!!!\n",
      "Super Bowl！\n",
      "Super bowl :)\n",
      "Super Bowl.\n",
      "super bowl!!\n",
      "Super Tuesday not Super Bowl.\n"
     ]
    }
   ],
   "source": [
    "s = Search(using=client, index=index).query('match', text='super bowl')\n",
    "for tweet in s:\n",
    "    print(tweet.text)"
   ]
  },
  {
   "cell_type": "code",
   "execution_count": 22,
   "metadata": {},
   "outputs": [
    {
     "data": {
      "text/plain": [
       "[('puppy', 0.898078978061676),\n",
       " ('stupor', 0.8679972290992737),\n",
       " ('berkeley', 0.8668838143348694),\n",
       " ('Toilet', 0.739491879940033),\n",
       " ('Puppy', 0.7387590408325195),\n",
       " ('superbowl', 0.7376185655593872),\n",
       " ('Super', 0.7248400449752808),\n",
       " ('Stupor', 0.7226331830024719),\n",
       " ('planet', 0.7212698459625244),\n",
       " ('pooper', 0.7165979146957397)]"
      ]
     },
     "execution_count": 22,
     "metadata": {},
     "output_type": "execute_result"
    }
   ],
   "source": [
    "model.most_similar('super')"
   ]
  },
  {
   "cell_type": "markdown",
   "metadata": {},
   "source": [
    "# Titulo 1\n",
    "## Titulo 2\n",
    "### Titulo 3\n",
    "asofmspaofmpasmfo"
   ]
  },
  {
   "cell_type": "code",
   "execution_count": 23,
   "metadata": {},
   "outputs": [
    {
     "name": "stdout",
     "output_type": "stream",
     "text": [
      "['_classic_test', 'bmh', 'classic', 'dark_background', 'fivethirtyeight', 'ggplot', 'grayscale', 'seaborn-bright', 'seaborn-colorblind', 'seaborn-dark-palette', 'seaborn-dark', 'seaborn-darkgrid', 'seaborn-deep', 'seaborn-muted', 'seaborn-notebook', 'seaborn-paper', 'seaborn-pastel', 'seaborn-poster', 'seaborn-talk', 'seaborn-ticks', 'seaborn-white', 'seaborn-whitegrid', 'seaborn']\n"
     ]
    }
   ],
   "source": [
    "print(plt.style.available)"
   ]
  },
  {
   "cell_type": "markdown",
   "metadata": {
    "collapsed": true
   },
   "source": [
    "# Entrenando el modelo de Glove\n",
    "Ahora vamos a entrenar el modelo de Glove utilizando el mismo generador"
   ]
  },
  {
   "cell_type": "code",
   "execution_count": 24,
   "metadata": {
    "collapsed": true
   },
   "outputs": [],
   "source": [
    "from glove import Glove\n",
    "from glove import Corpus"
   ]
  },
  {
   "cell_type": "code",
   "execution_count": 25,
   "metadata": {
    "collapsed": true
   },
   "outputs": [],
   "source": [
    "corpus_model = Corpus()\n",
    "corpus_model.fit(documents, window=5)"
   ]
  },
  {
   "cell_type": "code",
   "execution_count": 26,
   "metadata": {},
   "outputs": [
    {
     "name": "stdout",
     "output_type": "stream",
     "text": [
      "Performing 10 training epochs with 1 threads\n",
      "Epoch 0\n",
      "Epoch 1\n",
      "Epoch 2\n",
      "Epoch 3\n",
      "Epoch 4\n",
      "Epoch 5\n",
      "Epoch 6\n",
      "Epoch 7\n",
      "Epoch 8\n",
      "Epoch 9\n"
     ]
    }
   ],
   "source": [
    "glove = Glove(no_components=100, learning_rate=0.05)\n",
    "glove.fit(corpus_model.matrix, epochs=10,\n",
    "          no_threads=1, verbose=True)\n",
    "glove.add_dictionary(corpus_model.dictionary)"
   ]
  },
  {
   "cell_type": "code",
   "execution_count": 29,
   "metadata": {},
   "outputs": [
    {
     "data": {
      "text/plain": [
       "[('REAL', 0.89987088113282843),\n",
       " ('breaks', 0.88416794841939395),\n",
       " ('benefits', 0.88332710472648124),\n",
       " ('tied', 0.87052732210974348),\n",
       " ('Sending', 0.86707872006968378),\n",
       " ('draws', 0.86663262426448606),\n",
       " ('comfort', 0.86654678073457414),\n",
       " ('smooth', 0.86548382695436055),\n",
       " ('wings', 0.86529163818535237)]"
      ]
     },
     "execution_count": 29,
     "metadata": {},
     "output_type": "execute_result"
    }
   ],
   "source": [
    "glove.most_similar('Moss', number=10)"
   ]
  },
  {
   "cell_type": "code",
   "execution_count": 28,
   "metadata": {},
   "outputs": [
    {
     "data": {
      "text/plain": [
       "[('bowel', 0.9099161624908447),\n",
       " ('tuesday', 0.9052108526229858),\n",
       " ('duper', 0.8764516711235046),\n",
       " ('Bowl', 0.8174033164978027),\n",
       " ('bowls', 0.7879244089126587),\n",
       " ('superbowl', 0.7759333848953247),\n",
       " ('BowlReuters\\r\\nhttptinyurlcom3696qp', 0.70318603515625),\n",
       " ('gear', 0.6963508129119873),\n",
       " ('Bowls', 0.6850531101226807),\n",
       " ('Superbowl', 0.6809587478637695)]"
      ]
     },
     "execution_count": 28,
     "metadata": {},
     "output_type": "execute_result"
    }
   ],
   "source": [
    "model.most_similar('bowl')"
   ]
  },
  {
   "cell_type": "code",
   "execution_count": null,
   "metadata": {
    "collapsed": true
   },
   "outputs": [],
   "source": []
  }
 ],
 "metadata": {
  "kernelspec": {
   "display_name": "Python 3",
   "language": "python",
   "name": "python3"
  },
  "language_info": {
   "codemirror_mode": {
    "name": "ipython",
    "version": 3
   },
   "file_extension": ".py",
   "mimetype": "text/x-python",
   "name": "python",
   "nbconvert_exporter": "python",
   "pygments_lexer": "ipython3",
   "version": "3.6.2"
  }
 },
 "nbformat": 4,
 "nbformat_minor": 2
}
