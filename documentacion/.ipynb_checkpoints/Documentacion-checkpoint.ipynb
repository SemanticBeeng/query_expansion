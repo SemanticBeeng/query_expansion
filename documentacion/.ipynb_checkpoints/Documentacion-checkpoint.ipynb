{
 "cells": [
  {
   "cell_type": "markdown",
   "metadata": {},
   "source": [
    "# Expansión de consultas usando word embeddings\n",
    "\n",
    "## Setup\n",
    "Antes de ejecutar este notebook asegurate de que elasticsearch está iniciado. Además los tweets deben estar indexados. Para indexarlos ejecuta el script 'index.py'. \n",
    "\n",
    "## Importando las librerías\n",
    "Lo primero que vamos a hacer será importar las librerías que se usarán a lo largo de este trabajo:"
   ]
  },
  {
   "cell_type": "code",
   "execution_count": 92,
   "metadata": {},
   "outputs": [
    {
     "name": "stdout",
     "output_type": "stream",
     "text": [
      "The memory_profiler extension is already loaded. To reload it, use:\n",
      "  %reload_ext memory_profiler\n"
     ]
    }
   ],
   "source": [
    "import re\n",
    "import string\n",
    "\n",
    "import elasticsearch.helpers\n",
    "import matplotlib as mpl\n",
    "import matplotlib.pyplot as plt\n",
    "import numpy as np\n",
    "\n",
    "from adjustText import adjust_text\n",
    "from elasticsearch import Elasticsearch, helpers\n",
    "from elasticsearch_dsl import Search, Q\n",
    "from gensim.models import word2vec\n",
    "from glove import Glove\n",
    "from glove import Corpus\n",
    "from memory_profiler import memory_usage\n",
    "from sklearn.decomposition import PCA\n",
    "from stop_words import get_stop_words\n",
    "\n",
    "%load_ext memory_profiler\n",
    "%matplotlib inline"
   ]
  },
  {
   "cell_type": "markdown",
   "metadata": {},
   "source": [
    "Ahora vamos a iniciar la conexión con ElasticSearch. Además, indicamos el nombre de la colección dónde se realizarán las consultas, y añadimos las consultas que se expandirán posteriormente."
   ]
  },
  {
   "cell_type": "code",
   "execution_count": 3,
   "metadata": {
    "collapsed": true
   },
   "outputs": [],
   "source": [
    "client = Elasticsearch()\n",
    "index = '2008-feb-02-04-en'\n",
    "queries = ['American Football Conference', 'David Tyree','defensive end', 'Eli Manning','football', 'Glendale',\n",
    "           'Laurence Maroney', 'Miami Dolphins', 'Michael Strahan', 'National Football Conference',\n",
    "           'National Football League', 'New England Patriots', 'New York', 'New York Giants', 'NFL', \n",
    "           'Plaxico Burress', 'quarterback', 'Randy Moss', 'running back', 'Super Bowl',\n",
    "           'University of Phoenix', 'Wide receiver', 'XLII']"
   ]
  },
  {
   "cell_type": "markdown",
   "metadata": {},
   "source": [
    "## Entrenamiento de los modelos\n",
    "Lo primero que necesitamos hacer es entrenar ambos modelos. Para entrenarlos utilizaremos la colección de tweets completa. Dado que contamos con una cantidad de documentos relativamente grande (390000), vamos a crear una clase que vaya generando una lista de palabras de cada tweet de la colección de manera perezosa. De esta manera no tendremos que guardar todos los tweets en una lista en memoria RAM. Los modelos reciben un iterable como parámetro para poder entrenarlos. Lo único que tenemos que hacer es implementar la función predefinida de python \\_\\_iter\\_\\_ para que los objetos que creemos de la clase se comporten como un iterable cualquiera.\n",
    "\n",
    "Por último, cabe destacar que antes de devolver cada palabra en el generador realizamos un pequeño preprocesamiento para mejorar el rendimiento tanto de Word2Vec como de Glove. En primer lugar, eliminaremos las palabras vacías de cada tweet. La lista de palabras vacías se obtuvo usando la librería externa stop-words. Además, también eliminaremos los signos de puntuación de cada palabra (así nos evitaremos tener que distinguir 'super,' de 'super' por ejemplo). En el caso de que la palabra sea un enlace a una página externa entonces no eliminaremos los símbolos de puntuación."
   ]
  },
  {
   "cell_type": "code",
   "execution_count": 90,
   "metadata": {
    "collapsed": true
   },
   "outputs": [],
   "source": [
    "class SentencesGenerator:\n",
    "    def __init__(self, client, index):\n",
    "        self.s = Search(using=client, index=index)\n",
    "    \n",
    "    def __iter__(self):\n",
    "        # creamos una tabla de traducción que usaremos para eliminar los simbolos de puntuación.\n",
    "        remove_punctuation_map = dict((ord(char), None) for char in string.punctuation)\n",
    "        stop_words = get_stop_words('english')\n",
    "        for tweet in self.s.scan():\n",
    "            # eliminamos los simbolos de puntuacion de cada palabra\n",
    "            # siempre y cuando la palabra no sea un enlace a otra pagina\n",
    "            words = [word.translate(remove_punctuation_map) if not word.startswith('http') else word \n",
    "                     for word in re.split(' | , | . | \\n | \\r', tweet.text) if word not in stop_words]\n",
    "            # eliminamos las palabras que hayan quedado vacías\n",
    "            words = [word for word in words if len(word) is not 0]\n",
    "            yield words\n",
    "\n",
    "\n",
    "sentences_generator = SentencesGenerator(client, index)"
   ]
  },
  {
   "cell_type": "markdown",
   "metadata": {},
   "source": [
    "### Entrenamiento de Word2Vec\n",
    "La implementación de Word2Vec de gensim hace que sea muy sencillo entrenar el modelo. Lo único que tendremos que tener en cuenta son los parámetros que le suministramos al constructor. A continuación se muestra una pequeña descripción de cada parámetro usado:\n",
    "- El primer parámetro es el iterable mencionado anteriormente que va generando cada tweet con las palabras separadas.\n",
    "- En segundo lugar, queremos que los vectores generados por word2vec tengan una dimension igual a 100.\n",
    "- En el tercer parámetro indicamos que Word2Vec tenga en cuenta las 5 palabras próximas a la palabra dada.\n",
    "- El cuarto parámetro indica que sólo se añadan al vocabulario generado por word2vec aquellas palabras que aparezcan como mínimo 5 veces en la colección. De esta manera eliminaremos muchas palabras con errores ortográficos, links que se añaden a muchos tweets, o palabras que sólo tienen sentido entre pequeños grupos de personas y por consiguiente no aparecen muchas veces (por ejemplo, motes).\n",
    "- Por último, indicamos que sólo se utilice un thread a la hora de entrenar el modelo. Esto se debe a que si utilizábamos más de 1 thread se observaban pequeñas variaciones en los vectores obtenidos cada vez que se ejecutaba el script. Con un thread nos aseguramos de obtener resultados deterministas cada vez que entrenemos el modelo."
   ]
  },
  {
   "cell_type": "code",
   "execution_count": 93,
   "metadata": {
    "collapsed": true
   },
   "outputs": [],
   "source": [
    "w2v_model = word2vec.Word2Vec(sentences_generator, size=100, window=5, min_count=10, workers=1)"
   ]
  },
  {
   "cell_type": "code",
   "execution_count": 94,
   "metadata": {
    "scrolled": true
   },
   "outputs": [
    {
     "data": {
      "text/plain": [
       "[('Peyton', 0.9237304925918579),\n",
       " ('MVP', 0.9192789196968079),\n",
       " ('touchdown', 0.8899437189102173),\n",
       " ('upset', 0.8844238519668579),\n",
       " ('Moss', 0.8818172216415405),\n",
       " ('Pats', 0.8744906783103943),\n",
       " ('offense', 0.8653679490089417),\n",
       " ('Burress', 0.859954833984375),\n",
       " ('Tyree', 0.8597304821014404),\n",
       " ('TD', 0.8525575399398804)]"
      ]
     },
     "execution_count": 94,
     "metadata": {},
     "output_type": "execute_result"
    }
   ],
   "source": [
    "w2v_model.wv.most_similar(['Eli','Manning'])"
   ]
  },
  {
   "cell_type": "code",
   "execution_count": 116,
   "metadata": {},
   "outputs": [
    {
     "data": {
      "text/plain": [
       "[('Event', 0.8862435817718506),\n",
       " ('Center', 0.879347026348114),\n",
       " ('Events', 0.868866503238678),\n",
       " ('Edition', 0.8617298007011414),\n",
       " ('Virtual', 0.8599656820297241),\n",
       " ('Community', 0.8553868532180786),\n",
       " ('Photos', 0.8524652123451233),\n",
       " ('Tech', 0.8478562831878662),\n",
       " ('Institute', 0.8421452045440674),\n",
       " ('Release', 0.8413378000259399)]"
      ]
     },
     "execution_count": 116,
     "metadata": {},
     "output_type": "execute_result"
    }
   ],
   "source": [
    "w2v_model.wv.most_similar('Conference')"
   ]
  },
  {
   "cell_type": "markdown",
   "metadata": {
    "collapsed": true
   },
   "source": [
    "### Entrenando el modelo de Glove\n",
    "Ahora vamos a entrenar el modelo de Glove utilizando el mismo generador"
   ]
  },
  {
   "cell_type": "code",
   "execution_count": 96,
   "metadata": {
    "collapsed": true
   },
   "outputs": [],
   "source": [
    "corpus = Corpus()\n",
    "corpus.fit(sentences_generator, window=5)"
   ]
  },
  {
   "cell_type": "code",
   "execution_count": 97,
   "metadata": {
    "collapsed": true,
    "scrolled": true
   },
   "outputs": [],
   "source": [
    "glove_model = Glove(no_components=100, learning_rate=0.025)\n",
    "glove_model.fit(corpus.matrix, epochs=10,\n",
    "                no_threads=1, verbose=False)\n",
    "glove_model.add_dictionary(corpus.dictionary)"
   ]
  },
  {
   "cell_type": "code",
   "execution_count": 98,
   "metadata": {},
   "outputs": [
    {
     "data": {
      "text/plain": [
       "[('1714', 0.96376919760450153),\n",
       " ('previo', 0.95291794317010503),\n",
       " ('history', 0.93825287065182394),\n",
       " ('winning', 0.92769844075918328),\n",
       " ('Pats', 0.92718814478314093),\n",
       " ('win', 0.91578659584205568),\n",
       " ('Patriots', 0.91577983928081252),\n",
       " ('fans', 0.91132614400105671),\n",
       " ('Win', 0.91070458572330892)]"
      ]
     },
     "execution_count": 98,
     "metadata": {},
     "output_type": "execute_result"
    }
   ],
   "source": [
    "glove_model.most_similar('NFL', number=10)"
   ]
  },
  {
   "cell_type": "markdown",
   "metadata": {},
   "source": [
    "## Dibujando vectores de palabras\n",
    "Ahora vamos a dibujar un gráfico que nos ayude a visualizar el modelo que utiliza Word2Vec para determinar que palabras son similares a una palabra dada. En el constructor de Word2Vec uno de los parámetros que se le introdujo fue 'size=100'. Esto quiere decir que cada palabra de los documentos de entrenamiento se representa en el modelo utilizándo un vector de 100 dimensiones."
   ]
  },
  {
   "cell_type": "code",
   "execution_count": 100,
   "metadata": {},
   "outputs": [
    {
     "data": {
      "text/plain": [
       "100"
      ]
     },
     "execution_count": 100,
     "metadata": {},
     "output_type": "execute_result"
    }
   ],
   "source": [
    "len(w2v_model.wv['football'])"
   ]
  },
  {
   "cell_type": "markdown",
   "metadata": {},
   "source": [
    "Las palabras que suelan aparecer en el mismo contexto tendrán unos vectores parecidos, mientras que las palabras que no tengan nada en común tenderán a estar alejadas. Para poder ver esta relación vamos a reducir la dimensionalidad de algunos vectores a 2 dimensiones utilizando la técnica de PCA (Principal Component Analysis):"
   ]
  },
  {
   "cell_type": "code",
   "execution_count": 101,
   "metadata": {
    "collapsed": true
   },
   "outputs": [],
   "source": [
    "X_train = [w2v_model.wv[word] for word in w2v_model.wv.vocab]\n",
    "\n",
    "queries_split_words = [query.split(' ') for query in queries]\n",
    "words = set()\n",
    "for query in queries_split_words:\n",
    "    for word in query:\n",
    "        words.add(word)\n",
    "    \n",
    "    \n",
    "X = [w2v_model.wv[word] for word in words]\n",
    "pca = PCA(n_components=2)\n",
    "pca.fit(X_train)\n",
    "result = pca.transform(X)"
   ]
  },
  {
   "cell_type": "markdown",
   "metadata": {},
   "source": [
    "Ahora que tenemos los vectores en 2 dimensiones, podemos realizar un scatter plot y dibujar cada palabra en el plano:"
   ]
  },
  {
   "cell_type": "code",
   "execution_count": 102,
   "metadata": {
    "cell_style": "center",
    "scrolled": false
   },
   "outputs": [
    {
     "data": {
      "image/png": "[encoded data removed]",
      "text/plain": [
       "<matplotlib.figure.Figure at 0x1189ebac8>"
      ]
     },
     "metadata": {},
     "output_type": "display_data"
    }
   ],
   "source": [
    "plt.style.use('seaborn-poster')\n",
    "\n",
    "plt.title('Visualización de los vectores de palabras')\n",
    "plt.xlabel('x')\n",
    "plt.ylabel('y')\n",
    "plt.scatter(result[:,0], result[:,1])\n",
    "\n",
    "texts = []\n",
    "for i, word in enumerate(words):\n",
    "    texts.append(plt.text(result[i,0], result[i,1], word))\n",
    "\n",
    "adjust_text(texts, force_text=0.55, arrowprops=dict(arrowstyle=\"-|>\", color='r', lw=0.6))\n",
    "\n",
    "plt.tight_layout()\n",
    "plt.show()"
   ]
  },
  {
   "cell_type": "markdown",
   "metadata": {
    "collapsed": true
   },
   "source": [
    "## Expansión de consultas\n",
    "\n",
    "En el caso de wor2vec vamos a pasarle "
   ]
  },
  {
   "cell_type": "code",
   "execution_count": 119,
   "metadata": {
    "collapsed": true
   },
   "outputs": [],
   "source": [
    "def get_expanded_query_w2v(model, q0, k=5):\n",
    "    qe = []\n",
    "    for word in q0.split(' '):\n",
    "        expanded_words = [pair[0] for pair in model.most_similar(word)[:k]]\n",
    "        expanded_words.append(word)\n",
    "        qe.append(expanded_words)\n",
    "    return qe\n",
    "    \n",
    "    \n",
    "def get_expanded_query_glove(model, q0, k=5):\n",
    "    qe = []\n",
    "    for word in q0.split(' '):\n",
    "        expanded_words = [pair[0] for pair in model.most_similar(word, number=k + 1)]\n",
    "        expanded_words.append(word)\n",
    "        qe.append(expanded_words)\n",
    "    return qe\n",
    "\n",
    "\n",
    "def get_elasticsearch_result(terms, client, index, num_results=10):\n",
    "    \"\"\" Metodo que realiza una consulta a ElasticSearch sobre los\n",
    "    términos 'terms' utilizando el cliente e index dados y devuelve\n",
    "    uan lista con 'num_result' tweets tras aplicar la consulta.\n",
    "    \"\"\"\n",
    "    queries = []\n",
    "    for term in terms:\n",
    "        queries.append(Q('match', text=' '.join(term)))\n",
    "    q = Q('bool', should=queries)\n",
    "    s = Search(using=client, index=index).query(q)\n",
    "    result = [(res.text, res.meta.score) for res in s[:1000]]\n",
    "    return result\n",
    "\n",
    "\n",
    "def get_most_improved_tweet(original_tweets, expanded_tweets):\n",
    "    pass"
   ]
  },
  {
   "cell_type": "markdown",
   "metadata": {},
   "source": [
    "### Super Bowl\n",
    "Vamos a empezar con la consulta 'Super Bowl'."
   ]
  },
  {
   "cell_type": "code",
   "execution_count": 123,
   "metadata": {
    "cell_style": "center",
    "collapsed": true
   },
   "outputs": [],
   "source": [
    "start_query = \"Super Bowl\"\n",
    "num_expanded_words = 5\n",
    "result_q0 = get_elasticsearch_result([['Super'], ['Bowl']], client, index)\n",
    "\n",
    "qe_w2v = get_expanded_query_w2v(w2v_model, start_query)\n",
    "result_w2v = get_elasticsearch_result(qe_w2v, client, index)\n",
    "\n",
    "qe_glove = get_expanded_query_glove(glove_model, start_query)\n",
    "result_glove = get_elasticsearch_result(qe_glove, client, index)"
   ]
  },
  {
   "cell_type": "markdown",
   "metadata": {
    "variables": {
     "result_q0[0][0]": "Super Bowl, baby, Super Bowl ... go Pats!",
     "result_q0[1][0]": "super bowl? super martinis!",
     "result_q0[2][0]": "super bowl? or puppy bowl?",
     "result_q0[3][0]": "super bowl?!",
     "result_q0[4][0]": "Super Bowl!!!!!",
     "result_q0[5][0]": "Super Bowl！",
     "result_q0[6][0]": "Super bowl :)",
     "result_q0[7][0]": "Super Bowl.",
     "result_q0[8][0]": "super bowl!!",
     "result_q0[9][0]": "Super Tuesday not Super Bowl."
    }
   },
   "source": [
    "Resultados consulta original:\n",
    "\n",
    "| resultado | relevante | razón |\n",
    "|:-----:|:----:|:---:|\n",
    "|{{result_q0[0][0]}}   |No  |  |\n",
    "|{{result_q0[1][0]}}   |No | Aquí va el motivo por el que el tweet es relevante o no. |\n",
    "|{{result_q0[2][0]}}   |No | Vale. |\n",
    "|{{result_q0[3][0]}}   |No | |\n",
    "|{{result_q0[4][0]}}   |No | Vale. |\n",
    "|{{result_q0[5][0]}}   |No | |\n",
    "|{{result_q0[6][0]}}   |No | Vale. |\n",
    "|{{result_q0[7][0]}}   |Sí |  |\n",
    "|{{result_q0[8][0]}}   |Sí | Vale. |\n",
    "|{{result_q0[9][0]}}   |No | Repetido encima |"
   ]
  },
  {
   "cell_type": "markdown",
   "metadata": {
    "cell_style": "center",
    "variables": {
     "result_w2v[0][0]": "Playing Super Mario Galaxy.",
     "result_w2v[1][0]": "just finished Super Mario Galaxy... great fun",
     "result_w2v[2][0]": "Friday night decision: Super Mario Galaxy or Team Fortress 2?",
     "result_w2v[3][0]": "playing mario galaxy",
     "result_w2v[4][0]": "jeanette just pwned super mario galaxy... eat that blee!!",
     "result_w2v[5][0]": "Super Mario Galaxy for the Wii is totally badass!",
     "result_w2v[6][0]": "Playing mario galaxy. So good.",
     "result_w2v[7][0]": "super bowl? or puppy bowl?"
    }
   },
   "source": [
    "Resultados Word2Vec:\n",
    "\n",
    "| resultado | relevante | razón |\n",
    "| :-----: |:----:|:---:|\n",
    "|{{result_w2v[0][0]}}   |No  |  |\n",
    "|{{result_w2v[1][0]}}   |No | Aquí va el motivo por el que el tweet es relevante o no. |\n",
    "|{{result_w2v[2][0]}}   |No | Vale. |\n",
    "|{{result_w2v[3][0]}}   |No | |\n",
    "|{{result_w2v[4][0]}}   |No | Vale. |\n",
    "|{{result_w2v[5][0]}}   |No | |\n",
    "|{{result_w2v[6][0]}}   |No | Vale. |\n",
    "|{{result_w2v[7][0]}}   |Sí |  |\n",
    "|Mayors bet food on Super Bowl(Reuters) http://tinyurl.com/3696qp  |Sí | Vale. |\n",
    "|Mayors bet food on Super Bowl(Reuters) http://tinyurl.com/3696qp   |No | Repetido encima |"
   ]
  },
  {
   "cell_type": "markdown",
   "metadata": {
    "variables": {
     "result_glove[0][0]": "Super Bowl XLII Commercials <a href=\"http://tinyurl.com/2r8r83\">http://tinyurl.com/2r8r83</a>",
     "result_glove[1][0]": "Super Bowl XLII commercials  <a href=\"http://tinyurl.com/3a6p4r\">http://tinyurl.com/3a6p4r</a>",
     "result_glove[2][0]": "Super Bowl XLII Commercials - First Quarter <a href=\"http://tinyurl.com/33youe\">http://tinyurl.com/33youe</a>",
     "result_glove[3][0]": "Super Bowl XLII Commercials - Third Quarter <a href=\"http://tinyurl.com/3y2p2a\">http://tinyurl.com/3y2p2a</a>",
     "result_glove[4][0]": "Super Bowl XLII Commercials - Second Quarter <a href=\"http://tinyurl.com/2nmqfj\">http://tinyurl.com/2nmqfj</a>",
     "result_glove[5][0]": "Super Bowl XLII Commercials - Forth Quarter <a href=\"http://tinyurl.com/36az42\">http://tinyurl.com/36az42</a>",
     "result_glove[6][0]": "&quot;UPDATED! Adland&#39;s Super Bowl XLII Commercials Spoiler! <a href=\"http://tinyurl.com/2ksh8x\">http://tinyurl.com/2ksh8x</a>&quot;",
     "result_glove[7][0]": "New blog post: Live Coverage of Super Bowl XLII and Super Bowl XLII Commercials <a href=\"http://tinyurl.com/3abjez\">http://tinyurl.com/3abjez</a>",
     "result_glove[8][0]": "Super Bowl XLII starts!",
     "result_glove[9][0]": "Not watching Super Bowl XLII"
    }
   },
   "source": [
    "Resultados Glove:\n",
    "\n",
    "| resultado | relevante | razón |\n",
    "| :-----: |:----:|:---:|\n",
    "|{{result_glove[0][0]}}   |No  | No lo sé |\n",
    "|{{result_glove[1][0]}}   |Sí | Aquí va el motivo por el que el tweet es relevante o no. |\n",
    "|{{result_glove[2][0]}}   |No | Vale. |\n",
    "|{{result_glove[3][0]}}   |Sí | |\n",
    "|{{result_glove[4][0]}}   |No | Vale. |\n",
    "|{{result_glove[5][0]}}   |Sí | |\n",
    "|{{result_glove[6][0]}}   |No | Vale. |\n",
    "|{{result_glove[7][0]}}   |Sí |  |\n",
    "|{{result_glove[8][0]}}   |No | Vale. |\n",
    "|{{result_glove[9][0]}}   |No | Repetido encima |"
   ]
  },
  {
   "cell_type": "markdown",
   "metadata": {},
   "source": [
    "### NFL\n",
    "TODO"
   ]
  },
  {
   "cell_type": "code",
   "execution_count": null,
   "metadata": {
    "collapsed": true
   },
   "outputs": [],
   "source": []
  },
  {
   "cell_type": "markdown",
   "metadata": {},
   "source": [
    "### Eli Manning\n",
    "TODO"
   ]
  },
  {
   "cell_type": "code",
   "execution_count": null,
   "metadata": {
    "collapsed": true
   },
   "outputs": [],
   "source": []
  },
  {
   "cell_type": "markdown",
   "metadata": {},
   "source": [
    "### "
   ]
  },
  {
   "cell_type": "markdown",
   "metadata": {
    "collapsed": true
   },
   "source": [
    "## Comparativa del rendimiento de los modelos\n",
    "En este apartado vamos a relizar una serie de mediciones sobre ambos modelos para ver "
   ]
  },
  {
   "cell_type": "code",
   "execution_count": 29,
   "metadata": {},
   "outputs": [
    {
     "name": "stdout",
     "output_type": "stream",
     "text": [
      "2min 7s ± 0 ns per loop (mean ± std. dev. of 1 run, 1 loop each)\n",
      "2min 44s ± 0 ns per loop (mean ± std. dev. of 1 run, 1 loop each)\n"
     ]
    }
   ],
   "source": [
    "def word2vec_benchmark(size=100, window=5, alpha=0.025, min_count=5, num_threads=1):\n",
    "    word2vec.Word2Vec(sentences_generator, size=size, window=window,\n",
    "                      alpha=alpha, min_count=min_count, workers=num_threads)\n",
    "    \n",
    "\n",
    "def glove_benchmark(window=5, size=100, alpha=0.05, epochs=10, num_threads=1):\n",
    "    corpus_model = Corpus()\n",
    "    corpus_model.fit(sentences_generator, window=window)\n",
    "    glove = Glove(no_components=size, learning_rate=alpha)\n",
    "    glove.fit(corpus_model.matrix, epochs=epochs,\n",
    "              no_threads=1, verbose=False)\n",
    "\n",
    "mem_usage_glove = memory_usage((glove_benchmark, (), {}))\n",
    "mem_usage_w2v = memory_usage((word2vec_benchmark, (), {}))\n",
    "time_glove = %timeit -n1 -r1 -o -q glove_benchmark()\n",
    "time_w2v = %timeit -n1 -r1 -o -q word2vec_benchmark()"
   ]
  },
  {
   "cell_type": "code",
   "execution_count": 30,
   "metadata": {
    "scrolled": false
   },
   "outputs": [
    {
     "data": {
      "image/png": "[encoded data removed]",
      "text/plain": [
       "<matplotlib.figure.Figure at 0x11ee059e8>"
      ]
     },
     "metadata": {},
     "output_type": "display_data"
    }
   ],
   "source": [
    "# plot de memoria usada por ambos modelos\n",
    "plt.subplot(121)\n",
    "plt.plot(np.arange(len(mem_usage_w2v)) * 0.1, mem_usage_w2v, 'b', label='word2vec')\n",
    "plt.plot(np.arange(len(mem_usage_glove)) * 0.1, mem_usage_glove, 'r', label='glove')\n",
    "plt.xlabel(\"Tiempo (s)\")\n",
    "plt.ylabel(\"Memoria usada (mb)\")\n",
    "plt.title(\"Memoria consumida por los dos modelos\")\n",
    "plt.legend()\n",
    "\n",
    "# plot de tiempo que tardó cada modelo en entrenarse\n",
    "plt.subplot(122)\n",
    "xlabels = [\"Word2Vec\", \"Glove\"]\n",
    "x = [0, 1]\n",
    "y = [time_w2v.average, time_glove.average]\n",
    "plt.bar([0], time_w2v.average)\n",
    "plt.bar([1], time_glove.average)\n",
    "plt.title(\"Tiempo de entramiento de ambos modelos\")\n",
    "plt.xlabel(\"Modelo empleado\")\n",
    "plt.ylabel(\"Tiempo (s)\")\n",
    "plt.xticks(x, xlabels)\n",
    "\n",
    "plt.tight_layout()\n",
    "plt.show()"
   ]
  },
  {
   "cell_type": "code",
   "execution_count": 79,
   "metadata": {
    "scrolled": false
   },
   "outputs": [
    {
     "ename": "NameError",
     "evalue": "name 'word2vec_benchmark' is not defined",
     "output_type": "error",
     "traceback": [
      "\u001b[0;31m---------------------------------------------------------------------------\u001b[0m",
      "\u001b[0;31mNameError\u001b[0m                                 Traceback (most recent call last)",
      "\u001b[0;32m<ipython-input-79-cafceb38c2dd>\u001b[0m in \u001b[0;36m<module>\u001b[0;34m()\u001b[0m\n\u001b[1;32m      4\u001b[0m \u001b[0my_2\u001b[0m \u001b[0;34m=\u001b[0m \u001b[0;34m[\u001b[0m\u001b[0;34m]\u001b[0m\u001b[0;34m\u001b[0m\u001b[0m\n\u001b[1;32m      5\u001b[0m \u001b[0;32mfor\u001b[0m \u001b[0mi\u001b[0m \u001b[0;32min\u001b[0m \u001b[0mx\u001b[0m\u001b[0;34m:\u001b[0m\u001b[0;34m\u001b[0m\u001b[0m\n\u001b[0;32m----> 6\u001b[0;31m     \u001b[0mtime_w2v\u001b[0m \u001b[0;34m=\u001b[0m \u001b[0mget_ipython\u001b[0m\u001b[0;34m(\u001b[0m\u001b[0;34m)\u001b[0m\u001b[0;34m.\u001b[0m\u001b[0mmagic\u001b[0m\u001b[0;34m(\u001b[0m\u001b[0;34m'timeit -n1 -r1 -o -q word2vec_benchmark(alpha=i)'\u001b[0m\u001b[0;34m)\u001b[0m\u001b[0;34m\u001b[0m\u001b[0m\n\u001b[0m\u001b[1;32m      7\u001b[0m     \u001b[0my_1\u001b[0m\u001b[0;34m.\u001b[0m\u001b[0mappend\u001b[0m\u001b[0;34m(\u001b[0m\u001b[0mtime_w2v\u001b[0m\u001b[0;34m.\u001b[0m\u001b[0maverage\u001b[0m\u001b[0;34m)\u001b[0m\u001b[0;34m\u001b[0m\u001b[0m\n\u001b[1;32m      8\u001b[0m     \u001b[0mtime_glove\u001b[0m \u001b[0;34m=\u001b[0m \u001b[0mget_ipython\u001b[0m\u001b[0;34m(\u001b[0m\u001b[0;34m)\u001b[0m\u001b[0;34m.\u001b[0m\u001b[0mmagic\u001b[0m\u001b[0;34m(\u001b[0m\u001b[0;34m'timeit -n1 -r1 -o -q glove_benchmark(alpha=1)'\u001b[0m\u001b[0;34m)\u001b[0m\u001b[0;34m\u001b[0m\u001b[0m\n",
      "\u001b[0;32m~/anaconda/envs/elasticsearch/lib/python3.6/site-packages/IPython/core/interactiveshell.py\u001b[0m in \u001b[0;36mmagic\u001b[0;34m(self, arg_s)\u001b[0m\n\u001b[1;32m   2144\u001b[0m         \u001b[0mmagic_name\u001b[0m\u001b[0;34m,\u001b[0m \u001b[0m_\u001b[0m\u001b[0;34m,\u001b[0m \u001b[0mmagic_arg_s\u001b[0m \u001b[0;34m=\u001b[0m \u001b[0marg_s\u001b[0m\u001b[0;34m.\u001b[0m\u001b[0mpartition\u001b[0m\u001b[0;34m(\u001b[0m\u001b[0;34m' '\u001b[0m\u001b[0;34m)\u001b[0m\u001b[0;34m\u001b[0m\u001b[0m\n\u001b[1;32m   2145\u001b[0m         \u001b[0mmagic_name\u001b[0m \u001b[0;34m=\u001b[0m \u001b[0mmagic_name\u001b[0m\u001b[0;34m.\u001b[0m\u001b[0mlstrip\u001b[0m\u001b[0;34m(\u001b[0m\u001b[0mprefilter\u001b[0m\u001b[0;34m.\u001b[0m\u001b[0mESC_MAGIC\u001b[0m\u001b[0;34m)\u001b[0m\u001b[0;34m\u001b[0m\u001b[0m\n\u001b[0;32m-> 2146\u001b[0;31m         \u001b[0;32mreturn\u001b[0m \u001b[0mself\u001b[0m\u001b[0;34m.\u001b[0m\u001b[0mrun_line_magic\u001b[0m\u001b[0;34m(\u001b[0m\u001b[0mmagic_name\u001b[0m\u001b[0;34m,\u001b[0m \u001b[0mmagic_arg_s\u001b[0m\u001b[0;34m)\u001b[0m\u001b[0;34m\u001b[0m\u001b[0m\n\u001b[0m\u001b[1;32m   2147\u001b[0m \u001b[0;34m\u001b[0m\u001b[0m\n\u001b[1;32m   2148\u001b[0m     \u001b[0;31m#-------------------------------------------------------------------------\u001b[0m\u001b[0;34m\u001b[0m\u001b[0;34m\u001b[0m\u001b[0m\n",
      "\u001b[0;32m~/anaconda/envs/elasticsearch/lib/python3.6/site-packages/IPython/core/interactiveshell.py\u001b[0m in \u001b[0;36mrun_line_magic\u001b[0;34m(self, magic_name, line)\u001b[0m\n\u001b[1;32m   2065\u001b[0m                 \u001b[0mkwargs\u001b[0m\u001b[0;34m[\u001b[0m\u001b[0;34m'local_ns'\u001b[0m\u001b[0;34m]\u001b[0m \u001b[0;34m=\u001b[0m \u001b[0msys\u001b[0m\u001b[0;34m.\u001b[0m\u001b[0m_getframe\u001b[0m\u001b[0;34m(\u001b[0m\u001b[0mstack_depth\u001b[0m\u001b[0;34m)\u001b[0m\u001b[0;34m.\u001b[0m\u001b[0mf_locals\u001b[0m\u001b[0;34m\u001b[0m\u001b[0m\n\u001b[1;32m   2066\u001b[0m             \u001b[0;32mwith\u001b[0m \u001b[0mself\u001b[0m\u001b[0;34m.\u001b[0m\u001b[0mbuiltin_trap\u001b[0m\u001b[0;34m:\u001b[0m\u001b[0;34m\u001b[0m\u001b[0m\n\u001b[0;32m-> 2067\u001b[0;31m                 \u001b[0mresult\u001b[0m \u001b[0;34m=\u001b[0m \u001b[0mfn\u001b[0m\u001b[0;34m(\u001b[0m\u001b[0;34m*\u001b[0m\u001b[0margs\u001b[0m\u001b[0;34m,\u001b[0m\u001b[0;34m**\u001b[0m\u001b[0mkwargs\u001b[0m\u001b[0;34m)\u001b[0m\u001b[0;34m\u001b[0m\u001b[0m\n\u001b[0m\u001b[1;32m   2068\u001b[0m             \u001b[0;32mreturn\u001b[0m \u001b[0mresult\u001b[0m\u001b[0;34m\u001b[0m\u001b[0m\n\u001b[1;32m   2069\u001b[0m \u001b[0;34m\u001b[0m\u001b[0m\n",
      "\u001b[0;32m<decorator-gen-61>\u001b[0m in \u001b[0;36mtimeit\u001b[0;34m(self, line, cell)\u001b[0m\n",
      "\u001b[0;32m~/anaconda/envs/elasticsearch/lib/python3.6/site-packages/IPython/core/magic.py\u001b[0m in \u001b[0;36m<lambda>\u001b[0;34m(f, *a, **k)\u001b[0m\n\u001b[1;32m    185\u001b[0m     \u001b[0;31m# but it's overkill for just that one bit of state.\u001b[0m\u001b[0;34m\u001b[0m\u001b[0;34m\u001b[0m\u001b[0m\n\u001b[1;32m    186\u001b[0m     \u001b[0;32mdef\u001b[0m \u001b[0mmagic_deco\u001b[0m\u001b[0;34m(\u001b[0m\u001b[0marg\u001b[0m\u001b[0;34m)\u001b[0m\u001b[0;34m:\u001b[0m\u001b[0;34m\u001b[0m\u001b[0m\n\u001b[0;32m--> 187\u001b[0;31m         \u001b[0mcall\u001b[0m \u001b[0;34m=\u001b[0m \u001b[0;32mlambda\u001b[0m \u001b[0mf\u001b[0m\u001b[0;34m,\u001b[0m \u001b[0;34m*\u001b[0m\u001b[0ma\u001b[0m\u001b[0;34m,\u001b[0m \u001b[0;34m**\u001b[0m\u001b[0mk\u001b[0m\u001b[0;34m:\u001b[0m \u001b[0mf\u001b[0m\u001b[0;34m(\u001b[0m\u001b[0;34m*\u001b[0m\u001b[0ma\u001b[0m\u001b[0;34m,\u001b[0m \u001b[0;34m**\u001b[0m\u001b[0mk\u001b[0m\u001b[0;34m)\u001b[0m\u001b[0;34m\u001b[0m\u001b[0m\n\u001b[0m\u001b[1;32m    188\u001b[0m \u001b[0;34m\u001b[0m\u001b[0m\n\u001b[1;32m    189\u001b[0m         \u001b[0;32mif\u001b[0m \u001b[0mcallable\u001b[0m\u001b[0;34m(\u001b[0m\u001b[0marg\u001b[0m\u001b[0;34m)\u001b[0m\u001b[0;34m:\u001b[0m\u001b[0;34m\u001b[0m\u001b[0m\n",
      "\u001b[0;32m~/anaconda/envs/elasticsearch/lib/python3.6/site-packages/IPython/core/magics/execution.py\u001b[0m in \u001b[0;36mtimeit\u001b[0;34m(self, line, cell)\u001b[0m\n\u001b[1;32m   1082\u001b[0m                     \u001b[0;32mbreak\u001b[0m\u001b[0;34m\u001b[0m\u001b[0m\n\u001b[1;32m   1083\u001b[0m \u001b[0;34m\u001b[0m\u001b[0m\n\u001b[0;32m-> 1084\u001b[0;31m         \u001b[0mall_runs\u001b[0m \u001b[0;34m=\u001b[0m \u001b[0mtimer\u001b[0m\u001b[0;34m.\u001b[0m\u001b[0mrepeat\u001b[0m\u001b[0;34m(\u001b[0m\u001b[0mrepeat\u001b[0m\u001b[0;34m,\u001b[0m \u001b[0mnumber\u001b[0m\u001b[0;34m)\u001b[0m\u001b[0;34m\u001b[0m\u001b[0m\n\u001b[0m\u001b[1;32m   1085\u001b[0m         \u001b[0mbest\u001b[0m \u001b[0;34m=\u001b[0m \u001b[0mmin\u001b[0m\u001b[0;34m(\u001b[0m\u001b[0mall_runs\u001b[0m\u001b[0;34m)\u001b[0m \u001b[0;34m/\u001b[0m \u001b[0mnumber\u001b[0m\u001b[0;34m\u001b[0m\u001b[0m\n\u001b[1;32m   1086\u001b[0m         \u001b[0mworst\u001b[0m \u001b[0;34m=\u001b[0m \u001b[0mmax\u001b[0m\u001b[0;34m(\u001b[0m\u001b[0mall_runs\u001b[0m\u001b[0;34m)\u001b[0m \u001b[0;34m/\u001b[0m \u001b[0mnumber\u001b[0m\u001b[0;34m\u001b[0m\u001b[0m\n",
      "\u001b[0;32m~/anaconda/envs/elasticsearch/lib/python3.6/timeit.py\u001b[0m in \u001b[0;36mrepeat\u001b[0;34m(self, repeat, number)\u001b[0m\n\u001b[1;32m    204\u001b[0m         \u001b[0mr\u001b[0m \u001b[0;34m=\u001b[0m \u001b[0;34m[\u001b[0m\u001b[0;34m]\u001b[0m\u001b[0;34m\u001b[0m\u001b[0m\n\u001b[1;32m    205\u001b[0m         \u001b[0;32mfor\u001b[0m \u001b[0mi\u001b[0m \u001b[0;32min\u001b[0m \u001b[0mrange\u001b[0m\u001b[0;34m(\u001b[0m\u001b[0mrepeat\u001b[0m\u001b[0;34m)\u001b[0m\u001b[0;34m:\u001b[0m\u001b[0;34m\u001b[0m\u001b[0m\n\u001b[0;32m--> 206\u001b[0;31m             \u001b[0mt\u001b[0m \u001b[0;34m=\u001b[0m \u001b[0mself\u001b[0m\u001b[0;34m.\u001b[0m\u001b[0mtimeit\u001b[0m\u001b[0;34m(\u001b[0m\u001b[0mnumber\u001b[0m\u001b[0;34m)\u001b[0m\u001b[0;34m\u001b[0m\u001b[0m\n\u001b[0m\u001b[1;32m    207\u001b[0m             \u001b[0mr\u001b[0m\u001b[0;34m.\u001b[0m\u001b[0mappend\u001b[0m\u001b[0;34m(\u001b[0m\u001b[0mt\u001b[0m\u001b[0;34m)\u001b[0m\u001b[0;34m\u001b[0m\u001b[0m\n\u001b[1;32m    208\u001b[0m         \u001b[0;32mreturn\u001b[0m \u001b[0mr\u001b[0m\u001b[0;34m\u001b[0m\u001b[0m\n",
      "\u001b[0;32m~/anaconda/envs/elasticsearch/lib/python3.6/site-packages/IPython/core/magics/execution.py\u001b[0m in \u001b[0;36mtimeit\u001b[0;34m(self, number)\u001b[0m\n\u001b[1;32m    158\u001b[0m         \u001b[0mgc\u001b[0m\u001b[0;34m.\u001b[0m\u001b[0mdisable\u001b[0m\u001b[0;34m(\u001b[0m\u001b[0;34m)\u001b[0m\u001b[0;34m\u001b[0m\u001b[0m\n\u001b[1;32m    159\u001b[0m         \u001b[0;32mtry\u001b[0m\u001b[0;34m:\u001b[0m\u001b[0;34m\u001b[0m\u001b[0m\n\u001b[0;32m--> 160\u001b[0;31m             \u001b[0mtiming\u001b[0m \u001b[0;34m=\u001b[0m \u001b[0mself\u001b[0m\u001b[0;34m.\u001b[0m\u001b[0minner\u001b[0m\u001b[0;34m(\u001b[0m\u001b[0mit\u001b[0m\u001b[0;34m,\u001b[0m \u001b[0mself\u001b[0m\u001b[0;34m.\u001b[0m\u001b[0mtimer\u001b[0m\u001b[0;34m)\u001b[0m\u001b[0;34m\u001b[0m\u001b[0m\n\u001b[0m\u001b[1;32m    161\u001b[0m         \u001b[0;32mfinally\u001b[0m\u001b[0;34m:\u001b[0m\u001b[0;34m\u001b[0m\u001b[0m\n\u001b[1;32m    162\u001b[0m             \u001b[0;32mif\u001b[0m \u001b[0mgcold\u001b[0m\u001b[0;34m:\u001b[0m\u001b[0;34m\u001b[0m\u001b[0m\n",
      "\u001b[0;32m<magic-timeit>\u001b[0m in \u001b[0;36minner\u001b[0;34m(_it, _timer)\u001b[0m\n",
      "\u001b[0;31mNameError\u001b[0m: name 'word2vec_benchmark' is not defined"
     ]
    },
    {
     "data": {
      "image/png": "[encoded data removed]",
      "text/plain": [
       "<matplotlib.figure.Figure at 0x11ac72f60>"
      ]
     },
     "metadata": {},
     "output_type": "display_data"
    }
   ],
   "source": [
    "plt.subplot(221)\n",
    "x = np.arange(0, 1, 0.1)\n",
    "y_1 = []\n",
    "y_2 = []\n",
    "for i in x:\n",
    "    time_w2v = %timeit -n1 -r1 -o -q word2vec_benchmark(alpha=i)\n",
    "    y_1.append(time_w2v.average)\n",
    "    time_glove = %timeit -n1 -r1 -o -q glove_benchmark(alpha=1)\n",
    "    y_2.append(time_glove.average)\n",
    "\n",
    "plt.plot(x, y_1, 'b', label='word2vec')\n",
    "plt.plot(x, y_2, 'r', label='glove')\n",
    "plt.ylabel(\"Tiempo (s)\")\n",
    "plt.xlabel(\"Ratio de aprendizaje\")\n",
    "plt.title(\"Evolución del tiempo en función de alfa\")\n",
    "plt.legend()\n",
    "\n",
    "\n",
    "plt.subplot(222)\n",
    "x = np.arange(50, 300, 20)\n",
    "y_1 = []\n",
    "y_2 = []\n",
    "for i in x:\n",
    "    time_w2v = %timeit -n1 -r1 -o -q word2vec_benchmark(size=i)\n",
    "    y_1.append(time_w2v.average)\n",
    "    time_glove = %timeit -n1 -r1 -o -q glove_benchmark(size=i)\n",
    "    y_2.append(time_glove.average)\n",
    "\n",
    "plt.plot(x, y_1, 'b', label='word2vec')\n",
    "plt.plot(x, y_2, 'r', label='glove')\n",
    "plt.ylabel(\"Tiempo (s)\")\n",
    "plt.xlabel(\"Nº de dimensiones de los vectores\")\n",
    "plt.title(\"Evolución del tiempo en función de las dimensiones de los vectores\")\n",
    "plt.legend()\n",
    "\n",
    "\n",
    "plt.subplot(223)\n",
    "x = [1, 2, 3, 4, 5]\n",
    "y_1 = []\n",
    "y_2 = []\n",
    "for i in x:\n",
    "    time_w2v = %timeit -n1 -r1 -o -q word2vec_benchmark(threads=i)\n",
    "    y_1.append(time_w2v.average)\n",
    "    time_glove = %timeit -n1 -r1 -o -q glove_benchmark(threads=i)\n",
    "    y_2.append(time_glove.average)\n",
    "\n",
    "plt.plot(x, y_1, 'b', label='word2vec')\n",
    "plt.plot(x, y_2, 'r', label='glove')\n",
    "plt.ylabel(\"Tiempo (s)\")\n",
    "plt.xlabel(\"Nº de threads usados\")\n",
    "plt.title(\"Evolución del tiempo en función del número de threads\")\n",
    "plt.legend()\n",
    "\n",
    "\n",
    "plt.subplot(224)\n",
    "x = np.arange(2, 20, 1)\n",
    "y_1 = []\n",
    "y_2 = []\n",
    "for i in x:\n",
    "    time_w2v = %timeit -n1 -r1 -o -q word2vec_benchmark(window=i)\n",
    "    y_1.append(time_w2v.average)\n",
    "    time_glove = %timeit -n1 -r1 -o -q glove_benchmark(window=i)\n",
    "    y_2.append(time_glove.average)\n",
    "\n",
    "plt.plot(x, y_1, 'b', label='word2vec')\n",
    "plt.plot(x, y_2, 'r', label='glove')\n",
    "plt.ylabel(\"Tiempo (s)\")\n",
    "plt.xlabel(\"Tamaño del contexto\")\n",
    "plt.title(\"Evolución del tiempo en función del tamaño del contexto\")\n",
    "plt.legend()\n",
    "\n",
    "\n",
    "plt.tight_layout()\n",
    "plt.show()"
   ]
  }
 ],
 "metadata": {
  "kernelspec": {
   "display_name": "Python 3",
   "language": "python",
   "name": "python3"
  },
  "language_info": {
   "codemirror_mode": {
    "name": "ipython",
    "version": 3
   },
   "file_extension": ".py",
   "mimetype": "text/x-python",
   "name": "python",
   "nbconvert_exporter": "python",
   "pygments_lexer": "ipython3",
   "version": "3.6.2"
  },
  "latex_metadata": {
   "affiliation": "Universidad de Oviedo",
   "author": "Alejandro González Hevia",
   "title": "Expansión de consultas usando word embeddings"
  },
  "toc": {
   "nav_menu": {},
   "number_sections": true,
   "sideBar": true,
   "skip_h1_title": false,
   "toc_cell": false,
   "toc_position": {},
   "toc_section_display": "block",
   "toc_window_display": true
  }
 },
 "nbformat": 4,
 "nbformat_minor": 2
}
