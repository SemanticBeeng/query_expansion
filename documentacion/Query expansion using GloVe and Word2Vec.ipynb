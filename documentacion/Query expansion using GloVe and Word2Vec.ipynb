{
 "cells": [
  {
   "cell_type": "markdown",
   "metadata": {},
   "source": [
    "This notebook was originally written in Spanish. This English version was automatically generated using nbtranslate, so there may be some errors along the notebook. Sorry for the inconveniences."
   ]
  },
  {
   "cell_type": "markdown",
   "metadata": {
    "lang": "en"
   },
   "source": [
    "# Introduction\n",
    "In this document we are going to expand a series of queries using two models based on word embeddings: Word2Vec$^{[1]}$ and Glove$^{[2]}$. At the beginning, we will briefly explain how each of these models and their respective Python libraries work. Subsequently, a small comparison between both models will be made taking into account the P@k obtained in the consultations. Finally, a performance comparison of both models will also be made.\n",
    "\n",
    "# Previous considerations\n",
    "In this document we start with the collection of tweets already indexed in ElasticSearch. This step was done using the _index.py_ script, which is available in the _src_ folder of the delivery. The collection used is the default collection with tweets from February 4, 2008 in English.\n",
    "\n",
    "# Setup\n",
    "The first thing we are going to do is import the libraries that will be used throughout this work. As they are used, we will go on to detail the operation of the most important ones."
   ]
  },
  {
   "cell_type": "code",
   "execution_count": 1,
   "metadata": {
    "collapsed": true,
    "lang": "es"
   },
   "outputs": [],
   "source": [
    "import string\n",
    "import sys\n",
    "\n",
    "import matplotlib as mpl\n",
    "import matplotlib.pyplot as plt\n",
    "import nltk\n",
    "import numpy as np\n",
    "import pandas as pd\n",
    "\n",
    "from adjustText import adjust_text\n",
    "from elasticsearch import Elasticsearch, helpers\n",
    "from elasticsearch_dsl import Search, Q\n",
    "from gensim.models import word2vec\n",
    "from glove import Glove\n",
    "from glove import Corpus\n",
    "from memory_profiler import memory_usage\n",
    "from sklearn.decomposition import PCA\n",
    "from stop_words import get_stop_words\n",
    "\n",
    "%load_ext memory_profiler\n",
    "%matplotlib inline\n",
    "\n",
    "sys.path.append('../src/')"
   ]
  },
  {
   "cell_type": "markdown",
   "metadata": {
    "lang": "es"
   },
   "source": [
    "También iniciaremos la conexión con ElasticSearch. Además, indicamos el nombre de la colección dónde se realizarán las consultas."
   ]
  },
  {
   "cell_type": "markdown",
   "metadata": {
    "lang": "en"
   },
   "source": [
    "We will also initiate the connection with ElasticSearch. In addition, we indicate the name of the collection where the queries will be made."
   ]
  },
  {
   "cell_type": "code",
   "execution_count": 2,
   "metadata": {
    "collapsed": true,
    "lang": "es"
   },
   "outputs": [],
   "source": [
    "client = Elasticsearch()\n",
    "index = '2008-feb-02-04-en'"
   ]
  },
  {
   "cell_type": "markdown",
   "metadata": {
    "lang": "es"
   },
   "source": [
    "# Description of the models\n",
    "Before using each model we will briefly describe how they work. We will not go into detail in the internal workings of each one, but we will clarify what they do in broad strokes so that later when we train each model and see the results we can understand what happens' from behind'.<br> Both models produce as a result vectors that represent each word in the collection. In addition, these vectors also represent the relationships between several words, so by performing several operations between them we can obtain words related to the originals as a result."
   ]
  },
  {
   "cell_type": "markdown",
   "metadata": {
    "lang": "en"
   },
   "source": [
    "## Word2Vec\n",
    "Word2Vec uses a neural network to obtain word vectors from a series of documents. This model can use two different architectures to obtain the vectors:\n",
    "- CBOW: In the case of CBOW (**C**ontinuous **b**ag **o**f **w**ords) , if we have the target word 'super', the input that will be used to train the neural network will be each of the words that surround the word 'super' in the document. The number of close words that are used to train the neural network is the 'context'. From this context, the weights of the hidden layer of the neural network are modified to obtain as a result a vector that represents the word 'super'. In other words, when training the model we try to maximize the probability that the word 'super' will be obtained given the context.\n",
    "- Skip-gram: In this case, using the same example as for the CBOW model, the input to the neural network would be 'super', and the values ​​of the hidden layer would be modified to produce as a result each of the words that are find around 'super' (the context)."
   ]
  },
  {
   "cell_type": "markdown",
   "metadata": {
    "lang": "en"
   },
   "source": [
    "## Glove\n",
    "According to Jeffrey Penington, creator of Glove, the model of Word2Vec is not at all optimal since it does not exploit to the maximum the statistics of each word$^{[3]}$.\n",
    "In the case of GloVe (**Glo** bal **See** ctors for word representation), a co-occurrence matrix is ​​used that represents the statistics of each word to obtain the results . Each value $M_{ij}$ of this matrix represents how often the word i appears in the context of the word j. Once we have this matrix we can proceed to create the word vectors from it. To obtain these vectors we use a regression model quite sencillo$^{[4]}$, but in which we will not go into detail."
   ]
  },
  {
   "cell_type": "markdown",
   "metadata": {
    "lang": "en"
   },
   "source": [
    "# Training the models\n",
    "The first thing we need to do is train both models. To train them we will use the complete collection of tweets. Since we have a relatively large amount of documents (390000) and that is a good practice, we are going to create a class that will generate a list with the words of each tweet in the collection in a lazy way. In this way, we will not have to save all the tweets in the collection in a list in RAM memory.\n",
    "The models receive an iterable as a parameter to be able to train them. All we have to do is implement the predefined python function \\ _\\_ iter \\ _\\_ inside our class so that the objects we create behave as an iterable one.\n",
    "\n",
    "In addition, it is worth noting that before returning every word in the generator we made a small preprocessing to improve the performance of both Word2Vec and Glove. First, we will tokenize the tweet using the nltk library, which contains a module dedicated specifically to tokenize tweets. In addition, we will also eliminate the punctuation marks left by the tokenizer loose. In the event that the word is a link to an external page then we will not delete the punctuation symbols. Finally, we will eliminate the empty words of each tweet. The list of empty words was obtained using the external library _stop-words_ (to this list the word 'Re' was added to eliminate it from the retweets)."
   ]
  },
  {
   "cell_type": "code",
   "execution_count": 3,
   "metadata": {
    "collapsed": true
   },
   "outputs": [],
   "source": [
    "class SentencesGenerator:\n",
    "    def __init__(self, client, index):\n",
    "        self.s = Search(using=client, index=index).query(Q())\n",
    "        self.stop_words = get_stop_words('english')\n",
    "        self.stop_words.append('Re')\n",
    "    \n",
    "    def __iter__(self):\n",
    "        # creamos una tabla de traducción que usaremos para eliminar los simbolos de puntuación.\n",
    "        remove_punctuation_map = dict((ord(char), None) for char in string.punctuation)\n",
    "        for tweet in self.s.scan():\n",
    "            # tokenizamos el tweet\n",
    "            words = nltk.tokenize.casual.casual_tokenize(tweet.text)\n",
    "            \n",
    "            # eliminamos los simbolos de puntuacion sobrantes\n",
    "            words = [word.translate(remove_punctuation_map) for word in words\n",
    "                     if not word.startswith('http')]\n",
    "            \n",
    "            # eliminamos palabras vacias\n",
    "            words = [word for word in words if word != '' and word not in self.stop_words]\n",
    "            yield words\n",
    "\n",
    "\n",
    "sentences_generator = SentencesGenerator(client, index)"
   ]
  },
  {
   "cell_type": "markdown",
   "metadata": {
    "lang": "en"
   },
   "source": [
    "## Word2Vec training\n",
    "The Word2Vec implementation of gensim$^{[6]}$ makes it very easy to train the model. The only thing that we will have to take into account are the parameters that we supply to the constructor. Below is a short description of each parameter used:\n",
    "- The first parameter is the iterable mentioned above that is generated by each tweet with the separated words.\n",
    "- Second, we want that the vectors generated by word2vec have a dimension equal to 100.\n",
    "- In the third parameter we indicate that Word2Vec takes into account the 5 words next to the word given when training the model.\n",
    "- The fourth parameter indicates that only words that appear at least 10 times in the collection are added to the vocabulary generated by word2vec. In this way we will eliminate many words with misspellings, links that are added to many tweets, or words that only make sense among small groups of people and therefore do not appear many times (for example, nicknames).\n",
    "- Finally, we indicate that only one thread is used when training the model. This is because if we used more than 1 thread, small variations were observed in the vectors obtained each time the script was executed. With a thread we make sure to get deterministic results every time we train the model.\n",
    "\n",
    "It should also be noted that the algorithm used is the CBOW (default algorithm)."
   ]
  },
  {
   "cell_type": "code",
   "execution_count": 4,
   "metadata": {},
   "outputs": [],
   "source": [
    "w2v_model = word2vec.Word2Vec(sentences_generator, size=100, window=5, min_count=10, workers=1)"
   ]
  },
  {
   "cell_type": "markdown",
   "metadata": {
    "lang": "en"
   },
   "source": [
    "Now let's check that the model trained correctly by asking the words most similar to _football_:"
   ]
  },
  {
   "cell_type": "code",
   "execution_count": 5,
   "metadata": {},
   "outputs": [
    {
     "data": {
      "text/plain": [
       "[('sports', 0.8340591192245483),\n",
       " ('rugby', 0.769142746925354),\n",
       " ('commercials', 0.7621728181838989),\n",
       " ('superbowl', 0.7548601627349854),\n",
       " ('game', 0.7532534599304199),\n",
       " ('soccer', 0.7483059167861938),\n",
       " ('halftime', 0.7467842102050781),\n",
       " ('SB', 0.7451385259628296),\n",
       " ('patriots', 0.7434816360473633),\n",
       " ('hype', 0.7361529469490051)]"
      ]
     },
     "execution_count": 5,
     "metadata": {},
     "output_type": "execute_result"
    }
   ],
   "source": [
    "w2v_model.wv.most_similar('football')"
   ]
  },
  {
   "cell_type": "markdown",
   "metadata": {
    "lang": "en"
   },
   "source": [
    "As you can see, we get a list with 10 tuples that contain the words most similar to the given word. Each of these tuples stores the word and the level of similarity with the original word."
   ]
  },
  {
   "cell_type": "markdown",
   "metadata": {
    "lang": "en"
   },
   "source": [
    "## Training the Glove model\n",
    "In the case of Glove, the official implementation of the model is implemented in C. Therefore, taking into account the scope of this work, we will use a non-official implementation of the model written in python for convenience.<br> The way to train this model It is a bit different from the one used with Word2Vec. First we will use the class _Corpus_ to generate a co-occurrence matrix from an iterable number of sentences (the same iterable as for Word2Vec will be used). The parameter _window_ that is passed to the corpus has the same utility as in Word2Vec (number of nearby words that are taken into account). Once this is done, we will generate the word vectors from the co-occurrence matrix."
   ]
  },
  {
   "cell_type": "code",
   "execution_count": 6,
   "metadata": {},
   "outputs": [],
   "source": [
    "corpus = Corpus()\n",
    "corpus.fit(sentences_generator, window=5)\n",
    "glove_model = Glove(no_components=100, learning_rate=0.025)\n",
    "glove_model.fit(corpus.matrix, epochs=20,\n",
    "                no_threads=1, verbose=False)\n",
    "glove_model.add_dictionary(corpus.dictionary)"
   ]
  },
  {
   "cell_type": "markdown",
   "metadata": {
    "lang": "en"
   },
   "source": [
    "Now we will check that the modeo was trained correctly, just like with Word2Vec:"
   ]
  },
  {
   "cell_type": "code",
   "execution_count": 7,
   "metadata": {},
   "outputs": [
    {
     "data": {
      "text/plain": [
       "[('game', 0.94516615612233512),\n",
       " ('basketball', 0.93727661271892293),\n",
       " ('movies', 0.92516280325352163),\n",
       " ('tv', 0.91967929552238137),\n",
       " ('commercials', 0.91767825631607869),\n",
       " ('boring', 0.91659161375196796),\n",
       " ('superbowl', 0.90065063328450201),\n",
       " ('hockey', 0.89802726457058746),\n",
       " ('exciting', 0.88653115414210382)]"
      ]
     },
     "execution_count": 7,
     "metadata": {},
     "output_type": "execute_result"
    }
   ],
   "source": [
    "glove_model.most_similar('football', number=10)"
   ]
  },
  {
   "cell_type": "markdown",
   "metadata": {
    "lang": "en"
   },
   "source": [
    "As we can see, once we have trained the models both are used almost identically."
   ]
  },
  {
   "cell_type": "markdown",
   "metadata": {
    "lang": "en"
   },
   "source": [
    "# Drawing word vectors\n",
    "Now that we have the models ready, we will draw a graph that will help us visualize how these models work. We will work with the Word2vec model, although these steps would be totally applicable to Glove as well. First let's check that each vector has 100 dimensions, as we indicated in the Word2Vec constructor:"
   ]
  },
  {
   "cell_type": "code",
   "execution_count": 8,
   "metadata": {},
   "outputs": [
    {
     "data": {
      "text/plain": [
       "100"
      ]
     },
     "execution_count": 8,
     "metadata": {},
     "output_type": "execute_result"
    }
   ],
   "source": [
    "len(w2v_model.wv['football'])"
   ]
  },
  {
   "cell_type": "markdown",
   "metadata": {
    "lang": "en"
   },
   "source": [
    "Words that usually appear in the same context will have similar vectors, while words that have nothing in common will tend to be far apart. In order to see this relationship we are going to reduce the dimensionality of some vectors to 2 dimensions using the PCA (Principal Component Analysis) technique:"
   ]
  },
  {
   "cell_type": "code",
   "execution_count": 9,
   "metadata": {},
   "outputs": [],
   "source": [
    "words = ['American', 'Football', 'Conference', 'David', 'Tyree',\n",
    "         'defensive', 'end', 'Eli', 'Manning', 'football',\n",
    "         'Glendale', 'Laurence', 'Maroney', 'Miami', 'Dolphins',\n",
    "         'Michael', 'Strahan', 'National', 'League', 'England',\n",
    "         'Patriots', 'New', 'York', 'Giants', 'NFL', 'Plaxico',\n",
    "         'Burress', 'quarterback', 'Randy', 'Moss', 'running',\n",
    "         'back', 'Super', 'Bowl', 'Wide', 'receiver']\n",
    "\n",
    "X_train = [w2v_model.wv[word] for word in w2v_model.wv.vocab]\n",
    "X = [w2v_model.wv[word] for word in words]\n",
    "pca = PCA(n_components=2)\n",
    "pca.fit(X_train)\n",
    "result = pca.transform(X)"
   ]
  },
  {
   "cell_type": "markdown",
   "metadata": {
    "lang": "en"
   },
   "source": [
    "Now that we have vectors in 2 dimensions, we can perform a scatter plot and draw each word in the plane:"
   ]
  },
  {
   "cell_type": "code",
   "execution_count": 10,
   "metadata": {
    "cell_style": "center",
    "scrolled": false
   },
   "outputs": [
    {
     "data": {
      "image/png": "[encoded data removed]",
      "text/plain": [
       "<matplotlib.figure.Figure at 0x124728198>"
      ]
     },
     "metadata": {},
     "output_type": "display_data"
    }
   ],
   "source": [
    "plt.style.use('seaborn-poster')\n",
    "\n",
    "plt.title('Visualización de los vectores de palabras')\n",
    "plt.xlabel('x')\n",
    "plt.ylabel('y')\n",
    "plt.scatter(result[:,0], result[:,1])\n",
    "\n",
    "texts = []\n",
    "for i, word in enumerate(words):\n",
    "    texts.append(plt.text(result[i,0], result[i,1], word))\n",
    "\n",
    "adjust_text(texts, force_text=0.55, arrowprops=dict(arrowstyle=\"-|>\", color='r', lw=0.6))\n",
    "\n",
    "plt.tight_layout()\n",
    "plt.show()"
   ]
  },
  {
   "cell_type": "markdown",
   "metadata": {
    "lang": "en"
   },
   "source": [
    "# Query expansion\n",
    "\n",
    "Now let's move on to expand a series of queries about the collection of tweets. The main idea will be to obtain a number k of similar terms for each term of the original query. For this we will start with a query q0: <br><br>\n",
    "$$q_0 = t_1 + t_2 + t_3 + ... + t_n$$\n",
    "<br>\n",
    "Next we obtain the similar terms for each term of q0, and we perform an expanded query qe in this way: <br><br>\n",
    "$$q_e = t_1 + sim(t1) + t_2 + sim(t_2)\\ +\\ ...\\ +\\ t_n + sim(t_n)$$\n",
    "<br>\n",
    "Once we have the expanded query for both the Word2Vec model and the Glove model, we will select the 10 results of the query with the highest score returned by ElasticSearch. Using our criteria, we will select which of these results seem relevant and which do not, and we will indicate if we obtain any benefit or not by comparing these results with the results of the original query. Finally, we will see that tweet went up and down more than the ranking when the expanded queries were made with respect to the original query.\n",
    "\n",
    "To avoid that the size of the documentation is very large, we do not include the source code of the functions used in this section. This code, along with a brief description of each function, is available in the query_expansion.py file in the src folder."
   ]
  },
  {
   "cell_type": "code",
   "execution_count": 11,
   "metadata": {
    "collapsed": true
   },
   "outputs": [],
   "source": [
    "from query_expansion import *"
   ]
  },
  {
   "cell_type": "markdown",
   "metadata": {
    "lang": "en"
   },
   "source": [
    "## Super Bowl\n",
    "Let's start with the Super Bowl consultation. Since it is the first query that we expand, I will briefly explain the steps followed to obtain each result."
   ]
  },
  {
   "cell_type": "code",
   "execution_count": 12,
   "metadata": {
    "collapsed": true
   },
   "outputs": [],
   "source": [
    "start_query = \"Super Bowl\""
   ]
  },
  {
   "cell_type": "markdown",
   "metadata": {
    "lang": "en"
   },
   "source": [
    "### Original results\n",
    "First we get the results without expanding the query (result_q0). In this variable we will save the first 1000 results returned by ElasticSearch, while in the following table we will show the first 10."
   ]
  },
  {
   "cell_type": "code",
   "execution_count": 13,
   "metadata": {},
   "outputs": [],
   "source": [
    "result_q0 = get_elasticsearch_result([['Super'], ['Bowl']], client, index)"
   ]
  },
  {
   "cell_type": "markdown",
   "metadata": {
    "variables": {
     "result_q0[0][0]": "Super Bowl, baby, Super Bowl ... go Pats!",
     "result_q0[1][0]": "super bowl? super martinis!",
     "result_q0[2][0]": "super bowl? or puppy bowl?",
     "result_q0[3][0]": "super bowl?!",
     "result_q0[4][0]": "Super Bowl!!!!!",
     "result_q0[5][0]": "Super Bowl！",
     "result_q0[6][0]": "Super bowl :)",
     "result_q0[7][0]": "Super Bowl.",
     "result_q0[8][0]": "super bowl!!",
     "result_q0[9][0]": "Super Tuesday not Super Bowl."
    }
   },
   "source": [
    "| resultado | relevante | razón |\n",
    "|:-----:|:----:|:---:|\n",
    "|{{result_q0[0][0]}}   |Sí  |  |\n",
    "|{{result_q0[1][0]}}   |Sí | |\n",
    "|{{result_q0[2][0]}}   |Sí | |\n",
    "|{{result_q0[3][0]}}   |No | |\n",
    "|{{result_q0[4][0]}}   |No | Repetido |\n",
    "|{{result_q0[5][0]}}   |No | Repetido |\n",
    "|{{result_q0[6][0]}}   |No | Repetido |\n",
    "|{{result_q0[7][0]}}   |No | Repetido |\n",
    "|{{result_q0[8][0]}}   |No | Repetido |\n",
    "|{{result_q0[9][0]}}   |No |  |"
   ]
  },
  {
   "cell_type": "markdown",
   "metadata": {
    "lang": "en"
   },
   "source": [
    "### Results Word2Vec\n",
    "Now we will get the results of Word2Vec. First, we get the expanded query 'qe_w2v', and then we get the first 1000 tweets again (this time using the expanded query) and we show the top 10 in the table."
   ]
  },
  {
   "cell_type": "code",
   "execution_count": 14,
   "metadata": {},
   "outputs": [],
   "source": [
    "qe_w2v = get_expanded_query_w2v(w2v_model, start_query, k=3)\n",
    "result_w2v = get_elasticsearch_result(qe_w2v, client, index)"
   ]
  },
  {
   "cell_type": "markdown",
   "metadata": {
    "cell_style": "center",
    "variables": {
     "result_w2v[0][0]": "super bowl? or puppy bowl?",
     "result_w2v[1][0]": "Super Bowls are super.",
     "result_w2v[2][0]": "PUPPY BOWL! PUPPY BOWL!",
     "result_w2v[3][0]": "&quot;Forget the super bowl. I&#39;m mesmerized by Puppy Bowl IV!!!&quot;",
     "result_w2v[4][0]": "Super bowl sucks. I miss the puppy bowl :P",
     "result_w2v[5][0]": "not watching the stupor bowl.",
     "result_w2v[6][0]": "&quot;@kellypuffs, do what we&#39;re doing, Super Bowl AND Puppy Bowl!&quot;",
     "result_w2v[7][0]": "Not watching the Stupor Bowl.",
     "result_w2v[8][0]": "Expertly balancing work, Super Bowl, and Puppy Bowl IV.",
     "result_w2v[9][0]": "Stupor Bowl at the Crows"
    }
   },
   "source": [
    "| resultado | relevante | razón |\n",
    "| :-----: |:----:|:---:|\n",
    "|{{result_w2v[0][0]}}   |Sí  |  |\n",
    "|{{result_w2v[1][0]}}   |Sí |  |\n",
    "|{{result_w2v[2][0]}}   |No | Tweet sobre la puppy bowl |\n",
    "|{{result_w2v[3][0]}}   |No | Tweet sobre la puppy bowl |\n",
    "|{{result_w2v[4][0]}}   |No | Puppy bowl de nuevo |\n",
    "|{{result_w2v[5][0]}}   |No | Stupor bowl|\n",
    "|{{result_w2v[6][0]}}   |No |  |\n",
    "|{{result_w2v[7][0]}}   |No | Stupor bowl |\n",
    "|{{result_w2v[8][0]}}  |Sí |  |\n",
    "|{{result_w2v[9][0]}}   |No | Stupor bowl |"
   ]
  },
  {
   "cell_type": "markdown",
   "metadata": {
    "lang": "en"
   },
   "source": [
    "### Glove Results\n",
    "And finally with Glove, the procedure is exactly the same."
   ]
  },
  {
   "cell_type": "code",
   "execution_count": 15,
   "metadata": {
    "cell_style": "center"
   },
   "outputs": [],
   "source": [
    "qe_glove = get_expanded_query_glove(glove_model, start_query, k=5)\n",
    "result_glove = get_elasticsearch_result(qe_glove, client, index)"
   ]
  },
  {
   "cell_type": "markdown",
   "metadata": {
    "variables": {
     "result_glove[0][0]": "Super Stunner: Giants Beat Patriots In Super Bowl XLII <a href=\"http://tinyurl.com/3ydd94\">http://tinyurl.com/3ydd94</a>",
     "result_glove[1][0]": "Super Bowl Super Tuesday Fat Tuesday. What about Fat Bowl?",
     "result_glove[2][0]": "Super Tuesday not Super Bowl.",
     "result_glove[3][0]": "Super stunner: Could Bundchen to blame?!?: GLENDALE, Ariz. - Super Bowl XLII left all of New England.. <a href=\"http://tinyurl.com/3bnr65\">http://tinyurl.com/3bnr65</a>",
     "result_glove[4][0]": "TOP STORY: Super Stunner: Giants Beat Patriots In Super Bowl XLII: Eli Manning fired a 5.. <a href=\"http://tinyurl.com/ynrxae\">http://tinyurl.com/ynrxae</a>",
     "result_glove[5][0]": "lol americans super bowl super tuesday. supadupa",
     "result_glove[6][0]": "Diff betweek super bowl and super tuesday",
     "result_glove[7][0]": "excited about super bowl tuesday",
     "result_glove[8][0]": "SPORTS: Super Stunner: Giants Edge Pats In Super Bowl Thriller: With the Super Bowl on the .. <a href=\"http://tinyurl.com/2w9a3j\">http://tinyurl.com/2w9a3j</a>",
     "result_glove[9][0]": "Clinton Super Bowl is Tuesday in California."
    }
   },
   "source": [
    "| resultado | relevante | razón |\n",
    "| :-----: |:----:|:---:|\n",
    "|{{result_glove[0][0]}}   |Sí  | Evaluación de los anuncios |\n",
    "|{{result_glove[1][0]}}   |Sí | Anuncios de la Super Bowl |\n",
    "|{{result_glove[2][0]}}   |No | Repetido |\n",
    "|{{result_glove[3][0]}}   |Sí | Resultado de la Super Bowl|\n",
    "|{{result_glove[4][0]}}   |Sí | Comienzo de la Super Bowl |\n",
    "|{{result_glove[5][0]}}   |No | |\n",
    "|{{result_glove[6][0]}}   |No | De nuevo anuncios |\n",
    "|{{result_glove[7][0]}}   |No |  |\n",
    "|{{result_glove[8][0]}}   |Sí | Anuncios primera parte |\n",
    "|{{result_glove[9][0]}}   |Sí | Anuncios tercera parte |"
   ]
  },
  {
   "cell_type": "markdown",
   "metadata": {
    "lang": "en"
   },
   "source": [
    "### Changes of position of each tweet"
   ]
  },
  {
   "cell_type": "markdown",
   "metadata": {
    "lang": "en"
   },
   "source": [
    "In this section we will use the 1000 results previously saved from each query to see which tweets went up and down more than the original query."
   ]
  },
  {
   "cell_type": "markdown",
   "metadata": {},
   "source": [
    "#### Word2Vec"
   ]
  },
  {
   "cell_type": "code",
   "execution_count": 16,
   "metadata": {
    "scrolled": true
   },
   "outputs": [
    {
     "name": "stdout",
     "output_type": "stream",
     "text": [
      "El tweet 'The Super Bowl is exciting, but the Puppy Bowl has puppies. http://tinyurl.com/2uhqez' subió 649 posiciones (desde la posicion 675 hasta la posicion 26)\n",
      "El tweet '@pplwrd agreed, best super bowl ever!' descendió 518 posiciones (desde la posicion 364 hasta la posicion 882)\n"
     ]
    }
   ],
   "source": [
    "original_tweets = [pair[0] for pair in result_q0]\n",
    "expanded_tweets = [pair[0] for pair in result_w2v]\n",
    "show_most_improved_tweet(original_tweets, expanded_tweets)\n",
    "show_most_devaluated_tweet(original_tweets, expanded_tweets)"
   ]
  },
  {
   "cell_type": "markdown",
   "metadata": {},
   "source": [
    "#### Glove"
   ]
  },
  {
   "cell_type": "code",
   "execution_count": 17,
   "metadata": {
    "scrolled": true
   },
   "outputs": [
    {
     "name": "stdout",
     "output_type": "stream",
     "text": [
      "El tweet 'looking forward to Super Bowl XLII. GO GIANTS!' subió 912 posiciones (desde la posicion 986 hasta la posicion 74)\n",
      "El tweet '@pplwrd agreed, best super bowl ever!' descendió 565 posiciones (desde la posicion 364 hasta la posicion 929)\n"
     ]
    }
   ],
   "source": [
    "expanded_tweets = [pair[0] for pair in result_glove]\n",
    "show_most_improved_tweet(original_tweets, expanded_tweets)\n",
    "show_most_devaluated_tweet(original_tweets, expanded_tweets)"
   ]
  },
  {
   "cell_type": "markdown",
   "metadata": {},
   "source": [
    "### Conclusion"
   ]
  },
  {
   "cell_type": "markdown",
   "metadata": {
    "lang": "en"
   },
   "source": [
    "In this case, as we can see, the results obtained with the original query do not provide much information in general and those of Word2Vec focus more on the Puppy Bowl than on the Super Bowl. However, with GloVe we get better results, focused mainly on the Super Bowl ads, and some comments on the beginning and the winner of it."
   ]
  },
  {
   "cell_type": "markdown",
   "metadata": {
    "lang": "en"
   },
   "source": [
    "### Importance of the number of expanded terms\n",
    "Before proceeding to the next query, we will observe what happens if we modify the number of terms that we expand for each original term in the case of Word2Vec:"
   ]
  },
  {
   "cell_type": "code",
   "execution_count": 18,
   "metadata": {},
   "outputs": [],
   "source": [
    "qe_w2v = get_expanded_query_w2v(w2v_model, start_query, k=5)\n",
    "result_w2v = get_elasticsearch_result(qe_w2v, client, index)"
   ]
  },
  {
   "cell_type": "markdown",
   "metadata": {
    "variables": {
     "result_w2v[0][0]": "Playing Super Mario Galaxy.",
     "result_w2v[1][0]": "super bowl? or puppy bowl?",
     "result_w2v[2][0]": "just finished Super Mario Galaxy... great fun",
     "result_w2v[3][0]": "&quot;Forget the super bowl. I&#39;m mesmerized by Puppy Bowl IV!!!&quot;",
     "result_w2v[4][0]": "Super bowl sucks. I miss the puppy bowl :P",
     "result_w2v[5][0]": "&quot;@kellypuffs, do what we&#39;re doing, Super Bowl AND Puppy Bowl!&quot;",
     "result_w2v[6][0]": "Expertly balancing work, Super Bowl, and Puppy Bowl IV.",
     "result_w2v[7][0]": "Friday night decision: Super Mario Galaxy or Team Fortress 2?",
     "result_w2v[8][0]": "jeanette just pwned super mario galaxy... eat that blee!!",
     "result_w2v[9][0]": "Super Mario Galaxy for the Wii is totally badass!"
    }
   },
   "source": [
    "| resultado | relevante | razón |\n",
    "| :-----: |:----:|:---:|\n",
    "|{{result_w2v[0][0]}}   |No  | Super Mario Galaxy |\n",
    "|{{result_w2v[1][0]}}   |No | Puppy Bowl |\n",
    "|{{result_w2v[2][0]}}   |No | Super Mario Galaxy |\n",
    "|{{result_w2v[3][0]}}   |No | Puppy Bowl |\n",
    "|{{result_w2v[4][0]}}   |No | Puppy Bowl |\n",
    "|{{result_w2v[5][0]}}   |No | Stupor Bowl|\n",
    "|{{result_w2v[6][0]}}   |No | Puppy Bowl |\n",
    "|{{result_w2v[7][0]}}   |No | Super Mario Galaxy |\n",
    "|{{result_w2v[8][0]}}  |No | Super Mario Galaxy |\n",
    "|{{result_w2v[9][0]}}   |No | Super Mario Galaxy |"
   ]
  },
  {
   "cell_type": "markdown",
   "metadata": {
    "lang": "en"
   },
   "source": [
    "After adding a couple of more terms we get some different results. Half of the results have to do with Super Mario Galaxy, which makes sense for Word2Vec, since the word 'Super' in addition to being related to 'Bowl' is also related to 'Mario' and 'Galaxy' in many others tweets However, if someone wants to see the tweets related to the Super Bowl and he finds tweets talking about Super Mario Galaxy, he probably will not enjoy it. Taking this into account, we can conclude that the selection of the number of terms to expand is a very critical process, in which a term more or less can drastically change the results."
   ]
  },
  {
   "cell_type": "markdown",
   "metadata": {},
   "source": [
    "## NFL"
   ]
  },
  {
   "cell_type": "code",
   "execution_count": 19,
   "metadata": {
    "collapsed": true
   },
   "outputs": [],
   "source": [
    "start_query = \"NFL\""
   ]
  },
  {
   "cell_type": "markdown",
   "metadata": {},
   "source": [
    "### Original results"
   ]
  },
  {
   "cell_type": "code",
   "execution_count": 20,
   "metadata": {
    "collapsed": true,
    "scrolled": true
   },
   "outputs": [],
   "source": [
    "result_q0 = get_elasticsearch_result([[start_query]], client, index)"
   ]
  },
  {
   "cell_type": "markdown",
   "metadata": {
    "variables": {
     "result_q0[0][0]": "NFL Super Bowl",
     "result_q0[1][0]": "@superbowlads NFL nice",
     "result_q0[2][0]": "@superbowlads - nfl texans = 3",
     "result_q0[3][0]": "@thsboyelroy Blame the NFL.",
     "result_q0[4][0]": "@superbowlads - NFL network -1.5",
     "result_q0[5][0]": "at NFL Network press booth",
     "result_q0[6][0]": "@superbowlads NFL network sucks 2",
     "result_q0[7][0]": "@superbowlads nfl network - 4 stars",
     "result_q0[8][0]": "NFL Experience <a href=\"http://tinyurl.com/2d4996\">http://tinyurl.com/2d4996</a>",
     "result_q0[9][0]": "NFL super ad was good."
    }
   },
   "source": [
    "| resultado | relevante | razón |\n",
    "| :-----: |:----:|:---:|\n",
    "|{{result_q0[0][0]}}   |Sí | Relaciona NFL y Super Bowl |\n",
    "|{{result_q0[1][0]}}   |No | Conversación |\n",
    "|{{result_q0[2][0]}}   |No | Conversación |\n",
    "|{{result_q0[3][0]}}   |No | Conversación |\n",
    "|{{result_q0[4][0]}}   |No | Conversación |\n",
    "|{{result_q0[5][0]}}   |Sí | Comentario Superbowl |\n",
    "|{{result_q0[6][0]}}   |No | Conversación |\n",
    "|{{result_q0[7][0]}}   |No | Conversación |\n",
    "|{{result_q0[8][0]}}   |Sí | Enlace relacionado |\n",
    "|{{result_q0[9][0]}}   |Sí | Comentario SuperBowl |"
   ]
  },
  {
   "cell_type": "markdown",
   "metadata": {},
   "source": [
    "### Word2Vec results"
   ]
  },
  {
   "cell_type": "code",
   "execution_count": 21,
   "metadata": {
    "collapsed": true,
    "scrolled": true
   },
   "outputs": [],
   "source": [
    "qe_w2v = get_expanded_query_w2v(w2v_model, start_query, k=5)\n",
    "result_w2v = get_elasticsearch_result(qe_w2v, client, index)"
   ]
  },
  {
   "cell_type": "markdown",
   "metadata": {
    "variables": {
     "result_w2v[0][0]": "GLENDALE, Arizona (Reuters) - The New York Giants achieved one of the\\nmost improbable upsets in NFL history with a 17-14 victory over th ...",
     "result_w2v[1][0]": "GLENDALE, Arizona (Reuters) - The New York Giants achieved one of the\\nbiggest upsets in NFL history with a 17-14 victory over the previo ...",
     "result_w2v[2][0]": "GLENDALE, Arizona (Reuters) - The New York Giants achieved one of the\\nbiggest upsets in NFL history with a 17-14 victory over the previo ...",
     "result_w2v[3][0]": "GLENDALE, Arizona (Reuters) - The New York Giants achieved one of the\\nbiggest upsets in NFL history with a 17-14 victory over the previo ...",
     "result_w2v[4][0]": "GLENDALE, Arizona (Reuters) - The New York Giants achieved one of the\\nbiggest upsets in NFL history with a 17-14 victory over the previo ...",
     "result_w2v[5][0]": "GLENDALE, Arizona (Reuters) - The New York Giants achieved one of the\\nbiggest upsets in NFL history with a 17-14 victory over the previo ...",
     "result_w2v[6][0]": "GLENDALE, Arizona (Reuters) - The New York Giants achieved one of the\\nbiggest upsets in NFL history with a 17-14 victory over the previo ...",
     "result_w2v[7][0]": "GLENDALE, Arizona (Reuters) - The New York Giants achieved one of the\\nbiggest upsets in NFL history with a 17-14 victory over the previo ...",
     "result_w2v[8][0]": "GLENDALE, Arizona (Reuters) - The New York Giants achieved one of the\\nbiggest upsets in NFL history with a 17-14 victory over the previo ...",
     "result_w2v[9][0]": "GLENDALE, Arizona (Reuters) - The New York Giants achieved one of the\\nbiggest upsets in NFL history with a 17-14 victory over the previo ..."
    }
   },
   "source": [
    "| resultado | relevante | razón |\n",
    "| :-----: |:----:|:---:|\n",
    "|{{result_w2v[0][0]}}   |Sí | Comentario sobre NFL |\n",
    "|{{result_w2v[1][0]}}   |Sí | Noticia |\n",
    "|{{result_w2v[2][0]}}   |Sí | Noticia |\n",
    "|{{result_w2v[3][0]}}   |No | Repetido |\n",
    "|{{result_w2v[4][0]}}   |No | Repetido |\n",
    "|{{result_w2v[5][0]}}   |No | Repetido |\n",
    "|{{result_w2v[6][0]}}   |No | Repetido |\n",
    "|{{result_w2v[7][0]}}   |No | Repetido |\n",
    "|{{result_w2v[8][0]}}   |No | Repetido |\n",
    "|{{result_w2v[9][0]}}   |No | Repetido |"
   ]
  },
  {
   "cell_type": "markdown",
   "metadata": {},
   "source": [
    "### GloVe results"
   ]
  },
  {
   "cell_type": "code",
   "execution_count": 22,
   "metadata": {
    "collapsed": true
   },
   "outputs": [],
   "source": [
    "qe_glove = get_expanded_query_glove(glove_model, start_query, k=2)\n",
    "result_glove = get_elasticsearch_result(qe_glove, client, index)"
   ]
  },
  {
   "cell_type": "markdown",
   "metadata": {
    "variables": {
     "result_glove[0][0]": "Football #commentary, The #Patriots played against history. And history is a good oponent. [...] #superbowl #nfl",
     "result_glove[1][0]": "getting ready to watch NFL history in the making",
     "result_glove[2][0]": "&quot;i have relocated.  watching NFL history @ kellie&#39;s house now.  ;)&quot;",
     "result_glove[3][0]": "New blog post: Disinformation <a href=\"http://countzero.com/word/?p=1714\">http://countzero.com/word/?p=1714</a>",
     "result_glove[4][0]": "definitely definitely definitely definitely NOT the best team in the history of the NFL\\n. Forgettable, actually.",
     "result_glove[5][0]": "would like to see Patriots become one of biggest upset in NFL history!",
     "result_glove[6][0]": "...and the 1972 Dolphins are still the only undefeated team in NFL history.",
     "result_glove[7][0]": "18-and-Uh-Oh: Giants Pull Off Biggest Upset In NFL History <a href=\"http://tinyurl.com/yvayr5\">http://tinyurl.com/yvayr5</a>",
     "result_glove[8][0]": "I love the suckers that cheered for the best 18-1 team in NFL history.",
     "result_glove[9][0]": "&quot;Steve Young calls the Giants&#39; win the greatest upset in NFL history&quot;"
    }
   },
   "source": [
    "| resultado | relevante | razón |\n",
    "| :-----: |:----:|:---:|\n",
    "|{{result_glove[0][0]}}   |Sí | Comentario del partido |\n",
    "|{{result_glove[1][0]}}   |No | Comentario personal |\n",
    "|{{result_glove[2][0]}}   |No | Comentario personal |\n",
    "|{{result_glove[3][0]}}   |No |  |\n",
    "|{{result_glove[4][0]}}   |Sí | Comentario del partido |\n",
    "|{{result_glove[5][0]}}   |Sí | Comentario del partido |\n",
    "|{{result_glove[6][0]}}   |Sí | Comentario del partido |\n",
    "|{{result_glove[7][0]}}   |Sí | Noticia |\n",
    "|{{result_glove[8][0]}}   |No | |\n",
    "|{{result_glove[9][0]}}   |No | |"
   ]
  },
  {
   "cell_type": "markdown",
   "metadata": {
    "lang": "en"
   },
   "source": [
    "### Changes of positions of each tweet"
   ]
  },
  {
   "cell_type": "markdown",
   "metadata": {},
   "source": [
    "#### Word2Vec"
   ]
  },
  {
   "cell_type": "code",
   "execution_count": 23,
   "metadata": {
    "hide_input": true,
    "scrolled": true
   },
   "outputs": [
    {
     "name": "stdout",
     "output_type": "stream",
     "text": [
      "El tweet 'GLENDALE, Arizona (Reuters) - The New York Giants achieved one of the\n",
      "biggest upsets in NFL history with a 17-14 victory over the previo ...' subió 685 posiciones (desde la posicion 686 hasta la posicion 1)\n",
      "El tweet 'Xbox Live: allcoldinside is currently Away. Last seen 5 hours ago playing Madden NFL 06. Franchise: Pre-Season. (Title: Madden NFL 06)' descendió 547 posiciones (desde la posicion 146 hasta la posicion 693)\n"
     ]
    }
   ],
   "source": [
    "original_tweets = [pair[0] for pair in result_q0]\n",
    "expanded_tweets = [pair[0] for pair in result_w2v]\n",
    "show_most_improved_tweet(original_tweets, expanded_tweets)\n",
    "show_most_devaluated_tweet(original_tweets, expanded_tweets)"
   ]
  },
  {
   "cell_type": "markdown",
   "metadata": {},
   "source": [
    "#### Glove"
   ]
  },
  {
   "cell_type": "code",
   "execution_count": 24,
   "metadata": {
    "hide_input": true
   },
   "outputs": [
    {
     "name": "stdout",
     "output_type": "stream",
     "text": [
      "El tweet 'GLENDALE, Arizona (Reuters) - The New York Giants achieved one of the\n",
      "biggest upsets in NFL history with a 17-14 victory over the previo ...' subió 645 posiciones (desde la posicion 686 hasta la posicion 41)\n",
      "El tweet 'Voice of America\n",
      "\n",
      "NFL Commissioner Addresses Super Bowl Media\n",
      "Voice of America - 2 hours ago\n",
      "By Parke Brewer Less than a week after Pres ...' descendió 543 posiciones (desde la posicion 445 hasta la posicion 988)\n"
     ]
    }
   ],
   "source": [
    "expanded_tweets = [pair[0] for pair in result_glove]\n",
    "show_most_improved_tweet(original_tweets, expanded_tweets)\n",
    "show_most_devaluated_tweet(original_tweets, expanded_tweets)"
   ]
  },
  {
   "cell_type": "markdown",
   "metadata": {},
   "source": [
    "### Conclusion"
   ]
  },
  {
   "cell_type": "markdown",
   "metadata": {
    "lang": "en"
   },
   "source": [
    "In this case, for the \"NFL\" query, we would choose to use Glove, since it extracts better results in the query expansion than Word2Vec, which in this case takes many repeated tweets, and without expanding the queries, since it shows results without relevance. Instead, using Glove, we get a variety of relevant results about the NFL and the Super Bowl."
   ]
  },
  {
   "cell_type": "markdown",
   "metadata": {},
   "source": [
    "## Eli Manning"
   ]
  },
  {
   "cell_type": "code",
   "execution_count": 25,
   "metadata": {
    "collapsed": true
   },
   "outputs": [],
   "source": [
    "start_query = \"Eli Manning\""
   ]
  },
  {
   "cell_type": "markdown",
   "metadata": {},
   "source": [
    "### Original results"
   ]
  },
  {
   "cell_type": "code",
   "execution_count": 26,
   "metadata": {
    "collapsed": true
   },
   "outputs": [],
   "source": [
    "result_q0 = get_elasticsearch_result([['Eli'], ['Manning']], client, index)"
   ]
  },
  {
   "cell_type": "markdown",
   "metadata": {
    "variables": {
     "result_q0[0][0]": "eli manning mvp.",
     "result_q0[1][0]": "@preppydude eli manning",
     "result_q0[2][0]": "Eli Manning - nice start",
     "result_q0[3][0]": "ELI MANNING PEOPLE",
     "result_q0[4][0]": "Eli is Manning Up",
     "result_q0[5][0]": "Eli Manning...holy cow!",
     "result_q0[6][0]": "Eli Manning, MVP",
     "result_q0[7][0]": "Eli Manning nickname? &quot;Easy E&quot;",
     "result_q0[8][0]": "Eli manning is a machine",
     "result_q0[9][0]": "@keithBurtis Eli Manning got it."
    }
   },
   "source": [
    "| resultado | relevante | razón |\n",
    "| :-----: |:----:|:---:|\n",
    "|{{result_q0[0][0]}}   |Sí | Comentario del partido |\n",
    "|{{result_q0[1][0]}}   |No |  |\n",
    "|{{result_q0[2][0]}}   |Sí |  |\n",
    "|{{result_q0[3][0]}}   |No |  |\n",
    "|{{result_q0[4][0]}}   |No |  |\n",
    "|{{result_q0[5][0]}}   |No |  |\n",
    "|{{result_q0[6][0]}}   |No | Repetido |\n",
    "|{{result_q0[7][0]}}   |No |  |\n",
    "|{{result_q0[8][0]}}   |No |  |\n",
    "|{{result_q0[9][0]}}   |No | Conversación |"
   ]
  },
  {
   "cell_type": "markdown",
   "metadata": {},
   "source": [
    "### Word2Vec results"
   ]
  },
  {
   "cell_type": "code",
   "execution_count": 27,
   "metadata": {
    "collapsed": true
   },
   "outputs": [],
   "source": [
    "qe_w2v = get_expanded_query_w2v(w2v_model, start_query, k=4)\n",
    "result_w2v = get_elasticsearch_result(qe_w2v, client, index)"
   ]
  },
  {
   "cell_type": "markdown",
   "metadata": {
    "variables": {
     "result_w2v[0][0]": "Manning 4 MVP. If not Eli Tyree",
     "result_w2v[1][0]": "eli manning mvp.",
     "result_w2v[2][0]": "Eli Manning, MVP",
     "result_w2v[3][0]": "Eli Manning will be MVP.",
     "result_w2v[4][0]": "1 and 1A -- Peyton and Eli Manning!",
     "result_w2v[5][0]": "Something tells me Eli Manning gets MVP.",
     "result_w2v[6][0]": "Thinking Eli Manning should win the MVP.",
     "result_w2v[7][0]": "&quot;Your MVP, ladies &amp; gentlemen, Eli Manning.&quot; There are no words.",
     "result_w2v[8][0]": "Eli Manning.  Supe Bowl MVP.  Not a joke.",
     "result_w2v[9][0]": "Eli Manning MVP! What an amazing game. Wow."
    }
   },
   "source": [
    "| resultado | relevante | razón |\n",
    "| :-----: |:----:|:---:|\n",
    "|{{result_w2v[0][0]}}   |No |  |\n",
    "|{{result_w2v[1][0]}}   |Sí | Comentario partido |\n",
    "|{{result_w2v[2][0]}}   |No | Repetido |\n",
    "|{{result_w2v[3][0]}}   |No | Repetido |\n",
    "|{{result_w2v[4][0]}}   |Sí |  |\n",
    "|{{result_w2v[5][0]}}   |No | Repetido |\n",
    "|{{result_w2v[6][0]}}   |No | Repetido |\n",
    "|{{result_w2v[7][0]}}   |No | Repetido |\n",
    "|{{result_w2v[8][0]}}   |No | Repetido |\n",
    "|{{result_w2v[9][0]}}   |No | Repetido |"
   ]
  },
  {
   "cell_type": "markdown",
   "metadata": {},
   "source": [
    "### Glove results"
   ]
  },
  {
   "cell_type": "code",
   "execution_count": 28,
   "metadata": {
    "collapsed": true
   },
   "outputs": [],
   "source": [
    "qe_glove = get_expanded_query_glove(glove_model, start_query, k=5)\n",
    "result_glove = get_elasticsearch_result(qe_glove, client, index)"
   ]
  },
  {
   "cell_type": "markdown",
   "metadata": {
    "variables": {
     "result_glove[0][0]": "eli manning mvp.",
     "result_glove[1][0]": "Eli Manning, MVP",
     "result_glove[2][0]": "Eli Manning will be MVP.",
     "result_glove[3][0]": "Manning 4 MVP. If not Eli Tyree",
     "result_glove[4][0]": "Something tells me Eli Manning gets MVP.",
     "result_glove[5][0]": "Thinking Eli Manning should win the MVP.",
     "result_glove[6][0]": "&quot;Your MVP, ladies &amp; gentlemen, Eli Manning.&quot; There are no words.",
     "result_glove[7][0]": "Eli Manning.  Supe Bowl MVP.  Not a joke.",
     "result_glove[8][0]": "Eli Manning MVP! What an amazing game. Wow.",
     "result_glove[9][0]": "amazing. eli manning should get mvp even if they lose."
    }
   },
   "source": [
    "| resultado | relevante | razón |\n",
    "| :-----: |:----:|:---:|\n",
    "|{{result_glove[0][0]}}   |Sí | Comentario del partido |\n",
    "|{{result_glove[1][0]}}   |No | Repetido |\n",
    "|{{result_glove[2][0]}}   |No | Repetido |\n",
    "|{{result_glove[3][0]}}   |No | Repetido |\n",
    "|{{result_glove[4][0]}}   |No | Repetido |\n",
    "|{{result_glove[5][0]}}   |No | Repetido |\n",
    "|{{result_glove[6][0]}}   |Sí | Comentario del partido |\n",
    "|{{result_glove[7][0]}}   |No | Repetido |\n",
    "|{{result_glove[8][0]}}   |No | Repetido |\n",
    "|{{result_glove[9][0]}}   |No | Repetido |"
   ]
  },
  {
   "cell_type": "markdown",
   "metadata": {
    "lang": "en"
   },
   "source": [
    "### Changes of positions of each tweet"
   ]
  },
  {
   "cell_type": "markdown",
   "metadata": {},
   "source": [
    "#### Word2Vec"
   ]
  },
  {
   "cell_type": "code",
   "execution_count": 29,
   "metadata": {
    "hide_input": true,
    "scrolled": false
   },
   "outputs": [
    {
     "name": "stdout",
     "output_type": "stream",
     "text": [
      "El tweet 'I said Eli would win the MVP just like his brother Peyton did last year!\n",
      "Sorry Pats...you're just not THAT perfect!' subió 841 posiciones (desde la posicion 925 hasta la posicion 84)\n",
      "El tweet 'Manning Keeps Cool, and Keeps a Drive Alive http://tinyurl.com/36oap7' descendió 190 posiciones (desde la posicion 625 hasta la posicion 815)\n"
     ]
    }
   ],
   "source": [
    "original_tweets = [pair[0] for pair in result_q0]\n",
    "expanded_tweets = [pair[0] for pair in result_w2v]\n",
    "show_most_improved_tweet(original_tweets, expanded_tweets)\n",
    "show_most_devaluated_tweet(original_tweets, expanded_tweets)"
   ]
  },
  {
   "cell_type": "markdown",
   "metadata": {},
   "source": [
    "#### Glove"
   ]
  },
  {
   "cell_type": "code",
   "execution_count": 30,
   "metadata": {
    "hide_input": true
   },
   "outputs": [
    {
     "name": "stdout",
     "output_type": "stream",
     "text": [
      "El tweet 'Best super bowl game I've seen to this day. Well played on both sides and Eli definitely deserved that MVP.' subió 670 posiciones (desde la posicion 868 hasta la posicion 198)\n",
      "El tweet 'Manning Keeps Cool, and Keeps a Drive Alive http://tinyurl.com/36oap7' descendió 296 posiciones (desde la posicion 625 hasta la posicion 921)\n"
     ]
    }
   ],
   "source": [
    "expanded_tweets = [pair[0] for pair in result_glove]\n",
    "show_most_improved_tweet(original_tweets, expanded_tweets)\n",
    "show_most_devaluated_tweet(original_tweets, expanded_tweets)"
   ]
  },
  {
   "cell_type": "markdown",
   "metadata": {},
   "source": [
    "### Conclusion"
   ]
  },
  {
   "cell_type": "markdown",
   "metadata": {
    "lang": "en"
   },
   "source": [
    "In the case of the query \"Eli Manning\", we can see that either using Word2Vec query expansion, or Glove without expanding, we get very similar results on the performance in the game Superbowl Eli Manning. However, when observing the changes of position of the tweets in each model, we can see that using Glove, the tweet that increased positions was one not related to the MVP Eli Manning, while with Word2Vec was one talking about this same topic. Therefore, if we had to choose a model, we would use Glove since it is more exhaustive in its results than Word2Vec in this case."
   ]
  },
  {
   "cell_type": "markdown",
   "metadata": {},
   "source": [
    "## New York Giants"
   ]
  },
  {
   "cell_type": "code",
   "execution_count": 31,
   "metadata": {
    "collapsed": true
   },
   "outputs": [],
   "source": [
    "start_query = \"New York Giants\""
   ]
  },
  {
   "cell_type": "markdown",
   "metadata": {},
   "source": [
    "### Original results"
   ]
  },
  {
   "cell_type": "code",
   "execution_count": 32,
   "metadata": {
    "collapsed": true
   },
   "outputs": [],
   "source": [
    "result_q0 = get_elasticsearch_result([['New'], ['York'], ['Giants']], client, index)"
   ]
  },
  {
   "cell_type": "markdown",
   "metadata": {
    "variables": {
     "result_q0[0][0]": "<em>chants</em> NEW YORK! NEW YORK! GO GIANTS!",
     "result_q0[1][0]": "Congratulations New York Giants",
     "result_q0[2][0]": "New York Giants - Booooo!!",
     "result_q0[3][0]": "Go New York Giants!",
     "result_q0[4][0]": "NEW YORK GIANTS!",
     "result_q0[5][0]": "New york football giants",
     "result_q0[6][0]": "The New York Football Giants",
     "result_q0[7][0]": "New York Giants time out",
     "result_q0[8][0]": "Go New York Giants GO!!! :)",
     "result_q0[9][0]": "congratulations new york football giants."
    }
   },
   "source": [
    "| resultado | relevante | razón |\n",
    "| :-----: |:----:|:---:|\n",
    "|{{result_q0[0][0]}}   |No |  |\n",
    "|{{result_q0[1][0]}}   |Sí | Comentario del partido |\n",
    "|{{result_q0[2][0]}}   |No |  |\n",
    "|{{result_q0[3][0]}}   |No | Repetido |\n",
    "|{{result_q0[4][0]}}   |No | Repetido |\n",
    "|{{result_q0[5][0]}}   |No | Repetido |\n",
    "|{{result_q0[6][0]}}   |No |  |\n",
    "|{{result_q0[7][0]}}   |No |  |\n",
    "|{{result_q0[8][0]}}   |No | Repetido |\n",
    "|{{result_q0[9][0]}}   |No | Repetido |"
   ]
  },
  {
   "cell_type": "markdown",
   "metadata": {},
   "source": [
    "### Word2Vec results"
   ]
  },
  {
   "cell_type": "code",
   "execution_count": 33,
   "metadata": {
    "collapsed": true,
    "scrolled": true
   },
   "outputs": [],
   "source": [
    "qe_w2v = get_expanded_query_w2v(w2v_model, start_query, k=3)\n",
    "result_w2v = get_elasticsearch_result(qe_w2v, client, index)"
   ]
  },
  {
   "cell_type": "markdown",
   "metadata": {
    "variables": {
     "result_w2v[0][0]": "@theother66 New England Patriots &amp; New York Giants",
     "result_w2v[1][0]": "@theother66 New England Patriots and New York Giants are playing the big game today! Go PATS!",
     "result_w2v[2][0]": "OPEN THREAD: Giants vs. Patriots - New York Times. New York TimesOPEN THREAD: Giants vs.",
     "result_w2v[3][0]": "Superbowl: New York Giants 17 defeat New England Patriots 14",
     "result_w2v[4][0]": "Super Bowl XLII Champions New York Giants: The New York Giants defeated the New England Patriots to.. <a href=\"http://tinyurl.com/2b2tm9\">http://tinyurl.com/2b2tm9</a>",
     "result_w2v[5][0]": "&quot;new york giants son. I guess the patriots aren&#39;t unstoppable.&quot;",
     "result_w2v[6][0]": "giants or pats giants or pats",
     "result_w2v[7][0]": "Superl Bowl prediction: New England Patriots 31 - 24 New York Football Giants. Go Patriots!!!!",
     "result_w2v[8][0]": "New York Giants - Booooo!!",
     "result_w2v[9][0]": "Go New York Giants!"
    }
   },
   "source": [
    "| resultado | relevante | razón |\n",
    "| :-----: |:----:|:---:|\n",
    "|{{result_w2v[0][0]}}   |No | Conversación |\n",
    "|{{result_w2v[1][0]}}   |No | Conversación |\n",
    "|{{result_w2v[2][0]}}   |Sí | Comentario del partido |\n",
    "|{{result_w2v[3][0]}}   |Sí | Comentario post-partido |\n",
    "|{{result_w2v[4][0]}}   |Sí | Noticia post-partido |\n",
    "|{{result_w2v[5][0]}}   |No |  |\n",
    "|{{result_w2v[6][0]}}   |No |  |\n",
    "|{{result_w2v[7][0]}}   |Sí | Comentario pre-partido |\n",
    "|{{result_w2v[8][0]}}   |No |  |\n",
    "|{{result_w2v[9][0]}}   |No |  |"
   ]
  },
  {
   "cell_type": "markdown",
   "metadata": {},
   "source": [
    "### Glove results"
   ]
  },
  {
   "cell_type": "code",
   "execution_count": 34,
   "metadata": {
    "collapsed": true
   },
   "outputs": [],
   "source": [
    "qe_glove = get_expanded_query_glove(glove_model, start_query, k=4)\n",
    "result_glove = get_elasticsearch_result(qe_glove, client, index)"
   ]
  },
  {
   "cell_type": "markdown",
   "metadata": {
    "variables": {
     "result_glove[0][0]": "Congrats NY Giants.",
     "result_glove[1][0]": "Congrats NY Giants!",
     "result_glove[2][0]": "Great Game Congrats NY Giants",
     "result_glove[3][0]": "congrats to the NY Giants !!!",
     "result_glove[4][0]": "Congrats to the NY Giants...",
     "result_glove[5][0]": "Awesome game!!!  Congrats NY Giants!!",
     "result_glove[6][0]": "GIANTS WIN!!!! NY FTW!!!!!",
     "result_glove[7][0]": "wooooooo! ny giants win!",
     "result_glove[8][0]": "NY Giants win!!!",
     "result_glove[9][0]": "Congrats to the NY Giants and all of New York on this spectacular victory!"
    }
   },
   "source": [
    "| resultado | relevante | razón |\n",
    "| :-----: |:----:|:---:|\n",
    "|{{result_glove[0][0]}}   |Sí | Comentario del partido |\n",
    "|{{result_glove[1][0]}}   |No | Repetido |\n",
    "|{{result_glove[2][0]}}   |Sí | Comentario del partido |\n",
    "|{{result_glove[3][0]}}   |No | Repetido |\n",
    "|{{result_glove[4][0]}}   |No | Repetido |\n",
    "|{{result_glove[5][0]}}   |No | Repetido |\n",
    "|{{result_glove[6][0]}}   |No | Repetido |\n",
    "|{{result_glove[7][0]}}   |No | Repetido |\n",
    "|{{result_glove[8][0]}}   |No | Conversación |\n",
    "|{{result_glove[9][0]}}   |No | Conversación |"
   ]
  },
  {
   "cell_type": "markdown",
   "metadata": {
    "lang": "en"
   },
   "source": [
    "### Changes of positions of each tweet"
   ]
  },
  {
   "cell_type": "markdown",
   "metadata": {},
   "source": [
    "#### Word2Vec"
   ]
  },
  {
   "cell_type": "code",
   "execution_count": 35,
   "metadata": {
    "hide_input": true,
    "scrolled": true
   },
   "outputs": [
    {
     "name": "stdout",
     "output_type": "stream",
     "text": [
      "El tweet 'giants or pats giants or pats' subió 932 posiciones (desde la posicion 938 hasta la posicion 6)\n",
      "El tweet 'NEW YORK (Reuters) - A record number of Americans watched Sunday's Super\n",
      "Bowl on Fox between the New York Giants and New England Patriot ...' descendió 535 posiciones (desde la posicion 84 hasta la posicion 619)\n"
     ]
    }
   ],
   "source": [
    "original_tweets = [pair[0] for pair in result_q0]\n",
    "expanded_tweets = [pair[0] for pair in result_w2v]\n",
    "show_most_improved_tweet(original_tweets, expanded_tweets)\n",
    "show_most_devaluated_tweet(original_tweets, expanded_tweets)"
   ]
  },
  {
   "cell_type": "markdown",
   "metadata": {},
   "source": [
    "#### Glove"
   ]
  },
  {
   "cell_type": "code",
   "execution_count": 36,
   "metadata": {
    "hide_input": true
   },
   "outputs": [
    {
     "name": "stdout",
     "output_type": "stream",
     "text": [
      "El tweet 'giants or pats giants or pats' subió 834 posiciones (desde la posicion 938 hasta la posicion 104)\n",
      "El tweet 'TheOnlinewire\n",
      "\n",
      "Giants stand between Patriots and the history books\n",
      "Washington Post - 5 hours ago\n",
      "PHOENIX (Reuters) - The New York Giants ...' descendió 883 posiciones (desde la posicion 78 hasta la posicion 961)\n"
     ]
    }
   ],
   "source": [
    "expanded_tweets = [pair[0] for pair in result_glove]\n",
    "show_most_improved_tweet(original_tweets, expanded_tweets)\n",
    "show_most_devaluated_tweet(original_tweets, expanded_tweets)"
   ]
  },
  {
   "cell_type": "markdown",
   "metadata": {},
   "source": [
    "### Conclusion"
   ]
  },
  {
   "cell_type": "markdown",
   "metadata": {
    "lang": "en"
   },
   "source": [
    "When consulting the \"New York Giants\", winning team of the Super Bowl 2008, we obtain quite different results depending on the model we use. If we use the original results, without expanding the query, we get \"empty\" results, since in those tweets we only find exclamations and the name of the winning team. If we use Glove, we also get very similar results from each other, congratulating the winning team. On the other hand, if we use Word2Vec, we obtain mixed results on the pre and post game, and on the game itself, obviously. Unlike in the previous cases, the tweets that increased the number of posts in Word2Vec and Glove are the same in both models, so using the information obtained in the query expansion, in this case we would use Word2Vec."
   ]
  },
  {
   "cell_type": "markdown",
   "metadata": {
    "lang": "en"
   },
   "source": [
    "## Precisions obtained with each model"
   ]
  },
  {
   "cell_type": "markdown",
   "metadata": {
    "lang": "en"
   },
   "source": [
    "With all the data previously collected, we can show in a table the precisions obtained for the 5 and 10 first results of each query. The results obtained are the following:"
   ]
  },
  {
   "cell_type": "code",
   "execution_count": 37,
   "metadata": {
    "hide_input": false,
    "scrolled": false
   },
   "outputs": [
    {
     "data": {
      "text/html": [
       "<div>\n",
       "<style>\n",
       "    .dataframe thead tr:only-child th {\n",
       "        text-align: right;\n",
       "    }\n",
       "\n",
       "    .dataframe thead th {\n",
       "        text-align: left;\n",
       "    }\n",
       "\n",
       "    .dataframe tbody tr th {\n",
       "        vertical-align: top;\n",
       "    }\n",
       "</style>\n",
       "<table border=\"1\" class=\"dataframe\">\n",
       "  <thead>\n",
       "    <tr style=\"text-align: right;\">\n",
       "      <th></th>\n",
       "      <th>Expansión usando GloVe</th>\n",
       "      <th>Expansión usando Word2vec</th>\n",
       "      <th>Sin expandir consulta</th>\n",
       "    </tr>\n",
       "  </thead>\n",
       "  <tbody>\n",
       "    <tr>\n",
       "      <th>P@5</th>\n",
       "      <td>45.0%</td>\n",
       "      <td>50.0%</td>\n",
       "      <td>35.0%</td>\n",
       "    </tr>\n",
       "    <tr>\n",
       "      <th>P@10</th>\n",
       "      <td>37.5%</td>\n",
       "      <td>30.0%</td>\n",
       "      <td>25.0%</td>\n",
       "    </tr>\n",
       "  </tbody>\n",
       "</table>\n",
       "</div>"
      ],
      "text/plain": [
       "     Expansión usando GloVe Expansión usando Word2vec Sin expandir consulta\n",
       "P@5                   45.0%                     50.0%                 35.0%\n",
       "P@10                  37.5%                     30.0%                 25.0%"
      ]
     },
     "execution_count": 37,
     "metadata": {},
     "output_type": "execute_result"
    }
   ],
   "source": [
    "d = {'Sin expandir consulta': ['{}%'.format(7/20 * 100),\n",
    "                               '{}%'.format(10/40* 100)], \n",
    "     'Expansión usando Word2vec': ['{}%'.format(10/20 * 100),\n",
    "                                   '{}%'.format(12/40* 100)], \n",
    "     'Expansión usando GloVe': ['{}%'.format(9/20 * 100),\n",
    "                                '{}%'.format(15/40* 100)]\n",
    "    }\n",
    "df = pd.DataFrame(data=d, index=['P@5', 'P@10']) \n",
    "df"
   ]
  },
  {
   "cell_type": "markdown",
   "metadata": {
    "lang": "en"
   },
   "source": [
    "As we can see, for our test queries both models get more relevant results than if we did not expand the queries. We can also see that Word2Vec gives slightly better results for the first 5 tweets, while GloVe obtains better results if we consider the first 10 tweets. In all cases the accuracy drops considerably when taking into account the first 10 tweets, although this is largely due to the fact that many of the last 5 tweets usually contain the same information as the first 5, so we do not consider them relevant."
   ]
  },
  {
   "cell_type": "markdown",
   "metadata": {
    "lang": "en"
   },
   "source": [
    "# Performance of the models\n",
    "Before finishing, we will make some measurements on both models to see how long it takes to train on the collection of tweets and the memory used by each one."
   ]
  },
  {
   "cell_type": "code",
   "execution_count": 38,
   "metadata": {
    "collapsed": true
   },
   "outputs": [],
   "source": [
    "import profiler"
   ]
  },
  {
   "cell_type": "code",
   "execution_count": 39,
   "metadata": {},
   "outputs": [
    {
     "data": {
      "image/png": "[encoded data removed]",
      "text/plain": [
       "<matplotlib.figure.Figure at 0x11e237240>"
      ]
     },
     "metadata": {},
     "output_type": "display_data"
    }
   ],
   "source": [
    "mem_usage_glove = memory_usage((profiler.glove_benchmark, (sentences_generator,), {}))\n",
    "mem_usage_w2v = memory_usage((profiler.word2vec_benchmark, (sentences_generator,), {}))\n",
    "time_glove = %timeit -n1 -r1 -o -q profiler.glove_benchmark(sentences_generator)\n",
    "time_w2v = %timeit -n1 -r1 -o -q profiler.word2vec_benchmark(sentences_generator)\n",
    "profiler.plot_results(mem_usage_glove, mem_usage_w2v, time_glove, time_w2v)"
   ]
  },
  {
   "cell_type": "markdown",
   "metadata": {
    "lang": "en"
   },
   "source": [
    "As we can see, the GloVe model uses much more memory than Word2Vec. This is totally logical since you have to build the co-occurrence matrix already described above. However, the execution time of Glove is quite inferior to that of Word2Vec, reaching to take almost half. For a relatively small collection like ours, the difference is not much appreciated, but if much larger collections are used, this can be an interesting factor to take into account when deciding on one model or another."
   ]
  },
  {
   "cell_type": "markdown",
   "metadata": {},
   "source": [
    "# References"
   ]
  },
  {
   "cell_type": "markdown",
   "metadata": {
    "lang": "en"
   },
   "source": [
    "[1] Explanation of the operation of Google's Word2Vec model. https://code.google.com/archive/p/word2vec/\n",
    "\n",
    "[2] Explanation of the operation of the Stanford Glove model. https://nlp.stanford.edu/projects/glove/\n",
    "\n",
    "[3] GloVe: Global Vectors for word representation. https://www.aclweb.org/anthology/D14-1162\n",
    "\n",
    "[4] Explanation of how GloVe works and how to implement the model in Python. http://www.foldl.me/2014/glove-python/\n",
    "\n",
    "[5] NLTK tweets source code. http://www.nltk.org/_modules/nltk/tokenize/casual.html\n",
    "\n",
    "[6] Documentation of the gensim word2vec module used. https://radimrehurek.com/gensim/models/word2vec.html\n",
    "\n",
    "[7] Repository in github of the Glove implementation used. https://github.com/maciejkula/glove-python"
   ]
  }
 ],
 "metadata": {
  "kernelspec": {
   "display_name": "Python 3",
   "language": "python",
   "name": "python3"
  },
  "language_info": {
   "codemirror_mode": {
    "name": "ipython",
    "version": 3
   },
   "file_extension": ".py",
   "mimetype": "text/x-python",
   "name": "python",
   "nbconvert_exporter": "python",
   "pygments_lexer": "ipython3",
   "version": "3.6.2"
  },
  "nbTranslate": {
   "displayLangs": [
    "en",
    "es"
   ],
   "hotkey": "alt-t",
   "langInMainMenu": true,
   "sourceLang": "es",
   "targetLang": "en",
   "useGoogleTranslate": true
  },
  "toc": {
   "nav_menu": {},
   "number_sections": true,
   "sideBar": true,
   "skip_h1_title": true,
   "toc_cell": false,
   "toc_position": {},
   "toc_section_display": "block",
   "toc_window_display": false
  }
 },
 "nbformat": 4,
 "nbformat_minor": 2
}
