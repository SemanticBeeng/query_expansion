{
 "cells": [
  {
   "cell_type": "markdown",
   "metadata": {
    "lang": "es"
   },
   "source": [
    "# Introducción\n",
    "En este documento vamos a expandir una serie de consultas utilizando dos modelos basados en word embeddings: Word2Vec$^{[1]}$ y Glove$^{[2]}$. Al principio, se explicará brevemente como funciona cada uno de estos modelos y sus respectivas librerías de Python. Posteriormente, se realizará una pequeña comparativa entre ambos modelos teniendo en cuenta la P@k obtenida en las consultas. Por último, se realizará también una comparativa de rendimiento de ambos modelos.\n",
    "\n",
    "# Consideraciones previas\n",
    "En este documento partimos con la colección de tweets ya indexada en ElasticSearch. Este paso se realizó utilizando el script _index.py_, que se encuentra disponible en la carpeta _src_ de la entrega. La colección usada es la colección por defecto con tweets del 4 de febrero de 2008 en inglés.\n",
    "\n",
    "# Setup\n",
    "Lo primero que vamos a hacer será importar las librerías que se usarán a lo largo de este trabajo. A medida que se vayan usando iremos detallando el funcionamiento de las más importantes."
   ]
  },
  {
   "cell_type": "code",
   "execution_count": 1,
   "metadata": {
    "collapsed": true,
    "lang": "es"
   },
   "outputs": [],
   "source": [
    "import string\n",
    "import sys\n",
    "\n",
    "import elasticsearch.helpers\n",
    "import matplotlib as mpl\n",
    "import matplotlib.pyplot as plt\n",
    "import nltk\n",
    "import numpy as np\n",
    "import pandas as pd\n",
    "\n",
    "from adjustText import adjust_text\n",
    "from elasticsearch import Elasticsearch, helpers\n",
    "from elasticsearch_dsl import Search, Q\n",
    "from gensim.models import word2vec\n",
    "from glove import Glove\n",
    "from glove import Corpus\n",
    "from memory_profiler import memory_usage\n",
    "from sklearn.decomposition import PCA\n",
    "from stop_words import get_stop_words\n",
    "\n",
    "%load_ext memory_profiler\n",
    "%matplotlib inline\n",
    "\n",
    "sys.path.append('../src/')"
   ]
  },
  {
   "cell_type": "markdown",
   "metadata": {
    "lang": "es"
   },
   "source": [
    "También iniciaremos la conexión con ElasticSearch. Además, indicamos el nombre de la colección dónde se realizarán las consultas."
   ]
  },
  {
   "cell_type": "markdown",
   "metadata": {
    "lang": "en"
   },
   "source": [
    "We will also initiate the connection with ElasticSearch. In addition, we indicate the name of the collection where the queries will be made."
   ]
  },
  {
   "cell_type": "code",
   "execution_count": 2,
   "metadata": {
    "collapsed": true,
    "lang": "es"
   },
   "outputs": [],
   "source": [
    "client = Elasticsearch()\n",
    "index = '2008-feb-02-04-en'"
   ]
  },
  {
   "cell_type": "markdown",
   "metadata": {
    "lang": "es"
   },
   "source": [
    "# Descripción de los modelos\n",
    "Antes de usar cada modelo vamos a describir brevemente como funcionan. No entraremos en detalle en el funcionamiento interno de cada uno, pero si que aclararemos lo que hacen a grandes rasgos para que posteriormente cuando entrenemos cada modelo y veamos los resultados podamos entender lo que ocurre 'por detrás'.<br> Ambos modelos producen como resultado unos vectores que representan cada palabra de la colección. Además, estos vectores también representan las relaciones que hay entre varias palabras, por lo que realizando varias operaciones entre ellos podemos obtener como resultado palabras relacionadas a las originales."
   ]
  },
  {
   "cell_type": "markdown",
   "metadata": {
    "lang": "es"
   },
   "source": [
    "## Word2Vec\n",
    "Word2Vec utiliza una red neuronal para obtener los vectores de palabras a partir de una serie de documentos. Este modelo puede utilizar dos arquitecturas distintas para obtener los vectores:\n",
    "- CBOW: En el caso de CBOW (**C**ontinuous **b**ag **o**f **w**ords), si tenemos como palabra objetivo 'super', la entrada que se utilizará para entrenar la red neuronal serán cada una de las palabras que rodean a la palabra 'super' en el documento. El número de palabras cercanas que se utilizan para entrenar la red neuronal es el 'contexto'. A partir de este contexto se modifican los pesos de la capa oculta de la red neuronal para obtener como resultado un vector que represente la palabra 'super'. Dicho de otra manera, al entrenar el modelo intentamos maximizar la probabilidad de que se obtenga como resultado la palabra 'super' dado el contexto.\n",
    "- Skip-gram: En este caso, utilizando el mismo ejemplo que para el modelo CBOW, la entrada a la red neuronal sería 'super', y se modificarían los valores de la capa oculta para producir como resultado cada una de las palabras que se encuentran alrededor de 'super' (el contexto).\n"
   ]
  },
  {
   "cell_type": "markdown",
   "metadata": {
    "lang": "es"
   },
   "source": [
    "## GloVe\n",
    "Según Jeffrey Penington, creador de Glove, el modelo de Word2Vec no es del todo óptimo ya que no explota al máximo las estadísticas de cada palabra$^{[3]}$.\n",
    "En el caso de GloVe (**Glo**bal **Ve**ctors for word representation), se utiliza una matriz de co-ocurrencia que representa las estadísticas de cada palabra para obtener los resultados. Cada valor $M_{ij}$ de esta matriz representa con cuanta frecuencia aparece la palabra i en el contexto de la palabra j. Una vez que tenemos esta matriz podemos proceder a crear los vectores de palabras a partir de ella. Para obtener estos vectores se utiliza un modelo de regresión bastante sencillo$^{[4]}$, pero en el que no entraremos en detalle."
   ]
  },
  {
   "cell_type": "markdown",
   "metadata": {
    "lang": "es"
   },
   "source": [
    "# Entrenamiento de los modelos\n",
    "Lo primero que necesitamos hacer es entrenar ambos modelos. Para entrenarlos utilizaremos la colección de tweets completa. Dado que contamos con una cantidad de documentos relativamente grande (390000) y que es una buena práctica, vamos a crear una clase que vaya generando una lista con las palabras de cada tweet de la colección de manera perezosa. De esta forma, no tendremos que guardar todos los tweets de la colección en una lista en memoria RAM. \n",
    "Los modelos reciben un iterable como parámetro para poder entrenarlos. Lo único que tenemos que hacer es implementar la función predefinida de python \\_\\_iter\\_\\_ dentro de nuestra clase para que los objetos que creemos se comporten como un iterable cualquiera.\n",
    "\n",
    "Además, cabe destacar que antes de devolver cada palabra en el generador realizamos un pequeño preprocesamiento para mejorar el rendimiento tanto de Word2Vec como de Glove. En primer lugar, tokenizaremos el tweet usando la librería nltk, que contiene un módulo$^{[5]}$ dedicado específicamente a tokenizar tweets. Además, también eliminaremos los signos de puntuación que deje el tokenizador sueltos. En el caso de que la palabra sea un enlace a una página externa entonces no eliminaremos los símbolos de puntuación. Por último, eliminaremos las palabras vacías de cada tweet. La lista de palabras vacías se obtuvo usando la librería externa _stop-words_ (a esta lista se le añadió la palabra 'Re' para eliminarla de los retweets)."
   ]
  },
  {
   "cell_type": "code",
   "execution_count": 3,
   "metadata": {
    "collapsed": true
   },
   "outputs": [],
   "source": [
    "class SentencesGenerator:\n",
    "    def __init__(self, client, index):\n",
    "        self.s = Search(using=client, index=index).query(Q())\n",
    "        self.stop_words = get_stop_words('english')\n",
    "        self.stop_words.append('Re')\n",
    "    \n",
    "    def __iter__(self):\n",
    "        # creamos una tabla de traducción que usaremos para eliminar los simbolos de puntuación.\n",
    "        remove_punctuation_map = dict((ord(char), None) for char in string.punctuation)\n",
    "        for tweet in self.s.scan():\n",
    "            # tokenizamos el tweet\n",
    "            words = nltk.tokenize.casual.casual_tokenize(tweet.text)\n",
    "            \n",
    "            # eliminamos los simbolos de puntuacion sobrantes\n",
    "            words = [word.translate(remove_punctuation_map) for word in words\n",
    "                     if not word.startswith('http')]\n",
    "            \n",
    "            # eliminamos palabras vacias\n",
    "            words = [word for word in words if word != '' and word not in self.stop_words]\n",
    "            yield words\n",
    "\n",
    "\n",
    "sentences_generator = SentencesGenerator(client, index)"
   ]
  },
  {
   "cell_type": "markdown",
   "metadata": {
    "lang": "es"
   },
   "source": [
    "## Entrenamiento de Word2Vec\n",
    "La implementación de Word2Vec de gensim$^{[6]}$ hace que sea muy sencillo entrenar el modelo. Lo único que tendremos que tener en cuenta son los parámetros que le suministramos al constructor. A continuación se muestra una pequeña descripción de cada parámetro usado:\n",
    "- El primer parámetro es el iterable mencionado anteriormente que va generando cada tweet con las palabras separadas.\n",
    "- En segundo lugar, queremos que los vectores generados por word2vec tengan una dimension igual a 100.\n",
    "- En el tercer parámetro indicamos que Word2Vec tenga en cuenta las 5 palabras próximas a la palabra dada a la hora de entrenar el modelo.\n",
    "- El cuarto parámetro indica que sólo se añadan al vocabulario generado por word2vec aquellas palabras que aparezcan como mínimo 10 veces en la colección. De esta manera eliminaremos muchas palabras con errores ortográficos, links que se añaden a muchos tweets, o palabras que sólo tienen sentido entre pequeños grupos de personas y por consiguiente no aparecen muchas veces (por ejemplo, motes).\n",
    "- Por último, indicamos que sólo se utilice un thread a la hora de entrenar el modelo. Esto se debe a que si utilizábamos más de 1 thread se observaban pequeñas variaciones en los vectores obtenidos cada vez que se ejecutaba el script. Con un thread nos aseguramos de obtener resultados deterministas cada vez que entrenemos el modelo.\n",
    "\n",
    "También cabe destacar que el algoritmo utilizado es el CBOW (algoritmo por defecto)."
   ]
  },
  {
   "cell_type": "code",
   "execution_count": 4,
   "metadata": {
    "collapsed": true
   },
   "outputs": [],
   "source": [
    "w2v_model = word2vec.Word2Vec(sentences_generator, size=100, window=5, min_count=10, workers=1)"
   ]
  },
  {
   "cell_type": "markdown",
   "metadata": {
    "lang": "es"
   },
   "source": [
    "Ahora vamos a comprobar que el modelo se entrenó correctamente pidiéndole las palabras más similares a _football_:"
   ]
  },
  {
   "cell_type": "code",
   "execution_count": 5,
   "metadata": {},
   "outputs": [
    {
     "data": {
      "text/plain": [
       "[('sports', 0.823975145816803),\n",
       " ('rugby', 0.7716653347015381),\n",
       " ('game', 0.766954779624939),\n",
       " ('commercials', 0.7591221332550049),\n",
       " ('soccer', 0.746818482875824),\n",
       " ('superbowl', 0.7457777261734009),\n",
       " ('halftime', 0.7408241629600525),\n",
       " ('fox', 0.7387694716453552),\n",
       " ('SB', 0.737731397151947),\n",
       " ('patriots', 0.7360270023345947)]"
      ]
     },
     "execution_count": 5,
     "metadata": {},
     "output_type": "execute_result"
    }
   ],
   "source": [
    "w2v_model.wv.most_similar('football')"
   ]
  },
  {
   "cell_type": "markdown",
   "metadata": {
    "lang": "es"
   },
   "source": [
    "Como se puede ver, obtenemos una lista con 10 tuplas que contienen las palabras más similares a la palabra dada. Cada una de estas tuplas almacena la palabra y el nivel de similitud con la palabra original."
   ]
  },
  {
   "cell_type": "markdown",
   "metadata": {
    "collapsed": true,
    "lang": "es"
   },
   "source": [
    "## Entrenando el modelo de Glove\n",
    "En el caso de Glove la implementación oficial del modelo se encuentra implementada en C. Por lo tanto, teniendo en cuenta el alcance de este trabajo, vamos a utilizar una implementación no oficial$^{[7]}$ del modelo escrita en python por comodidad.<br>La forma de entrenar este modelo es un poco distinta a la utilizada con Word2Vec. En primer lugar utilizaremos la clase _Corpus_ para generar una matriz de co-ocurrencia a partir de un iterable de sentencias (se utilizará el mismo iterable que para Word2Vec). El parámetro _window_ que se le pasa al corpus tiene la misma utilidad que en Word2Vec (número de palabras próximas que se tienen en cuenta). Una vez hecho esto, generaremos los vectores de palabras a partir de la matriz de co-ocurrencia."
   ]
  },
  {
   "cell_type": "code",
   "execution_count": 6,
   "metadata": {
    "collapsed": true
   },
   "outputs": [],
   "source": [
    "corpus = Corpus()\n",
    "corpus.fit(sentences_generator, window=5)\n",
    "glove_model = Glove(no_components=100, learning_rate=0.025)\n",
    "glove_model.fit(corpus.matrix, epochs=20,\n",
    "                no_threads=1, verbose=False)\n",
    "glove_model.add_dictionary(corpus.dictionary)"
   ]
  },
  {
   "cell_type": "markdown",
   "metadata": {
    "lang": "es"
   },
   "source": [
    "Ahora comprobaremos que el modeo se entrenó correctamente, igual que con Word2Vec:"
   ]
  },
  {
   "cell_type": "code",
   "execution_count": 7,
   "metadata": {},
   "outputs": [
    {
     "data": {
      "text/plain": [
       "[('game', 0.95212946795530085),\n",
       " ('basketball', 0.9475275771818038),\n",
       " ('movies', 0.93916337039753928),\n",
       " ('hockey', 0.91716317868730268),\n",
       " ('boring', 0.91544324840820512),\n",
       " ('tv', 0.90773804016306892),\n",
       " ('commercials', 0.90526278587033671),\n",
       " ('exciting', 0.8986016924748701),\n",
       " ('watching', 0.88793783392872594)]"
      ]
     },
     "execution_count": 7,
     "metadata": {},
     "output_type": "execute_result"
    }
   ],
   "source": [
    "glove_model.most_similar('football', number=10)"
   ]
  },
  {
   "cell_type": "markdown",
   "metadata": {
    "lang": "es"
   },
   "source": [
    "Como podemos ver, una vez tenemos entrenados los modelos ambos se utilizan de manera casi idéntica."
   ]
  },
  {
   "cell_type": "markdown",
   "metadata": {
    "lang": "es"
   },
   "source": [
    "# Dibujando vectores de palabras\n",
    "Ahora que ya tenemos listos los modelos vamos a dibujar un gráfico que nos ayude a visualizar como funcionan estos modelos. Trabajaremos con el modelo de Word2vec, aunque estos pasos serían totalmente aplicables a Glove también. Primero vamos a comprobar que cada vector tiene 100 dimensiones, como indicamos en el constructor de Word2Vec:"
   ]
  },
  {
   "cell_type": "code",
   "execution_count": 8,
   "metadata": {},
   "outputs": [
    {
     "data": {
      "text/plain": [
       "100"
      ]
     },
     "execution_count": 8,
     "metadata": {},
     "output_type": "execute_result"
    }
   ],
   "source": [
    "len(w2v_model.wv['football'])"
   ]
  },
  {
   "cell_type": "markdown",
   "metadata": {
    "lang": "es"
   },
   "source": [
    "Las palabras que suelan aparecer en el mismo contexto tendrán unos vectores parecidos, mientras que las palabras que no tengan nada en común tenderán a estar alejadas. Para poder ver esta relación vamos a reducir la dimensionalidad de algunos vectores a 2 dimensiones utilizando la técnica de PCA (Principal Component Analysis):"
   ]
  },
  {
   "cell_type": "code",
   "execution_count": 9,
   "metadata": {
    "collapsed": true
   },
   "outputs": [],
   "source": [
    "words = ['American', 'Football', 'Conference', 'David', 'Tyree',\n",
    "         'defensive', 'end', 'Eli', 'Manning', 'football',\n",
    "         'Glendale', 'Laurence', 'Maroney', 'Miami', 'Dolphins',\n",
    "         'Michael', 'Strahan', 'National', 'League', 'England',\n",
    "         'Patriots', 'New', 'York', 'Giants', 'NFL', 'Plaxico',\n",
    "         'Burress', 'quarterback', 'Randy', 'Moss', 'running',\n",
    "         'back', 'Super', 'Bowl', 'Wide', 'receiver']\n",
    "\n",
    "X_train = [w2v_model.wv[word] for word in w2v_model.wv.vocab]\n",
    "X = [w2v_model.wv[word] for word in words]\n",
    "pca = PCA(n_components=2)\n",
    "pca.fit(X_train)\n",
    "result = pca.transform(X)"
   ]
  },
  {
   "cell_type": "markdown",
   "metadata": {
    "lang": "es"
   },
   "source": [
    "Ahora que tenemos los vectores en 2 dimensiones, podemos realizar un scatter plot y dibujar cada palabra en el plano:"
   ]
  },
  {
   "cell_type": "code",
   "execution_count": 10,
   "metadata": {
    "cell_style": "center",
    "scrolled": false
   },
   "outputs": [
    {
     "data": {
      "image/png": "[encoded data removed]",
      "text/plain": [
       "<matplotlib.figure.Figure at 0x12268fa20>"
      ]
     },
     "metadata": {},
     "output_type": "display_data"
    }
   ],
   "source": [
    "plt.style.use('seaborn-poster')\n",
    "\n",
    "plt.title('Visualización de los vectores de palabras')\n",
    "plt.xlabel('x')\n",
    "plt.ylabel('y')\n",
    "plt.scatter(result[:,0], result[:,1])\n",
    "\n",
    "texts = []\n",
    "for i, word in enumerate(words):\n",
    "    texts.append(plt.text(result[i,0], result[i,1], word))\n",
    "\n",
    "adjust_text(texts, force_text=0.55, arrowprops=dict(arrowstyle=\"-|>\", color='r', lw=0.6))\n",
    "\n",
    "plt.tight_layout()\n",
    "plt.show()"
   ]
  },
  {
   "cell_type": "markdown",
   "metadata": {
    "collapsed": true,
    "lang": "es"
   },
   "source": [
    "# Expansión de consultas\n",
    "\n",
    "Ahora vamos a pasar a expandir una serie de consultas sobre la colección de tweets. La idea principal será obtener un número k de términos similares por cada término de la consulta original. Para ello partiremos de una consulta q0:<br><br>\n",
    "$$q_0 = t_1 + t_2 + t_3 + ... + t_n$$\n",
    "<br>\n",
    "A continuación obtenemos los términos similares para cada término de q0, y realizamos una consulta expandida qe de esta forma:<br><br>\n",
    "$$q_e = t_1 + sim(t1) + t_2 + sim(t_2)\\ +\\ ...\\ +\\ t_n + sim(t_n)$$\n",
    "<br>\n",
    "Una vez que tengamos la consulta expandida tanto para el modelo de Word2Vec como para el de Glove seleccionaremos los 10 resultados de la consulta con más puntuación devuelta por ElasticSearch. Utilizando nuestro criterio, seleccionaremos cuáles de estos resultados nos parecen relevantes y cuáles no, e indicaremos si obtenemos algún beneficio o no comparándo estos resultados con los resultados de la consulta original. Por último, miraremos que tweet subió y bajó más de ranking al realizar las consultas expandidas con respecto a la consulta original.\n",
    "\n",
    "Para evitar que el tamaño de la documentación sea muy grande, no incluimos el código fuente de las funciones que se usan en este apartado. Este código, junto con una breve descripción de cada función, se encuentra disponible en el archivo query_expansion.py de la carpeta src."
   ]
  },
  {
   "cell_type": "code",
   "execution_count": 11,
   "metadata": {
    "collapsed": true
   },
   "outputs": [],
   "source": [
    "from query_expansion import *"
   ]
  },
  {
   "cell_type": "markdown",
   "metadata": {
    "lang": "es"
   },
   "source": [
    "## Super Bowl\n",
    "Vamos a empezar con la consulta Super Bowl. Dado que es la primera consulta que expandimos explicaré brevemente los pasos seguidos para obtener cada resultado."
   ]
  },
  {
   "cell_type": "code",
   "execution_count": 12,
   "metadata": {
    "collapsed": true
   },
   "outputs": [],
   "source": [
    "start_query = \"Super Bowl\""
   ]
  },
  {
   "cell_type": "markdown",
   "metadata": {
    "collapsed": true,
    "lang": "es"
   },
   "source": [
    "### Resultados originales\n",
    "En primer lugar obtenemos los resultados sin expandir la consulta (result_q0). En esta variable guardaremos los primeros 1000 resultados devueltos por ElasticSearch, mientras que en la tabla siguiente mostraremos los 10 primeros."
   ]
  },
  {
   "cell_type": "code",
   "execution_count": 13,
   "metadata": {
    "collapsed": true
   },
   "outputs": [],
   "source": [
    "result_q0 = get_elasticsearch_result([['Super'], ['Bowl']], client, index)"
   ]
  },
  {
   "cell_type": "markdown",
   "metadata": {
    "variables": {
     "result_q0[0][0]": "Super Bowl, baby, Super Bowl ... go Pats!",
     "result_q0[1][0]": "super bowl? super martinis!",
     "result_q0[2][0]": "super bowl? or puppy bowl?",
     "result_q0[3][0]": "super bowl?!",
     "result_q0[4][0]": "Super Bowl!!!!!",
     "result_q0[5][0]": "Super Bowl！",
     "result_q0[6][0]": "Super bowl :)",
     "result_q0[7][0]": "Super Bowl.",
     "result_q0[8][0]": "super bowl!!",
     "result_q0[9][0]": "Super Tuesday not Super Bowl."
    }
   },
   "source": [
    "| resultado | relevante | razón |\n",
    "|:-----:|:----:|:---:|\n",
    "|{{result_q0[0][0]}}   |Sí  |  |\n",
    "|{{result_q0[1][0]}}   |Sí | |\n",
    "|{{result_q0[2][0]}}   |Sí | |\n",
    "|{{result_q0[3][0]}}   |No | |\n",
    "|{{result_q0[4][0]}}   |No | Repetido |\n",
    "|{{result_q0[5][0]}}   |No | Repetido |\n",
    "|{{result_q0[6][0]}}   |No | Repetido |\n",
    "|{{result_q0[7][0]}}   |No | Repetido |\n",
    "|{{result_q0[8][0]}}   |No | Repetido |\n",
    "|{{result_q0[9][0]}}   |No |  |"
   ]
  },
  {
   "cell_type": "markdown",
   "metadata": {},
   "source": [
    "### Resultados Word2Vec\n",
    "Ahora obtendremos los resultados de Word2Vec. En primer lugar, obtenemos la consulta expandida 'qe_w2v', y a continuación obtenemos de nuevo los 1000 primeros tweets (esta vez utilizando la consulta expandida) y mostramos en la tabla los 10 primeros."
   ]
  },
  {
   "cell_type": "code",
   "execution_count": 14,
   "metadata": {
    "collapsed": true
   },
   "outputs": [],
   "source": [
    "qe_w2v = get_expanded_query_w2v(w2v_model, start_query, k=3)\n",
    "result_w2v = get_elasticsearch_result(qe_w2v, client, index)"
   ]
  },
  {
   "cell_type": "markdown",
   "metadata": {
    "cell_style": "center",
    "variables": {
     "result_w2v[0][0]": "super bowl? or puppy bowl?",
     "result_w2v[1][0]": "Super Bowls are super.",
     "result_w2v[2][0]": "PUPPY BOWL! PUPPY BOWL!",
     "result_w2v[3][0]": "&quot;Forget the super bowl. I&#39;m mesmerized by Puppy Bowl IV!!!&quot;",
     "result_w2v[4][0]": "Super bowl sucks. I miss the puppy bowl :P",
     "result_w2v[5][0]": "not watching the stupor bowl.",
     "result_w2v[6][0]": "&quot;@kellypuffs, do what we&#39;re doing, Super Bowl AND Puppy Bowl!&quot;",
     "result_w2v[7][0]": "Not watching the Stupor Bowl.",
     "result_w2v[8][0]": "Expertly balancing work, Super Bowl, and Puppy Bowl IV.",
     "result_w2v[9][0]": "Stupor Bowl at the Crows"
    }
   },
   "source": [
    "| resultado | relevante | razón |\n",
    "| :-----: |:----:|:---:|\n",
    "|{{result_w2v[0][0]}}   |Sí  |  |\n",
    "|{{result_w2v[1][0]}}   |Sí |  |\n",
    "|{{result_w2v[2][0]}}   |No | Tweet sobre la puppy bowl |\n",
    "|{{result_w2v[3][0]}}   |No | Tweet sobre la puppy bowl |\n",
    "|{{result_w2v[4][0]}}   |No | Puppy bowl de nuevo |\n",
    "|{{result_w2v[5][0]}}   |No | Stupor bowl|\n",
    "|{{result_w2v[6][0]}}   |No |  |\n",
    "|{{result_w2v[7][0]}}   |No | Stupor bowl |\n",
    "|{{result_w2v[8][0]}}  |Sí |  |\n",
    "|{{result_w2v[9][0]}}   |No | Stupor bowl |"
   ]
  },
  {
   "cell_type": "markdown",
   "metadata": {},
   "source": [
    "### Resultados GloVe\n",
    "Y por último con Glove, el procedimiento es exactamente el mismo."
   ]
  },
  {
   "cell_type": "code",
   "execution_count": 15,
   "metadata": {
    "cell_style": "center",
    "collapsed": true
   },
   "outputs": [],
   "source": [
    "qe_glove = get_expanded_query_glove(glove_model, start_query, k=5)\n",
    "result_glove = get_elasticsearch_result(qe_glove, client, index)"
   ]
  },
  {
   "cell_type": "markdown",
   "metadata": {
    "variables": {
     "result_glove[0][0]": "Sci/Tech Rating The Super Bowl Commercials - InformationWeek: Washington PostRating The Super Bow.. <a href=\"http://tinyurl.com/28teuo\">http://tinyurl.com/28teuo</a>",
     "result_glove[1][0]": "Super Bowl XLII Commercials <a href=\"http://tinyurl.com/2r8r83\">http://tinyurl.com/2r8r83</a>",
     "result_glove[2][0]": "Super Bowl XLII commercials  <a href=\"http://tinyurl.com/3a6p4r\">http://tinyurl.com/3a6p4r</a>",
     "result_glove[3][0]": "Super Stunner: Giants Beat Patriots In Super Bowl XLII <a href=\"http://tinyurl.com/3ydd94\">http://tinyurl.com/3ydd94</a>",
     "result_glove[4][0]": "Super Bowl XLII starts!",
     "result_glove[5][0]": "Super Bowl Super Tuesday Fat Tuesday. What about Fat Bowl?",
     "result_glove[6][0]": "New blog post: Live Coverage of Super Bowl XLII and Super Bowl XLII Commercials <a href=\"http://tinyurl.com/3abjez\">http://tinyurl.com/3abjez</a>",
     "result_glove[7][0]": "Super Tuesday not Super Bowl.",
     "result_glove[8][0]": "Super Bowl XLII Commercials - First Quarter <a href=\"http://tinyurl.com/33youe\">http://tinyurl.com/33youe</a>",
     "result_glove[9][0]": "Super Bowl XLII Commercials - Third Quarter <a href=\"http://tinyurl.com/3y2p2a\">http://tinyurl.com/3y2p2a</a>"
    }
   },
   "source": [
    "| resultado | relevante | razón |\n",
    "| :-----: |:----:|:---:|\n",
    "|{{result_glove[0][0]}}   |Sí  | Evaluación de los anuncios |\n",
    "|{{result_glove[1][0]}}   |Sí | Anuncios de la Super Bowl |\n",
    "|{{result_glove[2][0]}}   |No | Repetido |\n",
    "|{{result_glove[3][0]}}   |Sí | Resultado de la Super Bowl|\n",
    "|{{result_glove[4][0]}}   |Sí | Comienzo de la Super Bowl |\n",
    "|{{result_glove[5][0]}}   |No | |\n",
    "|{{result_glove[6][0]}}   |No | De nuevo anuncios |\n",
    "|{{result_glove[7][0]}}   |No |  |\n",
    "|{{result_glove[8][0]}}   |Sí | Anuncios primera parte |\n",
    "|{{result_glove[9][0]}}   |Sí | Anuncios tercera parte |"
   ]
  },
  {
   "cell_type": "markdown",
   "metadata": {},
   "source": [
    "### Cambios de posiciones de cada tweet"
   ]
  },
  {
   "cell_type": "markdown",
   "metadata": {},
   "source": [
    "En este apartado utilizaremos los 1000 resultados guardados previamente de cada consulta para ver que tweets subieron y bajaron más de posición respecto a la consulta original."
   ]
  },
  {
   "cell_type": "markdown",
   "metadata": {},
   "source": [
    "#### Word2Vec"
   ]
  },
  {
   "cell_type": "code",
   "execution_count": 16,
   "metadata": {
    "scrolled": true
   },
   "outputs": [
    {
     "name": "stdout",
     "output_type": "stream",
     "text": [
      "El tweet 'The Super Bowl is exciting, but the Puppy Bowl has puppies. http://tinyurl.com/2uhqez' subió 649 posiciones (desde la posicion 675 hasta la posicion 26)\n",
      "El tweet '@pplwrd agreed, best super bowl ever!' descendió 518 posiciones (desde la posicion 364 hasta la posicion 882)\n"
     ]
    }
   ],
   "source": [
    "original_tweets = [pair[0] for pair in result_q0]\n",
    "expanded_tweets = [pair[0] for pair in result_w2v]\n",
    "show_most_improved_tweet(original_tweets, expanded_tweets)\n",
    "show_most_devaluated_tweet(original_tweets, expanded_tweets)"
   ]
  },
  {
   "cell_type": "markdown",
   "metadata": {},
   "source": [
    "#### Glove"
   ]
  },
  {
   "cell_type": "code",
   "execution_count": 17,
   "metadata": {
    "scrolled": true
   },
   "outputs": [
    {
     "name": "stdout",
     "output_type": "stream",
     "text": [
      "El tweet 'looking forward to Super Bowl XLII. GO GIANTS!' subió 907 posiciones (desde la posicion 986 hasta la posicion 79)\n",
      "El tweet '@pplwrd agreed, best super bowl ever!' descendió 556 posiciones (desde la posicion 364 hasta la posicion 920)\n"
     ]
    }
   ],
   "source": [
    "expanded_tweets = [pair[0] for pair in result_glove]\n",
    "show_most_improved_tweet(original_tweets, expanded_tweets)\n",
    "show_most_devaluated_tweet(original_tweets, expanded_tweets)"
   ]
  },
  {
   "cell_type": "markdown",
   "metadata": {},
   "source": [
    "### Conclusión"
   ]
  },
  {
   "cell_type": "markdown",
   "metadata": {},
   "source": [
    "En este caso, como podemos ver, los resultados obtenidos con la consulta original no aportan mucha información en general y los de Word2Vec se centran más en la Puppy Bowl que en la Super Bowl. Sin embargo, con GloVe obtenemos mejores resultados, centrados sobre todo en los anuncios de la Super Bowl, y algún comentario el comienzo y el ganador de ésta."
   ]
  },
  {
   "cell_type": "markdown",
   "metadata": {},
   "source": [
    "### Importancia del número de términos expandidos\n",
    "Antes de proceder a la siguiente consulta, vamos a observar que ocurre si modificamos el número de términos que expandimos para cada término original en el caso de Word2Vec:"
   ]
  },
  {
   "cell_type": "code",
   "execution_count": 18,
   "metadata": {
    "collapsed": true
   },
   "outputs": [],
   "source": [
    "qe_w2v = get_expanded_query_w2v(w2v_model, start_query, k=5)\n",
    "result_w2v = get_elasticsearch_result(qe_w2v, client, index)"
   ]
  },
  {
   "cell_type": "markdown",
   "metadata": {
    "variables": {
     "result_w2v[0][0]": "Playing Super Mario Galaxy.",
     "result_w2v[1][0]": "super bowl? or puppy bowl?",
     "result_w2v[2][0]": "just finished Super Mario Galaxy... great fun",
     "result_w2v[3][0]": "&quot;Forget the super bowl. I&#39;m mesmerized by Puppy Bowl IV!!!&quot;",
     "result_w2v[4][0]": "Super bowl sucks. I miss the puppy bowl :P",
     "result_w2v[5][0]": "&quot;@kellypuffs, do what we&#39;re doing, Super Bowl AND Puppy Bowl!&quot;",
     "result_w2v[6][0]": "Expertly balancing work, Super Bowl, and Puppy Bowl IV.",
     "result_w2v[7][0]": "Friday night decision: Super Mario Galaxy or Team Fortress 2?",
     "result_w2v[8][0]": "jeanette just pwned super mario galaxy... eat that blee!!",
     "result_w2v[9][0]": "Super Mario Galaxy for the Wii is totally badass!"
    }
   },
   "source": [
    "| resultado | relevante | razón |\n",
    "| :-----: |:----:|:---:|\n",
    "|{{result_w2v[0][0]}}   |No  | Super Mario Galaxy |\n",
    "|{{result_w2v[1][0]}}   |No | Puppy Bowl |\n",
    "|{{result_w2v[2][0]}}   |No | Super Mario Galaxy |\n",
    "|{{result_w2v[3][0]}}   |No | Puppy Bowl |\n",
    "|{{result_w2v[4][0]}}   |No | Puppy Bowl |\n",
    "|{{result_w2v[5][0]}}   |No | Stupor Bowl|\n",
    "|{{result_w2v[6][0]}}   |No | Puppy Bowl |\n",
    "|{{result_w2v[7][0]}}   |No | Super Mario Galaxy |\n",
    "|{{result_w2v[8][0]}}  |No | Super Mario Galaxy |\n",
    "|{{result_w2v[9][0]}}   |No | Super Mario Galaxy |"
   ]
  },
  {
   "cell_type": "markdown",
   "metadata": {},
   "source": [
    "Tras añadir un par de términos más obtenemos algunos resultados distintos. La mitad de los resultados tienen que ver con Super Mario Galaxy, lo cual tiene bastante sentido para Word2Vec, ya que la palabra 'Super' además de estar relacionada con 'Bowl' también lo está con 'Mario' y 'Galaxy' en muchos otros tweets. Sin embargo, si alguien quiere ver los tweets relacionados con la Super Bowl y se encuentra con tweets hablando de Super Mario Galaxy seguramente no le hará mucha gracia. Teniendo en cuenta esto, podemos sacar como conclusión que la selección del número de términos a expandir es un proceso bastante crítico, en el que un término más o menos puede cambiar drásticamente los resultados."
   ]
  },
  {
   "cell_type": "markdown",
   "metadata": {},
   "source": [
    "## NFL"
   ]
  },
  {
   "cell_type": "code",
   "execution_count": 19,
   "metadata": {
    "collapsed": true
   },
   "outputs": [],
   "source": [
    "start_query = \"NFL\""
   ]
  },
  {
   "cell_type": "markdown",
   "metadata": {},
   "source": [
    "### Resultados originales"
   ]
  },
  {
   "cell_type": "code",
   "execution_count": 20,
   "metadata": {
    "collapsed": true,
    "scrolled": true
   },
   "outputs": [],
   "source": [
    "result_q0 = get_elasticsearch_result([[start_query]], client, index)"
   ]
  },
  {
   "cell_type": "markdown",
   "metadata": {
    "variables": {
     "result_q0[0][0]": "NFL Super Bowl",
     "result_q0[1][0]": "@superbowlads NFL nice",
     "result_q0[2][0]": "@superbowlads - nfl texans = 3",
     "result_q0[3][0]": "@thsboyelroy Blame the NFL.",
     "result_q0[4][0]": "@superbowlads - NFL network -1.5",
     "result_q0[5][0]": "at NFL Network press booth",
     "result_q0[6][0]": "@superbowlads NFL network sucks 2",
     "result_q0[7][0]": "@superbowlads nfl network - 4 stars",
     "result_q0[8][0]": "NFL Experience <a href=\"http://tinyurl.com/2d4996\">http://tinyurl.com/2d4996</a>",
     "result_q0[9][0]": "NFL super ad was good."
    }
   },
   "source": [
    "| resultado | relevante | razón |\n",
    "| :-----: |:----:|:---:|\n",
    "|{{result_q0[0][0]}}   |Sí | Relaciona NFL y Super Bowl |\n",
    "|{{result_q0[1][0]}}   |No | Conversación |\n",
    "|{{result_q0[2][0]}}   |No | Conversación |\n",
    "|{{result_q0[3][0]}}   |No | Conversación |\n",
    "|{{result_q0[4][0]}}   |No | Conversación |\n",
    "|{{result_q0[5][0]}}   |Sí | Comentario Superbowl |\n",
    "|{{result_q0[6][0]}}   |No | Conversación |\n",
    "|{{result_q0[7][0]}}   |No | Conversación |\n",
    "|{{result_q0[8][0]}}   |Sí | Enlace relacionado |\n",
    "|{{result_q0[9][0]}}   |Sí | Comentario SuperBowl |"
   ]
  },
  {
   "cell_type": "markdown",
   "metadata": {},
   "source": [
    "### Resultados Word2Vec"
   ]
  },
  {
   "cell_type": "code",
   "execution_count": 21,
   "metadata": {
    "collapsed": true,
    "scrolled": true
   },
   "outputs": [],
   "source": [
    "qe_w2v = get_expanded_query_w2v(w2v_model, start_query, k=5)\n",
    "result_w2v = get_elasticsearch_result(qe_w2v, client, index)"
   ]
  },
  {
   "cell_type": "markdown",
   "metadata": {
    "variables": {
     "result_w2v[0][0]": "And the NFL wins. AWESOME ad!!",
     "result_w2v[1][0]": "Panda News: Once again, NFL wins advertising game - Seattle Times: Once again, NFL wins advertis.. <a href=\"http://tinyurl.com/33kktx\">http://tinyurl.com/33kktx</a>",
     "result_w2v[2][0]": "GLENDALE, Arizona (Reuters) - The New York Giants achieved one of the\\nmost improbable upsets in NFL history with a 17-14 victory over th ...",
     "result_w2v[3][0]": "GLENDALE, Arizona (Reuters) - The New York Giants achieved one of the\\nbiggest upsets in NFL history with a 17-14 victory over the previo ...",
     "result_w2v[4][0]": "GLENDALE, Arizona (Reuters) - The New York Giants achieved one of the\\nbiggest upsets in NFL history with a 17-14 victory over the previo ...",
     "result_w2v[5][0]": "GLENDALE, Arizona (Reuters) - The New York Giants achieved one of the\\nbiggest upsets in NFL history with a 17-14 victory over the previo ...",
     "result_w2v[6][0]": "GLENDALE, Arizona (Reuters) - The New York Giants achieved one of the\\nbiggest upsets in NFL history with a 17-14 victory over the previo ...",
     "result_w2v[7][0]": "GLENDALE, Arizona (Reuters) - The New York Giants achieved one of the\\nbiggest upsets in NFL history with a 17-14 victory over the previo ...",
     "result_w2v[8][0]": "GLENDALE, Arizona (Reuters) - The New York Giants achieved one of the\\nbiggest upsets in NFL history with a 17-14 victory over the previo ...",
     "result_w2v[9][0]": "GLENDALE, Arizona (Reuters) - The New York Giants achieved one of the\\nbiggest upsets in NFL history with a 17-14 victory over the previo ..."
    }
   },
   "source": [
    "| resultado | relevante | razón |\n",
    "| :-----: |:----:|:---:|\n",
    "|{{result_w2v[0][0]}}   |Sí | Comentario sobre NFL |\n",
    "|{{result_w2v[1][0]}}   |Sí | Noticia |\n",
    "|{{result_w2v[2][0]}}   |Sí | Noticia |\n",
    "|{{result_w2v[3][0]}}   |No | Repetido |\n",
    "|{{result_w2v[4][0]}}   |No | Repetido |\n",
    "|{{result_w2v[5][0]}}   |No | Repetido |\n",
    "|{{result_w2v[6][0]}}   |No | Repetido |\n",
    "|{{result_w2v[7][0]}}   |No | Repetido |\n",
    "|{{result_w2v[8][0]}}   |No | Repetido |\n",
    "|{{result_w2v[9][0]}}   |No | Repetido |"
   ]
  },
  {
   "cell_type": "markdown",
   "metadata": {},
   "source": [
    "### Resultados Glove"
   ]
  },
  {
   "cell_type": "code",
   "execution_count": 22,
   "metadata": {
    "collapsed": true
   },
   "outputs": [],
   "source": [
    "qe_glove = get_expanded_query_glove(glove_model, start_query, k=2)\n",
    "result_glove = get_elasticsearch_result(qe_glove, client, index)"
   ]
  },
  {
   "cell_type": "markdown",
   "metadata": {
    "variables": {
     "result_glove[0][0]": "Football #commentary, The #Patriots played against history. And history is a good oponent. [...] #superbowl #nfl",
     "result_glove[1][0]": "getting ready to watch NFL history in the making",
     "result_glove[2][0]": "&quot;i have relocated.  watching NFL history @ kellie&#39;s house now.  ;)&quot;",
     "result_glove[3][0]": "New blog post: Disinformation <a href=\"http://countzero.com/word/?p=1714\">http://countzero.com/word/?p=1714</a>",
     "result_glove[4][0]": "definitely definitely definitely definitely NOT the best team in the history of the NFL\\n. Forgettable, actually.",
     "result_glove[5][0]": "would like to see Patriots become one of biggest upset in NFL history!",
     "result_glove[6][0]": "...and the 1972 Dolphins are still the only undefeated team in NFL history.",
     "result_glove[7][0]": "18-and-Uh-Oh: Giants Pull Off Biggest Upset In NFL History <a href=\"http://tinyurl.com/yvayr5\">http://tinyurl.com/yvayr5</a>",
     "result_glove[8][0]": "I love the suckers that cheered for the best 18-1 team in NFL history.",
     "result_glove[9][0]": "&quot;Steve Young calls the Giants&#39; win the greatest upset in NFL history&quot;"
    }
   },
   "source": [
    "| resultado | relevante | razón |\n",
    "| :-----: |:----:|:---:|\n",
    "|{{result_glove[0][0]}}   |Sí | Comentario del partido |\n",
    "|{{result_glove[1][0]}}   |No | Comentario personal |\n",
    "|{{result_glove[2][0]}}   |No | Comentario personal |\n",
    "|{{result_glove[3][0]}}   |No |  |\n",
    "|{{result_glove[4][0]}}   |Sí | Comentario del partido |\n",
    "|{{result_glove[5][0]}}   |Sí | Comentario del partido |\n",
    "|{{result_glove[6][0]}}   |Sí | Comentario del partido |\n",
    "|{{result_glove[7][0]}}   |Sí | Noticia |\n",
    "|{{result_glove[8][0]}}   |No | |\n",
    "|{{result_glove[9][0]}}   |No | |"
   ]
  },
  {
   "cell_type": "markdown",
   "metadata": {},
   "source": [
    "### Cambios de posiciones de cada tweet"
   ]
  },
  {
   "cell_type": "markdown",
   "metadata": {},
   "source": [
    "#### Word2Vec"
   ]
  },
  {
   "cell_type": "code",
   "execution_count": 23,
   "metadata": {
    "hide_input": true,
    "scrolled": true
   },
   "outputs": [
    {
     "name": "stdout",
     "output_type": "stream",
     "text": [
      "El tweet 'GLENDALE, Arizona (Reuters) - The New York Giants achieved one of the\n",
      "biggest upsets in NFL history with a 17-14 victory over the previo ...' subió 683 posiciones (desde la posicion 686 hasta la posicion 3)\n",
      "El tweet '+170: New York vs. New England &mdash; bouch added 5 roots\n",
      "http://ruwt.tv/nfl/games/72110' descendió 688 posiciones (desde la posicion 294 hasta la posicion 982)\n"
     ]
    }
   ],
   "source": [
    "original_tweets = [pair[0] for pair in result_q0]\n",
    "expanded_tweets = [pair[0] for pair in result_w2v]\n",
    "show_most_improved_tweet(original_tweets, expanded_tweets)\n",
    "show_most_devaluated_tweet(original_tweets, expanded_tweets)"
   ]
  },
  {
   "cell_type": "markdown",
   "metadata": {},
   "source": [
    "#### Glove"
   ]
  },
  {
   "cell_type": "code",
   "execution_count": 24,
   "metadata": {
    "hide_input": true
   },
   "outputs": [
    {
     "name": "stdout",
     "output_type": "stream",
     "text": [
      "El tweet 'GLENDALE, Arizona (Reuters) - The New York Giants achieved one of the\n",
      "biggest upsets in NFL history with a 17-14 victory over the previo ...' subió 645 posiciones (desde la posicion 686 hasta la posicion 41)\n",
      "El tweet 'Voice of America\n",
      "\n",
      "NFL Commissioner Addresses Super Bowl Media\n",
      "Voice of America - 2 hours ago\n",
      "By Parke Brewer Less than a week after Pres ...' descendió 543 posiciones (desde la posicion 445 hasta la posicion 988)\n"
     ]
    }
   ],
   "source": [
    "expanded_tweets = [pair[0] for pair in result_glove]\n",
    "show_most_improved_tweet(original_tweets, expanded_tweets)\n",
    "show_most_devaluated_tweet(original_tweets, expanded_tweets)"
   ]
  },
  {
   "cell_type": "markdown",
   "metadata": {},
   "source": [
    "### Conclusión"
   ]
  },
  {
   "cell_type": "markdown",
   "metadata": {},
   "source": [
    "En este caso, para la consulta \"NFL\", optaríamos por usar Glove, ya que extrae mejores resultados en la expansión de consultas que Word2Vec, que en este caso saca muchos tweets repetidos, y que sin expandir las consultas, ya que muestra resultados sin relevancia. En cambio, usando Glove, conseguimos gran variedad de resultados relevantes acerca de la NFL y la Super Bowl."
   ]
  },
  {
   "cell_type": "markdown",
   "metadata": {},
   "source": [
    "## Eli Manning"
   ]
  },
  {
   "cell_type": "code",
   "execution_count": 25,
   "metadata": {
    "collapsed": true
   },
   "outputs": [],
   "source": [
    "start_query = \"Eli Manning\""
   ]
  },
  {
   "cell_type": "markdown",
   "metadata": {},
   "source": [
    "### Resultados originales"
   ]
  },
  {
   "cell_type": "code",
   "execution_count": 26,
   "metadata": {
    "collapsed": true
   },
   "outputs": [],
   "source": [
    "result_q0 = get_elasticsearch_result([['Eli'], ['Manning']], client, index)"
   ]
  },
  {
   "cell_type": "markdown",
   "metadata": {
    "variables": {
     "result_q0[0][0]": "eli manning mvp.",
     "result_q0[1][0]": "@preppydude eli manning",
     "result_q0[2][0]": "Eli Manning - nice start",
     "result_q0[3][0]": "ELI MANNING PEOPLE",
     "result_q0[4][0]": "Eli is Manning Up",
     "result_q0[5][0]": "Eli Manning...holy cow!",
     "result_q0[6][0]": "Eli Manning, MVP",
     "result_q0[7][0]": "Eli Manning nickname? &quot;Easy E&quot;",
     "result_q0[8][0]": "Eli manning is a machine",
     "result_q0[9][0]": "@keithBurtis Eli Manning got it."
    }
   },
   "source": [
    "| resultado | relevante | razón |\n",
    "| :-----: |:----:|:---:|\n",
    "|{{result_q0[0][0]}}   |Sí | Comentario del partido |\n",
    "|{{result_q0[1][0]}}   |No |  |\n",
    "|{{result_q0[2][0]}}   |Sí |  |\n",
    "|{{result_q0[3][0]}}   |No |  |\n",
    "|{{result_q0[4][0]}}   |No |  |\n",
    "|{{result_q0[5][0]}}   |No |  |\n",
    "|{{result_q0[6][0]}}   |No | Repetido |\n",
    "|{{result_q0[7][0]}}   |No |  |\n",
    "|{{result_q0[8][0]}}   |No |  |\n",
    "|{{result_q0[9][0]}}   |No | Conversación |"
   ]
  },
  {
   "cell_type": "markdown",
   "metadata": {},
   "source": [
    "### Resultados Word2Vec"
   ]
  },
  {
   "cell_type": "code",
   "execution_count": 27,
   "metadata": {
    "collapsed": true
   },
   "outputs": [],
   "source": [
    "qe_w2v = get_expanded_query_w2v(w2v_model, start_query, k=4)\n",
    "result_w2v = get_elasticsearch_result(qe_w2v, client, index)"
   ]
  },
  {
   "cell_type": "markdown",
   "metadata": {
    "variables": {
     "result_w2v[0][0]": "Manning 4 MVP. If not Eli Tyree",
     "result_w2v[1][0]": "eli manning mvp.",
     "result_w2v[2][0]": "Eli Manning, MVP",
     "result_w2v[3][0]": "Eli Manning will be MVP.",
     "result_w2v[4][0]": "1 and 1A -- Peyton and Eli Manning!",
     "result_w2v[5][0]": "Something tells me Eli Manning gets MVP.",
     "result_w2v[6][0]": "Thinking Eli Manning should win the MVP.",
     "result_w2v[7][0]": "&quot;Your MVP, ladies &amp; gentlemen, Eli Manning.&quot; There are no words.",
     "result_w2v[8][0]": "Eli Manning.  Supe Bowl MVP.  Not a joke.",
     "result_w2v[9][0]": "Eli Manning MVP! What an amazing game. Wow."
    }
   },
   "source": [
    "| resultado | relevante | razón |\n",
    "| :-----: |:----:|:---:|\n",
    "|{{result_w2v[0][0]}}   |No |  |\n",
    "|{{result_w2v[1][0]}}   |Sí | Comentario partido |\n",
    "|{{result_w2v[2][0]}}   |No | Repetido |\n",
    "|{{result_w2v[3][0]}}   |No | Repetido |\n",
    "|{{result_w2v[4][0]}}   |Sí |  |\n",
    "|{{result_w2v[5][0]}}   |No | Repetido |\n",
    "|{{result_w2v[6][0]}}   |No | Repetido |\n",
    "|{{result_w2v[7][0]}}   |No | Repetido |\n",
    "|{{result_w2v[8][0]}}   |No | Repetido |\n",
    "|{{result_w2v[9][0]}}   |No | Repetido |"
   ]
  },
  {
   "cell_type": "markdown",
   "metadata": {},
   "source": [
    "### Resultados Glove"
   ]
  },
  {
   "cell_type": "code",
   "execution_count": 28,
   "metadata": {
    "collapsed": true
   },
   "outputs": [],
   "source": [
    "qe_glove = get_expanded_query_glove(glove_model, start_query, k=5)\n",
    "result_glove = get_elasticsearch_result(qe_glove, client, index)"
   ]
  },
  {
   "cell_type": "markdown",
   "metadata": {
    "variables": {
     "result_glove[0][0]": "eli manning mvp.",
     "result_glove[1][0]": "Eli Manning, MVP",
     "result_glove[2][0]": "Eli Manning will be MVP.",
     "result_glove[3][0]": "Manning 4 MVP. If not Eli Tyree",
     "result_glove[4][0]": "Something tells me Eli Manning gets MVP.",
     "result_glove[5][0]": "Thinking Eli Manning should win the MVP.",
     "result_glove[6][0]": "Congrats to both teams.  Congrats to the Giants and Eli Manning for pulling the upset!",
     "result_glove[7][0]": "&quot;Your MVP, ladies &amp; gentlemen, Eli Manning.&quot; There are no words.",
     "result_glove[8][0]": "Eli Manning.  Supe Bowl MVP.  Not a joke.",
     "result_glove[9][0]": "congrats giants fans"
    }
   },
   "source": [
    "| resultado | relevante | razón |\n",
    "| :-----: |:----:|:---:|\n",
    "|{{result_glove[0][0]}}   |Sí | Comentario del partido |\n",
    "|{{result_glove[1][0]}}   |No | Repetido |\n",
    "|{{result_glove[2][0]}}   |No | Repetido |\n",
    "|{{result_glove[3][0]}}   |No | Repetido |\n",
    "|{{result_glove[4][0]}}   |No | Repetido |\n",
    "|{{result_glove[5][0]}}   |No | Repetido |\n",
    "|{{result_glove[6][0]}}   |Sí | Comentario del partido |\n",
    "|{{result_glove[7][0]}}   |No | Repetido |\n",
    "|{{result_glove[8][0]}}   |No | Repetido |\n",
    "|{{result_glove[9][0]}}   |No | Repetido |"
   ]
  },
  {
   "cell_type": "markdown",
   "metadata": {},
   "source": [
    "### Cambios de posiciones de cada tweet"
   ]
  },
  {
   "cell_type": "markdown",
   "metadata": {},
   "source": [
    "#### Word2Vec"
   ]
  },
  {
   "cell_type": "code",
   "execution_count": 29,
   "metadata": {
    "hide_input": true,
    "scrolled": false
   },
   "outputs": [
    {
     "name": "stdout",
     "output_type": "stream",
     "text": [
      "El tweet 'I said Eli would win the MVP just like his brother Peyton did last year!\n",
      "Sorry Pats...you're just not THAT perfect!' subió 841 posiciones (desde la posicion 925 hasta la posicion 84)\n",
      "El tweet 'Manning Keeps Cool, and Keeps a Drive Alive http://tinyurl.com/36oap7' descendió 190 posiciones (desde la posicion 625 hasta la posicion 815)\n"
     ]
    }
   ],
   "source": [
    "original_tweets = [pair[0] for pair in result_q0]\n",
    "expanded_tweets = [pair[0] for pair in result_w2v]\n",
    "show_most_improved_tweet(original_tweets, expanded_tweets)\n",
    "show_most_devaluated_tweet(original_tweets, expanded_tweets)"
   ]
  },
  {
   "cell_type": "markdown",
   "metadata": {},
   "source": [
    "#### Glove"
   ]
  },
  {
   "cell_type": "code",
   "execution_count": 30,
   "metadata": {
    "hide_input": true
   },
   "outputs": [
    {
     "name": "stdout",
     "output_type": "stream",
     "text": [
      "El tweet 'Congrats Giants, Congrats Coughlin, Congrats Eli. Oh, and congrats '72 Dolphins.' subió 748 posiciones (desde la posicion 769 hasta la posicion 21)\n",
      "El tweet 'Eli, you made me lose my voice!' descendió 582 posiciones (desde la posicion 398 hasta la posicion 980)\n"
     ]
    }
   ],
   "source": [
    "expanded_tweets = [pair[0] for pair in result_glove]\n",
    "show_most_improved_tweet(original_tweets, expanded_tweets)\n",
    "show_most_devaluated_tweet(original_tweets, expanded_tweets)"
   ]
  },
  {
   "cell_type": "markdown",
   "metadata": {},
   "source": [
    "### Conclusión"
   ]
  },
  {
   "cell_type": "markdown",
   "metadata": {},
   "source": [
    "Para el caso de la consulta \"Eli Manning\", podemos observar que tanto usando la expansión de consultas de Word2Vec, de Glove o sin expandirlas, obtenemos resultados muy parecidos sobre la actuación en el partido de la SuperBowl de Eli Manning. Sin embargo, al observar los cambios de posición de los tweets en cada modelo, podemos observar que usando Glove, el tweet que más posiciones subió fue uno no relacionado con el MVP Eli Manning, mientras que con Word2Vec fue uno hablando de este mismo tema. Por tanto, si tuviéramos que elegir un modelo, usaríamos Glove ya que es más exhaustivo en sus resultados que Word2Vec en este caso."
   ]
  },
  {
   "cell_type": "markdown",
   "metadata": {},
   "source": [
    "## New York Giants"
   ]
  },
  {
   "cell_type": "code",
   "execution_count": 31,
   "metadata": {
    "collapsed": true
   },
   "outputs": [],
   "source": [
    "start_query = \"New York Giants\""
   ]
  },
  {
   "cell_type": "markdown",
   "metadata": {},
   "source": [
    "### Resultados originales"
   ]
  },
  {
   "cell_type": "code",
   "execution_count": 32,
   "metadata": {
    "collapsed": true
   },
   "outputs": [],
   "source": [
    "result_q0 = get_elasticsearch_result([['New'], ['York'], ['Giants']], client, index)"
   ]
  },
  {
   "cell_type": "markdown",
   "metadata": {
    "variables": {
     "result_q0[0][0]": "<em>chants</em> NEW YORK! NEW YORK! GO GIANTS!",
     "result_q0[1][0]": "Congratulations New York Giants",
     "result_q0[2][0]": "New York Giants - Booooo!!",
     "result_q0[3][0]": "Go New York Giants!",
     "result_q0[4][0]": "NEW YORK GIANTS!",
     "result_q0[5][0]": "New york football giants",
     "result_q0[6][0]": "The New York Football Giants",
     "result_q0[7][0]": "New York Giants time out",
     "result_q0[8][0]": "Go New York Giants GO!!! :)",
     "result_q0[9][0]": "congratulations new york football giants."
    }
   },
   "source": [
    "| resultado | relevante | razón |\n",
    "| :-----: |:----:|:---:|\n",
    "|{{result_q0[0][0]}}   |No |  |\n",
    "|{{result_q0[1][0]}}   |Sí | Comentario del partido |\n",
    "|{{result_q0[2][0]}}   |No |  |\n",
    "|{{result_q0[3][0]}}   |No | Repetido |\n",
    "|{{result_q0[4][0]}}   |No | Repetido |\n",
    "|{{result_q0[5][0]}}   |No | Repetido |\n",
    "|{{result_q0[6][0]}}   |No |  |\n",
    "|{{result_q0[7][0]}}   |No |  |\n",
    "|{{result_q0[8][0]}}   |No | Repetido |\n",
    "|{{result_q0[9][0]}}   |No | Repetido |"
   ]
  },
  {
   "cell_type": "markdown",
   "metadata": {},
   "source": [
    "### Resultados Word2Vec"
   ]
  },
  {
   "cell_type": "code",
   "execution_count": 33,
   "metadata": {
    "collapsed": true,
    "scrolled": true
   },
   "outputs": [],
   "source": [
    "qe_w2v = get_expanded_query_w2v(w2v_model, start_query, k=3)\n",
    "result_w2v = get_elasticsearch_result(qe_w2v, client, index)"
   ]
  },
  {
   "cell_type": "markdown",
   "metadata": {
    "variables": {
     "result_w2v[0][0]": "@theother66 New England Patriots &amp; New York Giants",
     "result_w2v[1][0]": "@theother66 New England Patriots and New York Giants are playing the big game today! Go PATS!",
     "result_w2v[2][0]": "OPEN THREAD: Giants vs. Patriots - New York Times. New York TimesOPEN THREAD: Giants vs.",
     "result_w2v[3][0]": "Superbowl: New York Giants 17 defeat New England Patriots 14",
     "result_w2v[4][0]": "Super Bowl XLII Champions New York Giants: The New York Giants defeated the New England Patriots to.. <a href=\"http://tinyurl.com/2b2tm9\">http://tinyurl.com/2b2tm9</a>",
     "result_w2v[5][0]": "&quot;new york giants son. I guess the patriots aren&#39;t unstoppable.&quot;",
     "result_w2v[6][0]": "giants or pats giants or pats",
     "result_w2v[7][0]": "Superl Bowl prediction: New England Patriots 31 - 24 New York Football Giants. Go Patriots!!!!",
     "result_w2v[8][0]": "New York Giants - Booooo!!",
     "result_w2v[9][0]": "Go New York Giants!"
    }
   },
   "source": [
    "| resultado | relevante | razón |\n",
    "| :-----: |:----:|:---:|\n",
    "|{{result_w2v[0][0]}}   |No | Conversación |\n",
    "|{{result_w2v[1][0]}}   |No | Conversación |\n",
    "|{{result_w2v[2][0]}}   |Sí | Comentario del partido |\n",
    "|{{result_w2v[3][0]}}   |Sí | Comentario post-partido |\n",
    "|{{result_w2v[4][0]}}   |Sí | Noticia post-partido |\n",
    "|{{result_w2v[5][0]}}   |No |  |\n",
    "|{{result_w2v[6][0]}}   |No |  |\n",
    "|{{result_w2v[7][0]}}   |Sí | Comentario pre-partido |\n",
    "|{{result_w2v[8][0]}}   |No |  |\n",
    "|{{result_w2v[9][0]}}   |No |  |"
   ]
  },
  {
   "cell_type": "markdown",
   "metadata": {},
   "source": [
    "### Resultados Glove"
   ]
  },
  {
   "cell_type": "code",
   "execution_count": 34,
   "metadata": {
    "collapsed": true
   },
   "outputs": [],
   "source": [
    "qe_glove = get_expanded_query_glove(glove_model, start_query, k=4)\n",
    "result_glove = get_elasticsearch_result(qe_glove, client, index)"
   ]
  },
  {
   "cell_type": "markdown",
   "metadata": {
    "variables": {
     "result_glove[0][0]": "Congrats NY Giants.",
     "result_glove[1][0]": "Congrats NY Giants!",
     "result_glove[2][0]": "OPEN THREAD: Giants vs. Patriots - New York Times. New York TimesOPEN THREAD: Giants vs.",
     "result_glove[3][0]": "Great Game Congrats NY Giants",
     "result_glove[4][0]": "congrats to the NY Giants !!!",
     "result_glove[5][0]": "Congrats to the NY Giants...",
     "result_glove[6][0]": "Awesome game!!!  Congrats NY Giants!!",
     "result_glove[7][0]": "Congrats to the NY Giants and all of New York on this spectacular victory!",
     "result_glove[8][0]": "@theother66 New England Patriots and New York Giants are playing the big game today! Go PATS!",
     "result_glove[9][0]": "@theother66 New England Patriots &amp; New York Giants"
    }
   },
   "source": [
    "| resultado | relevante | razón |\n",
    "| :-----: |:----:|:---:|\n",
    "|{{result_glove[0][0]}}   |Sí | Comentario del partido |\n",
    "|{{result_glove[1][0]}}   |No | Repetido |\n",
    "|{{result_glove[2][0]}}   |Sí | Comentario del partido |\n",
    "|{{result_glove[3][0]}}   |No | Repetido |\n",
    "|{{result_glove[4][0]}}   |No | Repetido |\n",
    "|{{result_glove[5][0]}}   |No | Repetido |\n",
    "|{{result_glove[6][0]}}   |No | Repetido |\n",
    "|{{result_glove[7][0]}}   |No | Repetido |\n",
    "|{{result_glove[8][0]}}   |No | Conversación |\n",
    "|{{result_glove[9][0]}}   |No | Conversación |"
   ]
  },
  {
   "cell_type": "markdown",
   "metadata": {},
   "source": [
    "### Cambios de posiciones de cada tweet"
   ]
  },
  {
   "cell_type": "markdown",
   "metadata": {},
   "source": [
    "#### Word2Vec"
   ]
  },
  {
   "cell_type": "code",
   "execution_count": 35,
   "metadata": {
    "hide_input": true,
    "scrolled": true
   },
   "outputs": [
    {
     "name": "stdout",
     "output_type": "stream",
     "text": [
      "El tweet 'giants or pats giants or pats' subió 932 posiciones (desde la posicion 938 hasta la posicion 6)\n",
      "El tweet 'NEW YORK (Reuters) - A record number of Americans watched Sunday's Super\n",
      "Bowl on Fox between the New York Giants and New England Patriot ...' descendió 536 posiciones (desde la posicion 84 hasta la posicion 620)\n"
     ]
    }
   ],
   "source": [
    "original_tweets = [pair[0] for pair in result_q0]\n",
    "expanded_tweets = [pair[0] for pair in result_w2v]\n",
    "show_most_improved_tweet(original_tweets, expanded_tweets)\n",
    "show_most_devaluated_tweet(original_tweets, expanded_tweets)"
   ]
  },
  {
   "cell_type": "markdown",
   "metadata": {},
   "source": [
    "#### Glove"
   ]
  },
  {
   "cell_type": "code",
   "execution_count": 36,
   "metadata": {
    "hide_input": true
   },
   "outputs": [
    {
     "name": "stdout",
     "output_type": "stream",
     "text": [
      "El tweet 'giants or pats giants or pats' subió 873 posiciones (desde la posicion 938 hasta la posicion 65)\n",
      "El tweet 'NEW YORK (Reuters) - A record number of Americans watched Sunday's Super\n",
      "Bowl on Fox between the New York Giants and New England Patriot ...' descendió 908 posiciones (desde la posicion 84 hasta la posicion 992)\n"
     ]
    }
   ],
   "source": [
    "expanded_tweets = [pair[0] for pair in result_glove]\n",
    "show_most_improved_tweet(original_tweets, expanded_tweets)\n",
    "show_most_devaluated_tweet(original_tweets, expanded_tweets)"
   ]
  },
  {
   "cell_type": "markdown",
   "metadata": {},
   "source": [
    "### Conclusión"
   ]
  },
  {
   "cell_type": "markdown",
   "metadata": {},
   "source": [
    "Al realizar la consulta \"New York Giants\", equipo ganador de la Super Bowl 2008, obtenemos resultados bastante dispares según el modelo que usemos. Si usamos los resultados originales, sin expandir la consulta, obtenemos resultados \"vacíos\", ya que en dichos tweets solamente encontramos exclamaciones y el nombre del equipo vencedor. Si utilizamos Glove, también obtenemos resultados muy similares entre sí, felicitando al equipo vencedor. En cambio, si utilizamos Word2Vec, obtenemos resultados variados sobre el pre y post partido, y sobre el partido en sí, obviamente. Al contrario que en los anteriores casos, los tweets que más puestos subieron en Word2Vec y en Glove son los mismos en los dos modelos, por lo que utilizando la información obtenida en la expansión de consultas, en este caso utilizaríamos Word2Vec."
   ]
  },
  {
   "cell_type": "markdown",
   "metadata": {},
   "source": [
    "## Precisiones obtenidas con cada modelo"
   ]
  },
  {
   "cell_type": "markdown",
   "metadata": {},
   "source": [
    "Con todos los datos recogidos previamente, podemos mostrar en una tabla las precisiones obtenidas para los 5 y los 10 primeros resultados de cada consulta. Los resultado obtenidos son los siguientes:"
   ]
  },
  {
   "cell_type": "code",
   "execution_count": 40,
   "metadata": {
    "hide_input": false,
    "scrolled": false
   },
   "outputs": [
    {
     "data": {
      "text/plain": [
       "'\\\\begin{tabular}{llll}\\n\\\\toprule\\n{} & Expansión usando GloVe & Expansión usando Word2vec & Sin expandir consulta \\\\\\\\\\n\\\\midrule\\nP@5  &                  45.0\\\\% &                     50.0\\\\% &                 35.0\\\\% \\\\\\\\\\nP@10 &                  37.5\\\\% &                     30.0\\\\% &                 25.0\\\\% \\\\\\\\\\n\\\\bottomrule\\n\\\\end{tabular}\\n'"
      ]
     },
     "execution_count": 40,
     "metadata": {},
     "output_type": "execute_result"
    }
   ],
   "source": [
    "d = {'Sin expandir consulta': ['{}%'.format(7/20 * 100),\n",
    "                               '{}%'.format(10/40* 100)], \n",
    "     'Expansión usando Word2vec': ['{}%'.format(10/20 * 100),\n",
    "                                   '{}%'.format(12/40* 100)], \n",
    "     'Expansión usando GloVe': ['{}%'.format(9/20 * 100),\n",
    "                                '{}%'.format(15/40* 100)]\n",
    "    }\n",
    "df = pd.DataFrame(data=d, index=['P@5', 'P@10']) \n",
    "df.to_latex()"
   ]
  },
  {
   "cell_type": "markdown",
   "metadata": {},
   "source": [
    "Como podemos ver, para nuestras consultas de prueba ambos modelos obtienen más resultados relevantes que si no expandiésemos las consultas. También podemos observar que Word2Vec da resultados ligeramente mejores para los 5 primeros tweets, mientras que GloVe obtiene mejores resultados si tenemos en cuenta los 10 primeros tweets. En todos los casos la precisión desciende bastante al tener en cuenta los 10 primeros tweets, aunque esto se debe en gran medida a que muchos de los últimos 5 tweets suelen contener la misma información que los 5 primeros, por lo que no los consideramos relevantes."
   ]
  },
  {
   "cell_type": "markdown",
   "metadata": {
    "collapsed": true
   },
   "source": [
    "# Rendimiento de los modelos\n",
    "Antes de terminar, vamos a realizar unas mediciones sobre ambos modelos para ver cuanto tardan en entrenar sobre la colección de tweets y la memoria que utiliza cada uno."
   ]
  },
  {
   "cell_type": "code",
   "execution_count": 38,
   "metadata": {
    "collapsed": true
   },
   "outputs": [],
   "source": [
    "import profiler"
   ]
  },
  {
   "cell_type": "code",
   "execution_count": 39,
   "metadata": {},
   "outputs": [
    {
     "data": {
      "image/png": "[encoded data removed]",
      "text/plain": [
       "<matplotlib.figure.Figure at 0x126ab90b8>"
      ]
     },
     "metadata": {},
     "output_type": "display_data"
    }
   ],
   "source": [
    "mem_usage_glove = memory_usage((profiler.glove_benchmark, (sentences_generator,), {}))\n",
    "mem_usage_w2v = memory_usage((profiler.word2vec_benchmark, (sentences_generator,), {}))\n",
    "time_glove = %timeit -n1 -r1 -o -q profiler.glove_benchmark(sentences_generator)\n",
    "time_w2v = %timeit -n1 -r1 -o -q profiler.word2vec_benchmark(sentences_generator)\n",
    "profiler.plot_results(mem_usage_glove, mem_usage_w2v, time_glove, time_w2v)"
   ]
  },
  {
   "cell_type": "markdown",
   "metadata": {},
   "source": [
    "Como podemos ver, el modelo de GloVe utiliza mucha más memoria que el de Word2Vec. Esto es totalmente lógico ya que tiene que construir la matriz de co-ocurrencia ya descrita anteriormente. Sin embargo, el tiempo de ejecución de Glove es bastante inferior al de Word2Vec, llegando a tardar casi la mitad. Para una colección relativamente pequeña como la nuestra no se aprecia mucho la diferencia, pero si se utilizan colecciones mucho más grandes este puede ser un factor interesante a tener en cuenta a la hora de decantarnos por un modelo u otro."
   ]
  },
  {
   "cell_type": "markdown",
   "metadata": {},
   "source": [
    "# Referencias"
   ]
  },
  {
   "cell_type": "markdown",
   "metadata": {},
   "source": [
    "[1] Explicación del funcionamiento del modelo Word2Vec de Google. https://code.google.com/archive/p/word2vec/\n",
    "\n",
    "[2] Explicación del funcionamiento del modelo Glove de Stanford. https://nlp.stanford.edu/projects/glove/\n",
    "\n",
    "[3] GloVe: Global Vectors for word representation. https://www.aclweb.org/anthology/D14-1162\n",
    "\n",
    "[4] Explicación de como funciona GloVe y como implementar el modelo en Python. http://www.foldl.me/2014/glove-python/\n",
    "\n",
    "[5] Código fuente del tokenizador de tweets de NLTK. http://www.nltk.org/_modules/nltk/tokenize/casual.html\n",
    "\n",
    "[6] Documentación del módulo word2vec de gensim utilizado. https://radimrehurek.com/gensim/models/word2vec.html\n",
    "\n",
    "[7] Repositorio en github de la implementación de Glove utilizada. https://github.com/maciejkula/glove-python\n"
   ]
  }
 ],
 "metadata": {
  "kernelspec": {
   "display_name": "Python 3",
   "language": "python",
   "name": "python3"
  },
  "language_info": {
   "codemirror_mode": {
    "name": "ipython",
    "version": 3
   },
   "file_extension": ".py",
   "mimetype": "text/x-python",
   "name": "python",
   "nbconvert_exporter": "python",
   "pygments_lexer": "ipython3",
   "version": "3.6.2"
  },
  "latex_metadata": {
   "affiliation": "Universidad de Oviedo",
   "author": "Alejandro González Hevia",
   "title": "Expansión de consultas usando word embeddings"
  },
  "nbTranslate": {
   "displayLangs": [
    "en",
    "es"
   ],
   "hotkey": "alt-t",
   "langInMainMenu": true,
   "sourceLang": "es",
   "targetLang": "en",
   "useGoogleTranslate": true
  },
  "toc": {
   "nav_menu": {},
   "number_sections": true,
   "sideBar": true,
   "skip_h1_title": false,
   "toc_cell": false,
   "toc_position": {},
   "toc_section_display": "block",
   "toc_window_display": false
  }
 },
 "nbformat": 4,
 "nbformat_minor": 2
}
