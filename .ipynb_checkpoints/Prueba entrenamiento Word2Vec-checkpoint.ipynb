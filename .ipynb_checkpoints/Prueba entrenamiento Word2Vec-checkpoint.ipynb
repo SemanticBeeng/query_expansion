{
 "cells": [
  {
   "cell_type": "markdown",
   "metadata": {},
   "source": [
    "# Expansión de consultas con Word2Vec\n",
    "Antes de ejecutar este notebook asegurate de que elasticsearch está iniciado. Además los tweets deben estar indexados. Para indexarlos ejecuta el script 'index.py'. \n",
    "\n",
    "## Importando las librerías\n",
    "Primero vamos a importar las librerías que vamos a usar."
   ]
  },
  {
   "cell_type": "code",
   "execution_count": 66,
   "metadata": {
    "collapsed": true
   },
   "outputs": [],
   "source": [
    "import elasticsearch.helpers\n",
    "from elasticsearch import Elasticsearch\n",
    "from elasticsearch_dsl import Search, Q\n",
    "from gensim.models import word2vec"
   ]
  },
  {
   "cell_type": "markdown",
   "metadata": {},
   "source": [
    "Las consultas que realizaremos a lo largo de la práctica son:"
   ]
  },
  {
   "cell_type": "code",
   "execution_count": 2,
   "metadata": {
    "collapsed": true
   },
   "outputs": [],
   "source": [
    "index = '2008-feb-02-04-en'\n",
    "queries = ['American Football Conference', 'David Tyree','defensive end', 'Eli Manning','football', 'Glendale',\n",
    "           'Laurence Maroney', 'Miami Dolphins', 'Michael Strahan', 'National Football Conference',\n",
    "           'National Football League', 'New England Patriots', 'New York', 'New York Giants', 'NFL', \n",
    "           'Plaxico Burress', 'quarterback', 'Randy Moss', 'running back', 'Super Bowl',\n",
    "           'University of Phoenix', 'Wide receiver', 'XLII']"
   ]
  },
  {
   "cell_type": "markdown",
   "metadata": {},
   "source": [
    "La mitad de estas consultas serán para entrenar el modelo de Word2Vec, mientras que la otra mitad se usarán para realizar la expansión de consultas."
   ]
  },
  {
   "cell_type": "code",
   "execution_count": 3,
   "metadata": {
    "collapsed": true
   },
   "outputs": [],
   "source": [
    "queries_train = queries[:len(queries)//2]\n",
    "queries_test = queries[len(queries)//2:]"
   ]
  },
  {
   "cell_type": "markdown",
   "metadata": {},
   "source": [
    "## Entrenamiento de Word2Vec\n",
    "Ahora vamos a comparar el resultado que obtenemos al entrenar el modelo con distinto número de documentos.\n",
    "\n",
    "### Prueba 1: Utilizando las consultas de entrenamiento"
   ]
  },
  {
   "cell_type": "code",
   "execution_count": 76,
   "metadata": {},
   "outputs": [
    {
     "name": "stdout",
     "output_type": "stream",
     "text": [
      "Numero de documentos: 14544\n"
     ]
    }
   ],
   "source": [
    "client = Elasticsearch()\n",
    "documents = []\n",
    "for query in queries_train:\n",
    "    s = Search(using=client, index=index).query(\"match\", text=query)\n",
    "\n",
    "    # al llamar a s.scan() utilizamos las características de scroll\n",
    "    # de elasticsearch, por lo que no obtenemos todos los resultados\n",
    "    for tweet in s.scan():\n",
    "        documents.append(tweet.text)\n",
    "print(\"Numero de documentos: {}\".format(len(documents)))"
   ]
  },
  {
   "cell_type": "markdown",
   "metadata": {},
   "source": [
    "Una vez que tenemos los documentos de entrenamiento, necesitamos preparalos para que el modelo de Word2Vec los pueda procesar. Primero necesitamos separar cada tweet en una lista de palabras. Después, eliminaremos las palabras vacías de cada tweet para mejorar los resultados obtenidos con Word2Vec. Finalmente, eliminaremos símbolos de puntuación pegados a las palabras (por ejemplo, 'football,') para evitar añadir ruido al modelo:"
   ]
  },
  {
   "cell_type": "code",
   "execution_count": 5,
   "metadata": {
    "collapsed": true
   },
   "outputs": [],
   "source": [
    "import string\n",
    "from stop_words import get_stop_words\n",
    "stop_words = get_stop_words('english')\n",
    "\n",
    "# creamos una tabla de traducción que usaremos a continuación para eliminar los simbolos de puntuación.\n",
    "remove_punctuation_map = dict((ord(char), None) for char in string.punctuation)\n",
    "documents = [[word.translate(remove_punctuation_map) # eliminar simb. puntuacion de cada palabra\n",
    "              for word in tweet.split(' ') if word not in stop_words] #  eliminar palabras vacías\n",
    "              for tweet in documents]"
   ]
  },
  {
   "cell_type": "code",
   "execution_count": 6,
   "metadata": {
    "collapsed": true
   },
   "outputs": [],
   "source": [
    "model = word2vec.Word2Vec(documents, size=100, window=5, min_count=5, workers=4)"
   ]
  },
  {
   "cell_type": "code",
   "execution_count": 7,
   "metadata": {},
   "outputs": [
    {
     "data": {
      "text/plain": [
       "[('good', 0.9978426694869995),\n",
       " ('just', 0.9970119595527649),\n",
       " ('going', 0.9969667792320251),\n",
       " ('really', 0.9969580173492432),\n",
       " ('like', 0.9966153502464294),\n",
       " ('guess', 0.9966118931770325),\n",
       " ('watch', 0.9963440895080566),\n",
       " ('hate', 0.9962880611419678),\n",
       " ('it', 0.9960216879844666),\n",
       " ('commercials', 0.9958381652832031)]"
      ]
     },
     "execution_count": 7,
     "metadata": {},
     "output_type": "execute_result"
    }
   ],
   "source": [
    "model.most_similar('football')"
   ]
  },
  {
   "cell_type": "markdown",
   "metadata": {
    "collapsed": true
   },
   "source": [
    "### Prueba 2: Utilizando el top 100 de resultados de cada consulta"
   ]
  },
  {
   "cell_type": "code",
   "execution_count": 8,
   "metadata": {},
   "outputs": [
    {
     "name": "stdout",
     "output_type": "stream",
     "text": [
      "Numero de documentos: 2191\n"
     ]
    }
   ],
   "source": [
    "documents = []\n",
    "for query in queries:\n",
    "    s = Search(using=client, index=index).query(\"match\", text=query)\n",
    "\n",
    "    s = s[0:100]\n",
    "    for tweet in s:\n",
    "        documents.append(tweet.text)\n",
    "documents = [[word.translate(remove_punctuation_map) # eliminar simb. puntuacion de cada palabra\n",
    "              for word in tweet.split(' ') if word not in stop_words] # eliminar palabras vacías\n",
    "              for tweet in documents]\n",
    "print(\"Numero de documentos: {}\".format(len(documents)))\n",
    "model = word2vec.Word2Vec(documents, size=100, window=5, min_count=5, workers=4)"
   ]
  },
  {
   "cell_type": "code",
   "execution_count": 9,
   "metadata": {},
   "outputs": [
    {
     "data": {
      "text/plain": [
       "[('', 0.9997788071632385),\n",
       " ('quarterback', 0.9997357130050659),\n",
       " ('hour', 0.9997290968894958),\n",
       " ('game', 0.9997225403785706),\n",
       " ('can', 0.9997130632400513),\n",
       " ('I', 0.9996954202651978),\n",
       " ('NFL', 0.9996936321258545),\n",
       " ('1', 0.9996931552886963),\n",
       " ('Patriots', 0.9996771812438965),\n",
       " ('Brady', 0.999676525592804)]"
      ]
     },
     "execution_count": 9,
     "metadata": {},
     "output_type": "execute_result"
    }
   ],
   "source": [
    "model.most_similar('football')"
   ]
  },
  {
   "cell_type": "markdown",
   "metadata": {},
   "source": [
    "### Prueba 3: Utilizando toda la colección"
   ]
  },
  {
   "cell_type": "code",
   "execution_count": 63,
   "metadata": {},
   "outputs": [
    {
     "name": "stdout",
     "output_type": "stream",
     "text": [
      "Numero de documentos: 390000\n"
     ]
    }
   ],
   "source": [
    "documents = []\n",
    "s = Search(using=client, index=index)\n",
    "\n",
    "for tweet in s.scan():\n",
    "    documents.append(tweet.text)\n",
    "documents = [[word.translate(remove_punctuation_map) # eliminar simb. puntuacion de cada palabra\n",
    "              for word in tweet.split(' ') if word not in stop_words] # eliminar palabras vacías\n",
    "              for tweet in documents]\n",
    "print(\"Numero de documentos: {}\".format(len(documents)))\n",
    "model = word2vec.Word2Vec(documents, size=100, window=5, min_count=5, workers=4)"
   ]
  },
  {
   "cell_type": "code",
   "execution_count": 11,
   "metadata": {},
   "outputs": [
    {
     "data": {
      "text/plain": [
       "[('sports', 0.8483247756958008),\n",
       " ('rugby', 0.8144887685775757),\n",
       " ('game', 0.8008830547332764),\n",
       " ('superbowl', 0.7955074310302734),\n",
       " ('pregame', 0.7936254739761353),\n",
       " ('commercials', 0.7897089719772339),\n",
       " ('SB', 0.7806702256202698),\n",
       " ('hockey', 0.7805945873260498),\n",
       " ('halftime', 0.7785356640815735),\n",
       " ('soccer', 0.7757614850997925)]"
      ]
     },
     "execution_count": 11,
     "metadata": {},
     "output_type": "execute_result"
    }
   ],
   "source": [
    "model.most_similar('football')"
   ]
  },
  {
   "cell_type": "markdown",
   "metadata": {},
   "source": [
    "## Dibujando vectores de palabras\n",
    "Ahora vamos a dibujar un gráfico que nos ayude a visualizar el modelo que utiliza Word2Vec para determinar que palabras son similares a una palabra dada. En el constructor de Word2Vec uno de los parámetros que se le introdujo fue 'size=100'. Esto quiere decir que cada palabra de los documentos de entrenamiento se representa en el modelo utilizándo un vector de 100 dimensiones."
   ]
  },
  {
   "cell_type": "code",
   "execution_count": 12,
   "metadata": {},
   "outputs": [
    {
     "data": {
      "text/plain": [
       "100"
      ]
     },
     "execution_count": 12,
     "metadata": {},
     "output_type": "execute_result"
    }
   ],
   "source": [
    "len(model.wv['football'])"
   ]
  },
  {
   "cell_type": "markdown",
   "metadata": {},
   "source": [
    "Las palabras que suelan aparecer en el mismo contexto tendrán unos vectores parecidos, mientras que las palabras que no tengan nada en común tenderán a estar alejadas. Para poder ver esta relación vamos a reducir la dimensionalidad de algunos vectores a 2 dimensiones utilizando la técnica de PCA (Principal Component Analysis):"
   ]
  },
  {
   "cell_type": "code",
   "execution_count": 13,
   "metadata": {
    "collapsed": true
   },
   "outputs": [],
   "source": [
    "X_train = [model.wv[word] for word in model.wv.vocab]\n",
    "\n",
    "words = ['football', 'superbowl', 'queen', 'sister', 'brother', 'king',\n",
    "         'mother', 'father', 'Europe', 'Asia', 'space', 'bowl', 'super']\n",
    "X = [model.wv[word] for word in words]"
   ]
  },
  {
   "cell_type": "code",
   "execution_count": 14,
   "metadata": {},
   "outputs": [
    {
     "name": "stdout",
     "output_type": "stream",
     "text": [
      "[[-4.55386507  3.83935397]\n",
      " [-5.14036792  4.53958189]\n",
      " [-0.34230468  0.6334716 ]\n",
      " [-1.99849721  1.42294712]\n",
      " [-2.56183902  1.84109257]\n",
      " [-0.76370636  1.03695358]\n",
      " [-0.45410883  2.16781309]\n",
      " [ 0.40930594  2.35524496]\n",
      " [ 1.14499728  0.31803562]\n",
      " [ 1.00836477  0.15680073]\n",
      " [-2.66352815  5.46763612]\n",
      " [-4.45113499  4.42677831]\n",
      " [-4.1180533   4.10191177]]\n"
     ]
    }
   ],
   "source": [
    "from sklearn.decomposition import PCA\n",
    "pca = PCA(n_components=2)\n",
    "pca.fit(X_train)\n",
    "result = pca.transform(X)\n",
    "print(result)"
   ]
  },
  {
   "cell_type": "code",
   "execution_count": 15,
   "metadata": {},
   "outputs": [
    {
     "data": {
      "image/png": "[encoded data removed]",
      "text/plain": [
       "<matplotlib.figure.Figure at 0x113d978d0>"
      ]
     },
     "metadata": {},
     "output_type": "display_data"
    }
   ],
   "source": [
    "from matplotlib.patches import Ellipse\n",
    "import matplotlib as mpl\n",
    "import matplotlib.pyplot as plt\n",
    "%matplotlib inline\n",
    "\n",
    "plt.title('Visualización de los vectores de palabras')\n",
    "plt.xlabel('x')\n",
    "plt.ylabel('y')\n",
    "plt.scatter(result[:,0], result[:,1])\n",
    "for i, word in enumerate(words):\n",
    "    plt.annotate(word, xy=(result[i,0],result[i,1] + 0.1))\n",
    "    \n",
    "# dibujando elipses para que nos ayuden a visualizar las relaciones\n",
    "fig = plt.gcf()\n",
    "fig.gca().add_artist(mpl.patches.Ellipse(xy=(-4.7,4), width=1.6, height=1.4, angle=155, color='r', fill=False))\n",
    "fig.gca().add_artist(mpl.patches.Ellipse(xy=(-2.3,1.7), width=1.6, height=0.9, angle=180, color='g', fill=False))\n",
    "fig.gca().add_artist(mpl.patches.Ellipse(xy=(1.1,0.2), width=0.6, height=0.7, angle=180, color='c', fill=False))\n",
    "fig.gca().add_artist(mpl.patches.Ellipse(xy=(0,2.4), width=2.6, height=0.7, angle=180, color='m', fill=False))\n",
    "fig.gca().add_artist(mpl.patches.Ellipse(xy=(-0.5,0.9), width=1.6, height=0.8, angle=180, fill=False))\n",
    "plt.show()\n",
    "\n",
    "plt.show()"
   ]
  },
  {
   "cell_type": "markdown",
   "metadata": {
    "collapsed": true
   },
   "source": [
    "## Expansión de consultas"
   ]
  },
  {
   "cell_type": "code",
   "execution_count": 61,
   "metadata": {},
   "outputs": [],
   "source": [
    "first_query = queries_test[8]\n",
    "num_expanded_words = 5\n",
    "final_query = []\n",
    "for word in first_query.split(' '):\n",
    "    expanded_words = [tuple[0] for tuple in model.most_similar(word)[:num_expanded_words]]\n",
    "    expanded_words.append(word)\n",
    "    final_query.append(expanded_words)"
   ]
  },
  {
   "cell_type": "code",
   "execution_count": 83,
   "metadata": {},
   "outputs": [
    {
     "name": "stdout",
     "output_type": "stream",
     "text": [
      "souper bowl.\n",
      "super bowl? or puppy bowl?\n",
      "Super Bowls are super.\n",
      "PUPPY BOWL! PUPPY BOWL!\n",
      "Forget the super bowl. I'm mesmerized by Puppy Bowl IV!!!\n",
      "Super bowl sucks. I miss the puppy bowl :P\n",
      "not watching the stupor bowl.\n",
      "@kellypuffs, do what we're doing, Super Bowl AND Puppy Bowl!\n",
      "Not watching the Stupor Bowl.\n",
      "Expertly balancing work, Super Bowl, and Puppy Bowl IV.\n"
     ]
    }
   ],
   "source": [
    "queries = []\n",
    "for expansion in final_query:\n",
    "    queries.append(Q('match', text=' '.join(expansion)))\n",
    "q = Q('bool', should=queries)\n",
    "s = Search(using=client, index=index).query(q)\n",
    "for tweet in s:\n",
    "    print(tweet.text)"
   ]
  },
  {
   "cell_type": "code",
   "execution_count": 87,
   "metadata": {},
   "outputs": [
    {
     "name": "stdout",
     "output_type": "stream",
     "text": [
      "Super Bowl, baby, Super Bowl ... go Pats!\n",
      "super bowl? super martinis!\n",
      "super bowl? or puppy bowl?\n",
      "super bowl?!\n",
      "Super Bowl!!!!!\n",
      "Super Bowl！\n",
      "Super bowl :)\n",
      "Super Bowl.\n",
      "super bowl!!\n",
      "Super Tuesday not Super Bowl.\n"
     ]
    }
   ],
   "source": [
    "s = Search(using=client, index=index).query('match', text='super bowl')\n",
    "for tweet in s:\n",
    "    print(tweet.text)"
   ]
  }
 ],
 "metadata": {
  "kernelspec": {
   "display_name": "Python 3",
   "language": "python",
   "name": "python3"
  },
  "language_info": {
   "codemirror_mode": {
    "name": "ipython",
    "version": 3
   },
   "file_extension": ".py",
   "mimetype": "text/x-python",
   "name": "python",
   "nbconvert_exporter": "python",
   "pygments_lexer": "ipython3",
   "version": "3.6.2"
  }
 },
 "nbformat": 4,
 "nbformat_minor": 2
}
