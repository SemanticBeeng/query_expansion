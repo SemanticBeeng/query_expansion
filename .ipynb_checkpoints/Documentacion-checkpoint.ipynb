{
 "cells": [
  {
   "cell_type": "markdown",
   "metadata": {},
   "source": [
    "# Introducción\n",
    "En este documento vamos a expandir una serie de consultas utilizando dos modelos basados en word embeddings: Word2Vec$^{[1]}$ y Glove$^{[2]}$. Al principio, explicará brevemente como funciona cada uno de estos modelos y sus respectivas librerías de Python. Posteriormente, se realizará una pequeña comparativa entre ambos modelos teniendo en cuenta la P@k obtenida en cada una de las consultas a realizar. Por último, se realizará también una comparativa de rendimiento de ambos modelos.\n",
    "\n",
    "# Consideraciones previas\n",
    "En este documento partimos con la colección de tweets ya indexada en ElasticSearch. Este paso se realizó utilizando el script _index.py_, que se encuentra disponible en la carpeta _src_ de la entrega. La colección usada es la colección por defecto con tweets del 4 de febrero de 2008.\n",
    "\n",
    "# Importando las librerías\n",
    "Lo primero que vamos a hacer será importar las librerías que se usarán a lo largo de este trabajo. A medida que se vayan usando iremos detallando el funcionamiento de las más importantes."
   ]
  },
  {
   "cell_type": "code",
   "execution_count": 18,
   "metadata": {},
   "outputs": [
    {
     "name": "stdout",
     "output_type": "stream",
     "text": [
      "The memory_profiler extension is already loaded. To reload it, use:\n",
      "  %reload_ext memory_profiler\n"
     ]
    }
   ],
   "source": [
    "import string\n",
    "\n",
    "import elasticsearch.helpers\n",
    "import matplotlib as mpl\n",
    "import matplotlib.pyplot as plt\n",
    "import nltk\n",
    "import numpy as np\n",
    "import sys\n",
    "\n",
    "from adjustText import adjust_text\n",
    "from elasticsearch import Elasticsearch, helpers\n",
    "from elasticsearch_dsl import Search, Q\n",
    "from gensim.models import word2vec\n",
    "from glove import Glove\n",
    "from glove import Corpus\n",
    "from memory_profiler import memory_usage\n",
    "from sklearn.decomposition import PCA\n",
    "from stop_words import get_stop_words\n",
    "\n",
    "%load_ext memory_profiler\n",
    "%matplotlib inline\n",
    "\n",
    "sys.path.append('../src/')"
   ]
  },
  {
   "cell_type": "markdown",
   "metadata": {},
   "source": [
    "Ahora vamos a iniciar la conexión con ElasticSearch. Además, indicamos el nombre de la colección dónde se realizarán las consultas, y añadimos las consultas que se expandirán posteriormente."
   ]
  },
  {
   "cell_type": "code",
   "execution_count": 36,
   "metadata": {
    "collapsed": true
   },
   "outputs": [],
   "source": [
    "client = Elasticsearch()\n",
    "index = '2008-feb-02-04-en'\n",
    "queries = ['American Football Conference', 'David Tyree','defensive end', 'Eli Manning','football', 'Glendale',\n",
    "           'Laurence Maroney', 'Miami Dolphins', 'Michael Strahan', 'National Football Conference',\n",
    "           'National Football League', 'New England Patriots', 'New York', 'New York Giants', 'NFL', \n",
    "           'Plaxico Burress', 'quarterback', 'Randy Moss', 'running back', 'Super Bowl',\n",
    "           'University Phoenix', 'Wide receiver', 'XLII']"
   ]
  },
  {
   "cell_type": "markdown",
   "metadata": {},
   "source": [
    "# Descripción de los modelos\n",
    "Ahora vamos a describir brevemente como funcionan tanto Word2Vec como GloVe. No entraremos en detalle en el funcionamiento interno de cada modelo, pero si que aclararemos lo que hace a grandes rasgos cada uno para que posteriormente cuando entrenemos cada modelo y veamos los resultados podamos entender lo que ocurre 'por detrás'.<br> Ambos modelos producen como resultado unos vectores que representan cada palabra de la colección. Además, estos vectores también representan las relaciones que hay entre varias palabras, por lo que realizando varias operaciones entre ellos podemos obtener como resultado palabras relacionadas a éstas. Sin embargo, la forma de obtención de estos vectores varía entre cada modelo:"
   ]
  },
  {
   "cell_type": "markdown",
   "metadata": {},
   "source": [
    "## Word2Vec\n",
    "Word2Vec utiliza una red neuronal para obtener los vectores de palabras a partir de una serie de documentos. Word2Vec puede utilizar dos arquitecturas distintas para obtener los vectores: CBOW y Skip-gram.\n",
    "- CBOW: En el caso de CBOW (**C**ontinuous **b**ag **o**f **w**ords), si tenemos como palabra objetivo 'super', la entrada que se utilizará para entrenar la red neuronal serán cada una de las palabras que rodean a la palabra 'super' en el documento. El número de palabras cercanas que se utilizan para entrenar la red neuronal es el 'contexto'. A partir de este contexto se modifican los valores de la capa oculta de la red neuronal para obtener como resultado un vector que represente la palabra 'super'. En otras palabras, al entrenar el modelo intentamos maximizar la probabilidad de que se obtenga como resultado la palabra 'super' dado el contexto.\n",
    "- Skip-gram: En este caso, utilizando el mismo ejemplo que para el modelo CBOW, la entrada a la red neuronal sería 'super', y se modificarían los valores de la capa oculta para producir como resultado las palabras que se encuentran alredador de 'super' (el contexto).\n"
   ]
  },
  {
   "cell_type": "markdown",
   "metadata": {},
   "source": [
    "## GloVe\n",
    "Según Jeffrey Penington, creador de Glove, el modelo de Word2Vec no es del todo óptimo ya que no explota del todo las estadísticas de cada palabra y sus co-ocurrencias$^{[3]}$.\n",
    "En el caso de GloVe (**Glo**bal **Ve**ctor Representation), se utiliza una matriz de co-ocurrencia que representa las estadísticas de cada palabra para obtener los resultados.  "
   ]
  },
  {
   "cell_type": "markdown",
   "metadata": {},
   "source": [
    "# Entrenamiento de los modelos\n",
    "Lo primero que necesitamos hacer es entrenar ambos modelos. Para entrenarlos utilizaremos la colección de tweets completa. Dado que contamos con una cantidad de documentos relativamente grande (390000) y que es una buena práctica, vamos a crear una clase que vaya generando una lista de palabras de cada tweet de la colección de manera perezosa. De esta forma, no tendremos que guardar todos los tweets de la colección en una lista en memoria RAM. \n",
    "Los modelos reciben un iterable como parámetro para poder entrenarlos. Lo único que tenemos que hacer es implementar la función predefinida de python \\_\\_iter\\_\\_ dentro de nuestra clase para que los objetos que creemos se comporten como un iterable cualquiera.\n",
    "\n",
    "Además, cabe destacar que antes de devolver cada palabra en el generador realizamos un pequeño preprocesamiento para mejorar el rendimiento tanto de Word2Vec como de Glove. En primer lugar, tokenizaremos el tweet usando la librería nltk, que contiene un módulo$^{[4]}$ dedicado específicamente a tokenizar tweets. Además, también eliminaremos los signos de puntuación que deje el tokenizador sueltos. En el caso de que la palabra sea un enlace a una página externa entonces no eliminaremos los símbolos de puntuación. Por último, eliminaremos las palabras vacías de cada tweet. La lista de palabras vacías se obtuvo usando la librería externa _stop-words_ (a esta lista se le añadió la palabra 'Re' para eliminarla de los retweets)."
   ]
  },
  {
   "cell_type": "code",
   "execution_count": 20,
   "metadata": {
    "collapsed": true
   },
   "outputs": [],
   "source": [
    "class SentencesGenerator:\n",
    "    def __init__(self, client, index):\n",
    "        self.s = Search(using=client, index=index).query(Q())\n",
    "        self.stop_words = get_stop_words('english')\n",
    "        self.stop_words.append('Re')\n",
    "    \n",
    "    def __iter__(self):\n",
    "        # creamos una tabla de traducción que usaremos para eliminar los simbolos de puntuación.\n",
    "        remove_punctuation_map = dict((ord(char), None) for char in string.punctuation)\n",
    "        for tweet in self.s.scan():\n",
    "            # tokenizamos el tweet\n",
    "            words = nltk.tokenize.casual.casual_tokenize(tweet.text)\n",
    "            \n",
    "            # eliminamos los simbolos de puntuacion sobrantes\n",
    "            words = [word.translate(remove_punctuation_map) for word in words\n",
    "                     if not word.startswith('http')]\n",
    "            \n",
    "            # eliminamos palabras vacias\n",
    "            words = [word for word in words if word != '' and word not in self.stop_words]\n",
    "            yield words\n",
    "\n",
    "\n",
    "sentences_generator = SentencesGenerator(client, index)"
   ]
  },
  {
   "cell_type": "markdown",
   "metadata": {},
   "source": [
    "## Entrenamiento de Word2Vec\n",
    "La implementación de Word2Vec de gensim$^{[5]}$ hace que sea muy sencillo entrenar el modelo. Lo único que tendremos que tener en cuenta son los parámetros que le suministramos al constructor. A continuación se muestra una pequeña descripción de cada parámetro usado:\n",
    "- El primer parámetro es el iterable mencionado anteriormente que va generando cada tweet con las palabras separadas.\n",
    "- En segundo lugar, queremos que los vectores generados por word2vec tengan una dimension igual a 100.\n",
    "- En el tercer parámetro indicamos que Word2Vec tenga en cuenta las 5 palabras próximas a la palabra dada a la hora de entrenar el modelo.\n",
    "- El cuarto parámetro indica que sólo se añadan al vocabulario generado por word2vec aquellas palabras que aparezcan como mínimo 10 veces en la colección. De esta manera eliminaremos muchas palabras con errores ortográficos, links que se añaden a muchos tweets, o palabras que sólo tienen sentido entre pequeños grupos de personas y por consiguiente no aparecen muchas veces (por ejemplo, motes).\n",
    "- Por último, indicamos que sólo se utilice un thread a la hora de entrenar el modelo. Esto se debe a que si utilizábamos más de 1 thread se observaban pequeñas variaciones en los vectores obtenidos cada vez que se ejecutaba el script. Con un thread nos aseguramos de obtener resultados deterministas cada vez que entrenemos el modelo."
   ]
  },
  {
   "cell_type": "code",
   "execution_count": 21,
   "metadata": {
    "collapsed": true
   },
   "outputs": [],
   "source": [
    "# w2v_model = word2vec.Word2Vec(sentences_generator, size=100, window=5, min_count=10, workers=1)\n",
    "w2v_model = word2vec.Word2Vec.load('w2v_model')"
   ]
  },
  {
   "cell_type": "markdown",
   "metadata": {},
   "source": [
    "Ahora vamos a comprobar que el modelo se entrenó correctamente pidiéndole las palabras más similares a _football_:"
   ]
  },
  {
   "cell_type": "code",
   "execution_count": 22,
   "metadata": {},
   "outputs": [
    {
     "data": {
      "text/plain": [
       "[('sports', 0.823975145816803),\n",
       " ('rugby', 0.7716653347015381),\n",
       " ('game', 0.766954779624939),\n",
       " ('commercials', 0.7591221332550049),\n",
       " ('soccer', 0.746818482875824),\n",
       " ('superbowl', 0.7457777261734009),\n",
       " ('halftime', 0.7408241629600525),\n",
       " ('fox', 0.7387694716453552),\n",
       " ('SB', 0.737731397151947),\n",
       " ('patriots', 0.7360270023345947)]"
      ]
     },
     "execution_count": 22,
     "metadata": {},
     "output_type": "execute_result"
    }
   ],
   "source": [
    "w2v_model.wv.most_similar('football')"
   ]
  },
  {
   "cell_type": "markdown",
   "metadata": {},
   "source": [
    "Como se puede ver, obtenemos una lista con 10 tuplas que contienen las palabras más similares a la palabra dada. Cada una de estas tuplas almacena la palabra y el nivel de similitud con la palabra original."
   ]
  },
  {
   "cell_type": "markdown",
   "metadata": {
    "collapsed": true
   },
   "source": [
    "## Entrenando el modelo de Glove\n",
    "En el caso de Glove la implementación oficial del modelo se encuentra implementada en C. Por lo tanto, teniendo en cuenta el alcance de este trabajo, vamos a utilizar una implementación no oficial$^{[6]}$ del modelo escrita en python por comodidad.<br>La forma de entrenar este modelo es un poco distinta a la utilizada con Word2Vec:\n",
    "- En primer lugar utilizaremos la clase _Corpus_ para generar una matriz de co-ocurrencia a partir de un iterable de sentencias (se utilizará el mismo iterable que para Word2Vec). El parámetro _window_ que se le pasa al corpus tiene la misma utilidad que en Word2Vec (número de palabras próximas que se tienen en cuenta)."
   ]
  },
  {
   "cell_type": "code",
   "execution_count": 23,
   "metadata": {
    "scrolled": true
   },
   "outputs": [
    {
     "data": {
      "text/plain": [
       "'\\ncorpus = Corpus()\\ncorpus.fit(sentences_generator, window=5)\\nglove_model = Glove(no_components=100, learning_rate=0.025)\\nglove_model.fit(corpus.matrix, epochs=20,\\n                no_threads=1, verbose=False)\\nglove_model.add_dictionary(corpus.dictionary)\\n'"
      ]
     },
     "execution_count": 23,
     "metadata": {},
     "output_type": "execute_result"
    }
   ],
   "source": [
    "\"\"\"\n",
    "corpus = Corpus()\n",
    "corpus.fit(sentences_generator, window=5)\n",
    "glove_model = Glove(no_components=100, learning_rate=0.025)\n",
    "glove_model.fit(corpus.matrix, epochs=20,\n",
    "                no_threads=1, verbose=False)\n",
    "glove_model.add_dictionary(corpus.dictionary)\n",
    "\"\"\""
   ]
  },
  {
   "cell_type": "code",
   "execution_count": 24,
   "metadata": {
    "collapsed": true
   },
   "outputs": [],
   "source": [
    "glove_model = Glove.load('glove_model')"
   ]
  },
  {
   "cell_type": "code",
   "execution_count": 25,
   "metadata": {},
   "outputs": [
    {
     "data": {
      "text/plain": [
       "[('Bowl', 0.98731199002892334),\n",
       " ('Tuesday', 0.96193967098944433),\n",
       " ('Stunner', 0.9471499852313322),\n",
       " ('Bow', 0.93749629103665766),\n",
       " ('Superbowl', 0.93502029559999922),\n",
       " ('gear', 0.9346812490815064),\n",
       " ('Bowls', 0.9303958418726509),\n",
       " ('Commercials', 0.92800881269388524),\n",
       " ('XLII', 0.92125984307930819)]"
      ]
     },
     "execution_count": 25,
     "metadata": {},
     "output_type": "execute_result"
    }
   ],
   "source": [
    "glove_model.most_similar('Super', number=10)"
   ]
  },
  {
   "cell_type": "markdown",
   "metadata": {},
   "source": [
    "# Dibujando vectores de palabras\n",
    "Ahora vamos a dibujar un gráfico que nos ayude a visualizar el modelo que utiliza Word2Vec para determinar que palabras son similares a una palabra dada. En el constructor de Word2Vec uno de los parámetros que se le introdujo fue 'size=100'. Esto quiere decir que cada palabra de los documentos de entrenamiento se representa en el modelo utilizándo un vector de 100 dimensiones."
   ]
  },
  {
   "cell_type": "code",
   "execution_count": 26,
   "metadata": {},
   "outputs": [
    {
     "data": {
      "text/plain": [
       "100"
      ]
     },
     "execution_count": 26,
     "metadata": {},
     "output_type": "execute_result"
    }
   ],
   "source": [
    "len(w2v_model.wv['football'])"
   ]
  },
  {
   "cell_type": "markdown",
   "metadata": {},
   "source": [
    "Las palabras que suelan aparecer en el mismo contexto tendrán unos vectores parecidos, mientras que las palabras que no tengan nada en común tenderán a estar alejadas. Para poder ver esta relación vamos a reducir la dimensionalidad de algunos vectores a 2 dimensiones utilizando la técnica de PCA (Principal Component Analysis):"
   ]
  },
  {
   "cell_type": "code",
   "execution_count": 37,
   "metadata": {
    "collapsed": true
   },
   "outputs": [],
   "source": [
    "X_train = [w2v_model.wv[word] for word in w2v_model.wv.vocab]\n",
    "\n",
    "queries_split_words = [query.split(' ') for query in queries]\n",
    "words = set()\n",
    "for query in queries_split_words:\n",
    "    for word in query:\n",
    "        words.add(word)\n",
    "    \n",
    "    \n",
    "X = [w2v_model.wv[word] for word in words]\n",
    "pca = PCA(n_components=2)\n",
    "pca.fit(X_train)\n",
    "result = pca.transform(X)"
   ]
  },
  {
   "cell_type": "markdown",
   "metadata": {},
   "source": [
    "Ahora que tenemos los vectores en 2 dimensiones, podemos realizar un scatter plot y dibujar cada palabra en el plano:"
   ]
  },
  {
   "cell_type": "code",
   "execution_count": 38,
   "metadata": {
    "cell_style": "center",
    "scrolled": false
   },
   "outputs": [
    {
     "data": {
      "image/png": "[encoded data removed]",
      "text/plain": [
       "<matplotlib.figure.Figure at 0x10b6c28aa20>"
      ]
     },
     "metadata": {},
     "output_type": "display_data"
    }
   ],
   "source": [
    "plt.style.use('seaborn-poster')\n",
    "\n",
    "plt.title('Visualización de los vectores de palabras')\n",
    "plt.xlabel('x')\n",
    "plt.ylabel('y')\n",
    "plt.scatter(result[:,0], result[:,1])\n",
    "\n",
    "texts = []\n",
    "for i, word in enumerate(words):\n",
    "    texts.append(plt.text(result[i,0], result[i,1], word))\n",
    "\n",
    "adjust_text(texts, force_text=0.55, arrowprops=dict(arrowstyle=\"-|>\", color='r', lw=0.6))\n",
    "\n",
    "plt.tight_layout()\n",
    "plt.show()"
   ]
  },
  {
   "cell_type": "markdown",
   "metadata": {
    "collapsed": true
   },
   "source": [
    "# Expansión de consultas\n",
    "\n",
    "Ahora vamos a pasar a expandir una serie de consultas sobre la colección de tweets. La idea principal será obtener un número k de términos similares por cada término de la consulta original. Dicho de otra manera, partiremos de una consulta q0:<br><br>\n",
    "$$q_0 = t_1 + t_2 + t_3 + ... + t_n$$\n",
    "<br>\n",
    "A continuación obtenemos los términos similares para cada término de q0, y realizamos una consulta expandida qe de esta forma:<br><br>\n",
    "$$q_e = t_1 + sim(t1) + t_2 + sim(t_2)\\ +\\ ...\\ +\\ t_n + sim(t_n)$$\n",
    "<br>\n",
    "Una vez que tengamos la consulta expandida tanto para el modelo de Word2Vec como para el de Glove seleccionaremos los 10 resultados de la consulta con más puntuación devuelta por ElasticSearch. Utilizando nuestro criterio, seleccionaremos cuáles de estos resultados nos parecen relevantes y cuáles no, e indicaremos si obtenemos algún beneficio o no comparándo estos resultados con los resultados de la consulta original.\n",
    "\n",
    "Por último, miraremos que tweet subió y bajó más de ranking al realizar las consultas expandidas con respecto a la consulta original.\n"
   ]
  },
  {
   "cell_type": "code",
   "execution_count": 29,
   "metadata": {
    "collapsed": true
   },
   "outputs": [],
   "source": [
    "from query_expansion import *"
   ]
  },
  {
   "cell_type": "markdown",
   "metadata": {},
   "source": [
    "## Super Bowl\n",
    "Vamos a empezar con la consulta 'Super Bowl'. IMPORTANTE: intenta jugar con la k (numero de terminos expandidos) en los metodos 'get_expanded_query_xxx() para obtener los mejores resultados posibles. Por ejemplo abajo la modifique en el modelo de glove y mejoro los resultados, aunque si le meto la misma k (5) en el de w2v sale basura de resultados. Es ir probando."
   ]
  },
  {
   "cell_type": "code",
   "execution_count": 30,
   "metadata": {
    "collapsed": true
   },
   "outputs": [],
   "source": [
    "start_query = \"Super Bowl\""
   ]
  },
  {
   "cell_type": "markdown",
   "metadata": {
    "collapsed": true
   },
   "source": [
    "### Resultados originales"
   ]
  },
  {
   "cell_type": "code",
   "execution_count": 31,
   "metadata": {
    "collapsed": true
   },
   "outputs": [],
   "source": [
    "result_q0 = get_elasticsearch_result([['Super'], ['Bowl']], client, index)"
   ]
  },
  {
   "cell_type": "markdown",
   "metadata": {
    "variables": {
     "result_q0[0][0]": "Super Bowl, baby, Super Bowl ... go Pats!",
     "result_q0[1][0]": "super bowl? super martinis!",
     "result_q0[2][0]": "Super Bowl Logos <a href=\"http://walhez.com/super-bowl-logos/\">http://walhez.com/super-bowl-logos/</a>",
     "result_q0[3][0]": "&quot;super bowl??? what&#39;s so super about a bowl?&quot;",
     "result_q0[4][0]": "super bowl?!",
     "result_q0[5][0]": "Super Bowl!!!!!",
     "result_q0[6][0]": "Super Bowl！",
     "result_q0[7][0]": "Super Bowl.",
     "result_q0[8][0]": "Super bowl :)",
     "result_q0[9][0]": "super bowl!!"
    }
   },
   "source": [
    "| resultado | relevante | razón |\n",
    "|:-----:|:----:|:---:|\n",
    "|{{result_q0[0][0]}}   |Sí  |  |\n",
    "|{{result_q0[1][0]}}   |Sí | |\n",
    "|{{result_q0[2][0]}}   |Sí | |\n",
    "|{{result_q0[3][0]}}   |No | |\n",
    "|{{result_q0[4][0]}}   |No | Repetido |\n",
    "|{{result_q0[5][0]}}   |No | Repetido |\n",
    "|{{result_q0[6][0]}}   |No | Repetido |\n",
    "|{{result_q0[7][0]}}   |No | Repetido |\n",
    "|{{result_q0[8][0]}}   |No | Repetido |\n",
    "|{{result_q0[9][0]}}   |No |  |"
   ]
  },
  {
   "cell_type": "markdown",
   "metadata": {},
   "source": [
    "### Resultados Word2Vec"
   ]
  },
  {
   "cell_type": "code",
   "execution_count": 32,
   "metadata": {
    "collapsed": true
   },
   "outputs": [],
   "source": [
    "qe_w2v = get_expanded_query_w2v(w2v_model, start_query, k=3)\n",
    "result_w2v = get_elasticsearch_result(qe_w2v, client, index)"
   ]
  },
  {
   "cell_type": "markdown",
   "metadata": {
    "cell_style": "center",
    "variables": {
     "result_w2v[0][0]": "super bowl? or puppy bowl?",
     "result_w2v[1][0]": "Super Bowls are super.",
     "result_w2v[2][0]": "Super bowl sucks. I miss the puppy bowl :P",
     "result_w2v[3][0]": "PUPPY BOWL! PUPPY BOWL!",
     "result_w2v[4][0]": "Expertly balancing work, Super Bowl, and Puppy Bowl IV.",
     "result_w2v[5][0]": "&quot;Forget the super bowl. I&#39;m mesmerized by Puppy Bowl IV!!!&quot;",
     "result_w2v[6][0]": "not watching the stupor bowl.",
     "result_w2v[7][0]": "&quot;@kellypuffs, do what we&#39;re doing, Super Bowl AND Puppy Bowl!&quot;",
     "result_w2v[8][0]": "Not watching the Stupor Bowl.",
     "result_w2v[9][0]": "Puppy Bowl! Puppy Bowl! Daughter squealing."
    }
   },
   "source": [
    "| resultado | relevante | razón |\n",
    "| :-----: |:----:|:---:|\n",
    "|{{result_w2v[0][0]}}   |Sí  |  |\n",
    "|{{result_w2v[1][0]}}   |Sí |  |\n",
    "|{{result_w2v[2][0]}}   |No | Tweet sobre la puppy bowl |\n",
    "|{{result_w2v[3][0]}}   |No | Tweet sobre la puppy bowl |\n",
    "|{{result_w2v[4][0]}}   |No | Puppy bowl de nuevo |\n",
    "|{{result_w2v[5][0]}}   |No | Stupor bowl|\n",
    "|{{result_w2v[6][0]}}   |Sí |  |\n",
    "|{{result_w2v[7][0]}}   |No | Stupor bowl |\n",
    "|{{result_w2v[8][0]}}  |Sí |  |\n",
    "|{{result_w2v[9][0]}}   |No | Stupor bowl |"
   ]
  },
  {
   "cell_type": "markdown",
   "metadata": {},
   "source": [
    "### Resultados GloVe"
   ]
  },
  {
   "cell_type": "code",
   "execution_count": 33,
   "metadata": {
    "cell_style": "center",
    "collapsed": true
   },
   "outputs": [],
   "source": [
    "qe_glove = get_expanded_query_glove(glove_model, start_query, k=5)\n",
    "result_glove = get_elasticsearch_result(qe_glove, client, index)"
   ]
  },
  {
   "cell_type": "markdown",
   "metadata": {
    "variables": {
     "result_glove[0][0]": "Sci/Tech Rating The Super Bowl Commercials - InformationWeek: Washington PostRating The Super Bow.. <a href=\"http://tinyurl.com/28teuo\">http://tinyurl.com/28teuo</a>",
     "result_glove[1][0]": "Super Stunner: Giants Beat Patriots In Super Bowl XLII <a href=\"http://tinyurl.com/3ydd94\">http://tinyurl.com/3ydd94</a>",
     "result_glove[2][0]": "Super Bowl XLII Commercials <a href=\"http://tinyurl.com/2r8r83\">http://tinyurl.com/2r8r83</a>",
     "result_glove[3][0]": "Super Bowl XLII commercials  <a href=\"http://tinyurl.com/3a6p4r\">http://tinyurl.com/3a6p4r</a>",
     "result_glove[4][0]": "New blog post: Live Coverage of Super Bowl XLII and Super Bowl XLII Commercials <a href=\"http://tinyurl.com/3abjez\">http://tinyurl.com/3abjez</a>",
     "result_glove[5][0]": "Super Bowl XLII Commercials - First Quarter <a href=\"http://tinyurl.com/33youe\">http://tinyurl.com/33youe</a>",
     "result_glove[6][0]": "Super Bowl XLII Commercials - Third Quarter <a href=\"http://tinyurl.com/3y2p2a\">http://tinyurl.com/3y2p2a</a>",
     "result_glove[7][0]": "Super Bowl XLII Commercials - Second Quarter <a href=\"http://tinyurl.com/2nmqfj\">http://tinyurl.com/2nmqfj</a>",
     "result_glove[8][0]": "Super Bowl XLII Commercials - Forth Quarter <a href=\"http://tinyurl.com/36az42\">http://tinyurl.com/36az42</a>",
     "result_glove[9][0]": "Super Bowl XLII 2008 Favorites.. Etrade : Trading Baby: Not the best year in Superbowl commercials.. <a href=\"http://tinyurl.com/359pfz\">http://tinyurl.com/359pfz</a>"
    }
   },
   "source": [
    "| resultado | relevante | razón |\n",
    "| :-----: |:----:|:---:|\n",
    "|{{result_glove[0][0]}}   |Sí  | Evaluación de los anuncios |\n",
    "|{{result_glove[1][0]}}   |Sí | Anuncios de la Super Bowl |\n",
    "|{{result_glove[2][0]}}   |No | Repetido |\n",
    "|{{result_glove[3][0]}}   |Sí | Resultado de la Super Bowl|\n",
    "|{{result_glove[4][0]}}   |Sí | Comienzo de la Super Bowl |\n",
    "|{{result_glove[5][0]}}   |No | |\n",
    "|{{result_glove[6][0]}}   |No | De nuevo anuncios |\n",
    "|{{result_glove[7][0]}}   |No |  |\n",
    "|{{result_glove[8][0]}}   |Sí | Anuncios primera parte |\n",
    "|{{result_glove[9][0]}}   |Sí | Anuncios tercera parte |"
   ]
  },
  {
   "cell_type": "markdown",
   "metadata": {},
   "source": [
    "### Cambios de posiciones de cada tweet"
   ]
  },
  {
   "cell_type": "markdown",
   "metadata": {},
   "source": [
    "Ahora vamos a ver el tweet que subió y el que bajó más posiciones de cada modelo:"
   ]
  },
  {
   "cell_type": "code",
   "execution_count": 34,
   "metadata": {
    "scrolled": true
   },
   "outputs": [
    {
     "name": "stdout",
     "output_type": "stream",
     "text": [
      "El tweet 'Going to opt for Puppy Bowl instead of Super Bowl today :) http://tinyurl.com/2h9hy5' subió 859 posiciones (desde la posicion 895 hasta la posicion 36)\n",
      "El tweet '@pplwrd agreed, best super bowl ever!' descendió 463 posiciones (desde la posicion 323 hasta la posicion 786)\n"
     ]
    }
   ],
   "source": [
    "original_tweets = [pair[0] for pair in result_q0]\n",
    "expanded_tweets = [pair[0] for pair in result_w2v]\n",
    "show_most_improved_tweet(original_tweets, expanded_tweets)\n",
    "show_most_devaluated_tweet(original_tweets, expanded_tweets)"
   ]
  },
  {
   "cell_type": "code",
   "execution_count": 35,
   "metadata": {
    "scrolled": true
   },
   "outputs": [
    {
     "name": "stdout",
     "output_type": "stream",
     "text": [
      "El tweet 'Super Bowl XLII Commercials - Second Quarter http://tinyurl.com/2nmqfj' subió 965 posiciones (desde la posicion 972 hasta la posicion 7)\n",
      "El tweet '@pplwrd agreed, best super bowl ever!' descendió 442 posiciones (desde la posicion 323 hasta la posicion 765)\n"
     ]
    }
   ],
   "source": [
    "expanded_tweets = [pair[0] for pair in result_glove]\n",
    "show_most_improved_tweet(original_tweets, expanded_tweets)\n",
    "show_most_devaluated_tweet(original_tweets, expanded_tweets)"
   ]
  },
  {
   "cell_type": "markdown",
   "metadata": {},
   "source": [
    "### Conclusión"
   ]
  },
  {
   "cell_type": "markdown",
   "metadata": {},
   "source": [
    "TODO"
   ]
  },
  {
   "cell_type": "markdown",
   "metadata": {},
   "source": [
    "### Importancia del número de términos expandidos\n",
    "Antes de proceder a la siguiente consulta, vamos a observar que ocurre si modificamos el número de términos que expandimos para cada término original en el caso de Word2Vec:"
   ]
  },
  {
   "cell_type": "code",
   "execution_count": 39,
   "metadata": {
    "collapsed": true
   },
   "outputs": [],
   "source": [
    "qe_w2v = get_expanded_query_w2v(w2v_model, start_query, k=5)\n",
    "result_w2v = get_elasticsearch_result(qe_w2v, client, index)"
   ]
  },
  {
   "cell_type": "markdown",
   "metadata": {
    "variables": {
     "result_w2v[0][0]": "Playing Super Mario Galaxy.",
     "result_w2v[1][0]": "super bowl? or puppy bowl?",
     "result_w2v[2][0]": "just finished Super Mario Galaxy... great fun",
     "result_w2v[3][0]": "Super bowl sucks. I miss the puppy bowl :P",
     "result_w2v[4][0]": "Expertly balancing work, Super Bowl, and Puppy Bowl IV.",
     "result_w2v[5][0]": "&quot;Forget the super bowl. I&#39;m mesmerized by Puppy Bowl IV!!!&quot;",
     "result_w2v[6][0]": "jeanette just pwned super mario galaxy... eat that blee!!",
     "result_w2v[7][0]": "&quot;@kellypuffs, do what we&#39;re doing, Super Bowl AND Puppy Bowl!&quot;",
     "result_w2v[8][0]": "Super Mario Galaxy for the Wii is totally badass!",
     "result_w2v[9][0]": "Friday night decision: Super Mario Galaxy or Team Fortress 2?"
    }
   },
   "source": [
    "| resultado | relevante | razón |\n",
    "| :-----: |:----:|:---:|\n",
    "|{{result_w2v[0][0]}}   |No  | Super Mario Galaxy |\n",
    "|{{result_w2v[1][0]}}   |No | Puppy Bowl |\n",
    "|{{result_w2v[2][0]}}   |No | Puppy Bowl |\n",
    "|{{result_w2v[3][0]}}   |No | Puppy Bowl |\n",
    "|{{result_w2v[4][0]}}   |No | Puppy Bowl |\n",
    "|{{result_w2v[5][0]}}   |No | Stupor Bowl|\n",
    "|{{result_w2v[6][0]}}   |No | Puppy Bowl |\n",
    "|{{result_w2v[7][0]}}   |No | Stupor Bowl |\n",
    "|{{result_w2v[8][0]}}  |Sí |  |\n",
    "|{{result_w2v[9][0]}}   |No | Stupor Bowl |"
   ]
  },
  {
   "cell_type": "markdown",
   "metadata": {},
   "source": [
    "Tras añadir un término más obtenemos algunos resultados distintos. La mitad de los resultados tienen que ver con Super Mario Galaxy, lo cual tiene bastante sentido para word2vec, ya que la palabra 'Super' además de estar relacionada con 'Bowl' también lo está con 'Mario' y 'Galaxy' en muchos otros tweets. Sin embargo, si alguien quiere ver los tweets relacionados con la Super Bowl y se encuentra con tweets hablando de Super Mario Galaxy seguramente no le hará mucha gracia. Teniendo en cuenta esto, podemos sacar como conclusión que la selección del número de términos a expandir es un proceso bastante crítico, en el que un término más o menos puede cambiar drásticamente los resultados."
   ]
  },
  {
   "cell_type": "markdown",
   "metadata": {},
   "source": [
    "### NFL"
   ]
  },
  {
   "cell_type": "code",
   "execution_count": 40,
   "metadata": {
    "collapsed": true
   },
   "outputs": [],
   "source": [
    "start_query = \"NFL\""
   ]
  },
  {
   "cell_type": "markdown",
   "metadata": {},
   "source": [
    "#### Resultados originales"
   ]
  },
  {
   "cell_type": "code",
   "execution_count": 41,
   "metadata": {
    "collapsed": true,
    "scrolled": true
   },
   "outputs": [],
   "source": [
    "result_q0 = get_elasticsearch_result([[start_query]], client, index)"
   ]
  },
  {
   "cell_type": "markdown",
   "metadata": {
    "variables": {
     "result_q0[0][0]": "NFL Super Bowl",
     "result_q0[1][0]": "@superbowlads NFL nice",
     "result_q0[2][0]": "@superbowlads - nfl texans = 3",
     "result_q0[3][0]": "@thsboyelroy Blame the NFL.",
     "result_q0[4][0]": "@superbowlads - NFL network -1.5",
     "result_q0[5][0]": "at NFL Network press booth",
     "result_q0[6][0]": "@superbowlads NFL network sucks 2",
     "result_q0[7][0]": "@superbowlads nfl network - 4 stars",
     "result_q0[8][0]": "NFL Experience <a href=\"http://tinyurl.com/2d4996\">http://tinyurl.com/2d4996</a>",
     "result_q0[9][0]": "Xbox Live: allcoldinside is currently Online. Playing Madden NFL 06 (Title: Madden NFL 06)"
    }
   },
   "source": [
    "| resultado | relevante | razón |\n",
    "| :-----: |:----:|:---:|\n",
    "|{{result_q0[0][0]}}   |Sí | Relaciona NFL y Super Bowl |\n",
    "|{{result_q0[1][0]}}   |No | Conversación |\n",
    "|{{result_q0[2][0]}}   |No | Conversación |\n",
    "|{{result_q0[3][0]}}   |No | Conversación |\n",
    "|{{result_q0[4][0]}}   |No | Conversación |\n",
    "|{{result_q0[5][0]}}   |Sí | Comentario Superbowl |\n",
    "|{{result_q0[6][0]}}   |No | Conversación |\n",
    "|{{result_q0[7][0]}}   |No | Conversación |\n",
    "|{{result_q0[8][0]}}   |Sí | Enlace relacionado |\n",
    "|{{result_q0[9][0]}}   |Sí | Comentario SuperBowl |"
   ]
  },
  {
   "cell_type": "markdown",
   "metadata": {},
   "source": [
    "#### Resultados Word2Vec"
   ]
  },
  {
   "cell_type": "code",
   "execution_count": 42,
   "metadata": {
    "collapsed": true,
    "scrolled": true
   },
   "outputs": [],
   "source": [
    "qe_w2v = get_expanded_query_w2v(w2v_model, start_query, k=5)\n",
    "result_w2v = get_elasticsearch_result(qe_w2v, client, index)"
   ]
  },
  {
   "cell_type": "markdown",
   "metadata": {
    "variables": {
     "result_w2v[0][0]": "And the NFL wins. AWESOME ad!!",
     "result_w2v[1][0]": "GLENDALE, Arizona (Reuters) - The New York Giants achieved one of the\\nmost improbable upsets in NFL history with a 17-14 victory over th ...",
     "result_w2v[2][0]": "GLENDALE, Arizona (Reuters) - The New York Giants achieved one of the\\nbiggest upsets in NFL history with a 17-14 victory over the previo ...",
     "result_w2v[3][0]": "GLENDALE, Arizona (Reuters) - The New York Giants achieved one of the\\nbiggest upsets in NFL history with a 17-14 victory over the previo ...",
     "result_w2v[4][0]": "GLENDALE, Arizona (Reuters) - The New York Giants achieved one of the\\nbiggest upsets in NFL history with a 17-14 victory over the previo ...",
     "result_w2v[5][0]": "GLENDALE, Arizona (Reuters) - The New York Giants achieved one of the\\nbiggest upsets in NFL history with a 17-14 victory over the previo ...",
     "result_w2v[6][0]": "GLENDALE, Arizona (Reuters) - The New York Giants achieved one of the\\nbiggest upsets in NFL history with a 17-14 victory over the previo ...",
     "result_w2v[7][0]": "GLENDALE, Arizona (Reuters) - The New York Giants achieved one of the\\nbiggest upsets in NFL history with a 17-14 victory over the previo ...",
     "result_w2v[8][0]": "GLENDALE, Arizona (Reuters) - The New York Giants achieved one of the\\nbiggest upsets in NFL history with a 17-14 victory over the previo ...",
     "result_w2v[9][0]": "GLENDALE, Arizona (Reuters) - The New York Giants achieved one of the\\nbiggest upsets in NFL history with a 17-14 victory over the previo ..."
    }
   },
   "source": [
    "| resultado | relevante | razón |\n",
    "| :-----: |:----:|:---:|\n",
    "|{{result_w2v[0][0]}}   |Sí | Comentario sobre NFL |\n",
    "|{{result_w2v[1][0]}}   |Sí | Noticia |\n",
    "|{{result_w2v[2][0]}}   |Sí | Noticia |\n",
    "|{{result_w2v[3][0]}}   |No | Repetido |\n",
    "|{{result_w2v[4][0]}}   |No | Repetido |\n",
    "|{{result_w2v[5][0]}}   |No | Repetido |\n",
    "|{{result_w2v[6][0]}}   |No | Repetido |\n",
    "|{{result_w2v[7][0]}}   |No | Repetido |\n",
    "|{{result_w2v[8][0]}}   |No | Repetido |\n",
    "|{{result_w2v[9][0]}}   |No | Repetido |"
   ]
  },
  {
   "cell_type": "markdown",
   "metadata": {},
   "source": [
    "#### Resultados Glove"
   ]
  },
  {
   "cell_type": "code",
   "execution_count": null,
   "metadata": {
    "collapsed": true
   },
   "outputs": [],
   "source": [
    "qe_glove = get_expanded_query_glove(glove_model, start_query, k=2)\n",
    "result_glove = get_elasticsearch_result(qe_glove, client, index)"
   ]
  },
  {
   "cell_type": "markdown",
   "metadata": {
    "variables": {
     "result_glove[0][0]": {},
     "result_glove[1][0]": {},
     "result_glove[2][0]": {},
     "result_glove[3][0]": {},
     "result_glove[4][0]": {},
     "result_glove[5][0]": {},
     "result_glove[6][0]": {},
     "result_glove[7][0]": {},
     "result_glove[8][0]": {},
     "result_glove[9][0]": {}
    }
   },
   "source": [
    "| resultado | relevante | razón |\n",
    "| :-----: |:----:|:---:|\n",
    "|{{result_glove[0][0]}}   |Sí | Comentario del partido |\n",
    "|{{result_glove[1][0]}}   |No | Comentario personal |\n",
    "|{{result_glove[2][0]}}   |No | Comentario personal |\n",
    "|{{result_glove[3][0]}}   |No |  |\n",
    "|{{result_glove[4][0]}}   |Sí | Comentario del partido |\n",
    "|{{result_glove[5][0]}}   |Sí | Comentario del partido |\n",
    "|{{result_glove[6][0]}}   |Sí | Comentario del partido |\n",
    "|{{result_glove[7][0]}}   |Sí | Noticia |\n",
    "|{{result_glove[8][0]}}   |No | |\n",
    "|{{result_glove[9][0]}}   |No | |"
   ]
  },
  {
   "cell_type": "markdown",
   "metadata": {},
   "source": [
    "#### Cambios de posiciones de cada tweet"
   ]
  },
  {
   "cell_type": "code",
   "execution_count": null,
   "metadata": {
    "collapsed": true,
    "hide_input": true,
    "scrolled": false
   },
   "outputs": [],
   "source": [
    "original_tweets = [pair[0] for pair in result_q0]\n",
    "expanded_tweets = [pair[0] for pair in result_w2v]\n",
    "show_most_improved_tweet(original_tweets, expanded_tweets)\n",
    "show_most_devaluated_tweet(original_tweets, expanded_tweets)"
   ]
  },
  {
   "cell_type": "code",
   "execution_count": null,
   "metadata": {
    "collapsed": true,
    "hide_input": true
   },
   "outputs": [],
   "source": [
    "expanded_tweets = [pair[0] for pair in result_glove]\n",
    "show_most_improved_tweet(original_tweets, expanded_tweets)\n",
    "show_most_devaluated_tweet(original_tweets, expanded_tweets)"
   ]
  },
  {
   "cell_type": "markdown",
   "metadata": {},
   "source": [
    "#### Conclusión"
   ]
  },
  {
   "cell_type": "markdown",
   "metadata": {},
   "source": [
    "En este caso, para la consulta \"NFL\", optaríamos por usar Glove, ya que extrae mejores resultados en la expansión de consultas que Word2Vec, que en este caso saca muchos tweets repetidos, y que sin expandir las consultas, ya que muestra resultados sin relevancia. En cambio, usando Glove, conseguimos gran variedad de resultados relevantes acerca de la NFL y la Super Bowl."
   ]
  },
  {
   "cell_type": "markdown",
   "metadata": {},
   "source": [
    "### Eli Manning"
   ]
  },
  {
   "cell_type": "code",
   "execution_count": null,
   "metadata": {
    "collapsed": true
   },
   "outputs": [],
   "source": [
    "start_query = \"Eli Manning\""
   ]
  },
  {
   "cell_type": "markdown",
   "metadata": {},
   "source": [
    "#### Resultados originales"
   ]
  },
  {
   "cell_type": "code",
   "execution_count": null,
   "metadata": {
    "collapsed": true
   },
   "outputs": [],
   "source": [
    "result_q0 = get_elasticsearch_result([['Eli'], ['Manning']], client, index)"
   ]
  },
  {
   "cell_type": "markdown",
   "metadata": {
    "variables": {
     "result_q0[0][0]": {},
     "result_q0[1][0]": {},
     "result_q0[2][0]": {},
     "result_q0[3][0]": {},
     "result_q0[4][0]": {},
     "result_q0[5][0]": {},
     "result_q0[6][0]": {},
     "result_q0[7][0]": {},
     "result_q0[8][0]": {},
     "result_q0[9][0]": {}
    }
   },
   "source": [
    "| resultado | relevante | razón |\n",
    "| :-----: |:----:|:---:|\n",
    "|{{result_q0[0][0]}}   |Sí | Comentario del partido |\n",
    "|{{result_q0[1][0]}}   |No |  |\n",
    "|{{result_q0[2][0]}}   |Sí |  |\n",
    "|{{result_q0[3][0]}}   |No |  |\n",
    "|{{result_q0[4][0]}}   |No |  |\n",
    "|{{result_q0[5][0]}}   |No |  |\n",
    "|{{result_q0[6][0]}}   |No | Repetido |\n",
    "|{{result_q0[7][0]}}   |No |  |\n",
    "|{{result_q0[8][0]}}   |No |  |\n",
    "|{{result_q0[9][0]}}   |No | Conversación |"
   ]
  },
  {
   "cell_type": "markdown",
   "metadata": {},
   "source": [
    "#### Resultados Word2Vec"
   ]
  },
  {
   "cell_type": "code",
   "execution_count": null,
   "metadata": {
    "collapsed": true
   },
   "outputs": [],
   "source": [
    "qe_w2v = get_expanded_query_w2v(w2v_model, start_query, k=4)\n",
    "result_w2v = get_elasticsearch_result(qe_w2v, client, index)"
   ]
  },
  {
   "cell_type": "markdown",
   "metadata": {
    "variables": {
     "result_w2v[0][0]": {},
     "result_w2v[1][0]": {},
     "result_w2v[2][0]": {},
     "result_w2v[3][0]": {},
     "result_w2v[4][0]": {},
     "result_w2v[5][0]": {},
     "result_w2v[6][0]": {},
     "result_w2v[7][0]": {},
     "result_w2v[8][0]": {},
     "result_w2v[9][0]": {}
    }
   },
   "source": [
    "| resultado | relevante | razón |\n",
    "| :-----: |:----:|:---:|\n",
    "|{{result_w2v[0][0]}}   |No |  |\n",
    "|{{result_w2v[1][0]}}   |Sí | Comentario partido |\n",
    "|{{result_w2v[2][0]}}   |No | Repetido |\n",
    "|{{result_w2v[3][0]}}   |No | Repetido |\n",
    "|{{result_w2v[4][0]}}   |Sí |  |\n",
    "|{{result_w2v[5][0]}}   |No | Repetido |\n",
    "|{{result_w2v[6][0]}}   |No | Repetido |\n",
    "|{{result_w2v[7][0]}}   |No | Repetido |\n",
    "|{{result_w2v[8][0]}}   |No | Repetido |\n",
    "|{{result_w2v[9][0]}}   |No | Repetido |"
   ]
  },
  {
   "cell_type": "markdown",
   "metadata": {},
   "source": [
    "#### Resultados Glove"
   ]
  },
  {
   "cell_type": "code",
   "execution_count": null,
   "metadata": {
    "collapsed": true
   },
   "outputs": [],
   "source": [
    "qe_glove = get_expanded_query_glove(glove_model, start_query, k=5)\n",
    "result_glove = get_elasticsearch_result(qe_glove, client, index)"
   ]
  },
  {
   "cell_type": "markdown",
   "metadata": {
    "variables": {
     "result_glove[0][0]": {},
     "result_glove[1][0]": {},
     "result_glove[2][0]": {},
     "result_glove[3][0]": {},
     "result_glove[4][0]": {},
     "result_glove[5][0]": {},
     "result_glove[6][0]": {},
     "result_glove[7][0]": {},
     "result_glove[8][0]": {},
     "result_glove[9][0]": {}
    }
   },
   "source": [
    "| resultado | relevante | razón |\n",
    "| :-----: |:----:|:---:|\n",
    "|{{result_glove[0][0]}}   |Sí | Comentario del partido |\n",
    "|{{result_glove[1][0]}}   |No | Repetido |\n",
    "|{{result_glove[2][0]}}   |No | Repetido |\n",
    "|{{result_glove[3][0]}}   |No | Repetido |\n",
    "|{{result_glove[4][0]}}   |No | Repetido |\n",
    "|{{result_glove[5][0]}}   |No | Repetido |\n",
    "|{{result_glove[6][0]}}   |Sí | Comentario del partido |\n",
    "|{{result_glove[7][0]}}   |No | Repetido |\n",
    "|{{result_glove[8][0]}}   |No | Repetido |\n",
    "|{{result_glove[9][0]}}   |No | Repetido |"
   ]
  },
  {
   "cell_type": "markdown",
   "metadata": {},
   "source": [
    "#### Cambios de posiciones de cada tweet"
   ]
  },
  {
   "cell_type": "code",
   "execution_count": null,
   "metadata": {
    "collapsed": true,
    "hide_input": true,
    "scrolled": true
   },
   "outputs": [],
   "source": [
    "original_tweets = [pair[0] for pair in result_q0]\n",
    "expanded_tweets = [pair[0] for pair in result_w2v]\n",
    "show_most_improved_tweet(original_tweets, expanded_tweets)\n",
    "show_most_devaluated_tweet(original_tweets, expanded_tweets)"
   ]
  },
  {
   "cell_type": "code",
   "execution_count": null,
   "metadata": {
    "collapsed": true,
    "hide_input": true
   },
   "outputs": [],
   "source": [
    "expanded_tweets = [pair[0] for pair in result_glove]\n",
    "show_most_improved_tweet(original_tweets, expanded_tweets)\n",
    "show_most_devaluated_tweet(original_tweets, expanded_tweets)"
   ]
  },
  {
   "cell_type": "markdown",
   "metadata": {},
   "source": [
    "#### Conclusión"
   ]
  },
  {
   "cell_type": "markdown",
   "metadata": {},
   "source": [
    "Para el caso de la consulta \"Eli Manning\", podemos observar que tanto usando la expansión de consultas de Word2Vec, de Glove o sin expandirlas, obtenemos resultados muy parecidos sobre la actuación en el partido de la SuperBowl de Eli Manning. Sin embargo, al observar los cambios de posición de los tweets en cada modelo, podemos observar que usando Glove, el tweet que más posiciones subió fue uno no relacionado con el MVP Eli Manning, mientras que con Word2Vec fue uno hablando de este mismo tema. Por tanto, si tuviéramos que elegir un modelo, usaríamos Glove ya que es más exhaustivo en sus resultados que Word2Vec en este caso."
   ]
  },
  {
   "cell_type": "markdown",
   "metadata": {},
   "source": [
    "### New York Giants"
   ]
  },
  {
   "cell_type": "code",
   "execution_count": null,
   "metadata": {
    "collapsed": true
   },
   "outputs": [],
   "source": [
    "start_query = \"New York Giants\""
   ]
  },
  {
   "cell_type": "markdown",
   "metadata": {},
   "source": [
    "#### Resultados originales"
   ]
  },
  {
   "cell_type": "code",
   "execution_count": null,
   "metadata": {
    "collapsed": true
   },
   "outputs": [],
   "source": [
    "result_q0 = get_elasticsearch_result([['New'], ['York'], ['Giants']], client, index)"
   ]
  },
  {
   "cell_type": "markdown",
   "metadata": {
    "variables": {
     "result_q0[0][0]": {},
     "result_q0[1][0]": {},
     "result_q0[2][0]": {},
     "result_q0[3][0]": {},
     "result_q0[4][0]": {},
     "result_q0[5][0]": {},
     "result_q0[6][0]": {},
     "result_q0[7][0]": {},
     "result_q0[8][0]": {},
     "result_q0[9][0]": {}
    }
   },
   "source": [
    "| resultado | relevante | razón |\n",
    "| :-----: |:----:|:---:|\n",
    "|{{result_q0[0][0]}}   |No |  |\n",
    "|{{result_q0[1][0]}}   |Sí | Comentario del partido |\n",
    "|{{result_q0[2][0]}}   |No |  |\n",
    "|{{result_q0[3][0]}}   |No | Repetido |\n",
    "|{{result_q0[4][0]}}   |No | Repetido |\n",
    "|{{result_q0[5][0]}}   |No | Repetido |\n",
    "|{{result_q0[6][0]}}   |No |  |\n",
    "|{{result_q0[7][0]}}   |No |  |\n",
    "|{{result_q0[8][0]}}   |No | Repetido |\n",
    "|{{result_q0[9][0]}}   |No | Repetido |"
   ]
  },
  {
   "cell_type": "markdown",
   "metadata": {},
   "source": [
    "#### Resultados Word2Vec"
   ]
  },
  {
   "cell_type": "code",
   "execution_count": null,
   "metadata": {
    "collapsed": true,
    "scrolled": true
   },
   "outputs": [],
   "source": [
    "qe_w2v = get_expanded_query_w2v(w2v_model, start_query, k=3)\n",
    "result_w2v = get_elasticsearch_result(qe_w2v, client, index)"
   ]
  },
  {
   "cell_type": "markdown",
   "metadata": {
    "variables": {
     "result_w2v[0][0]": {},
     "result_w2v[1][0]": {},
     "result_w2v[2][0]": {},
     "result_w2v[3][0]": {},
     "result_w2v[4][0]": {},
     "result_w2v[5][0]": {},
     "result_w2v[6][0]": {},
     "result_w2v[7][0]": {},
     "result_w2v[8][0]": {},
     "result_w2v[9][0]": {}
    }
   },
   "source": [
    "| resultado | relevante | razón |\n",
    "| :-----: |:----:|:---:|\n",
    "|{{result_w2v[0][0]}}   |No | Conversación |\n",
    "|{{result_w2v[1][0]}}   |No | Conversación |\n",
    "|{{result_w2v[2][0]}}   |Sí | Comentario del partido |\n",
    "|{{result_w2v[3][0]}}   |Sí | Comentario post-partido |\n",
    "|{{result_w2v[4][0]}}   |Sí | Noticia post-partido |\n",
    "|{{result_w2v[5][0]}}   |No |  |\n",
    "|{{result_w2v[6][0]}}   |No |  |\n",
    "|{{result_w2v[7][0]}}   |Sí | Comentario pre-partido |\n",
    "|{{result_w2v[8][0]}}   |No |  |\n",
    "|{{result_w2v[9][0]}}   |No |  |"
   ]
  },
  {
   "cell_type": "markdown",
   "metadata": {},
   "source": [
    "#### Resultados Glove"
   ]
  },
  {
   "cell_type": "code",
   "execution_count": null,
   "metadata": {
    "collapsed": true
   },
   "outputs": [],
   "source": [
    "qe_glove = get_expanded_query_glove(glove_model, start_query, k=4)\n",
    "result_glove = get_elasticsearch_result(qe_glove, client, index)"
   ]
  },
  {
   "cell_type": "markdown",
   "metadata": {
    "variables": {
     "result_glove[0][0]": {},
     "result_glove[1][0]": {},
     "result_glove[2][0]": {},
     "result_glove[3][0]": {},
     "result_glove[4][0]": {},
     "result_glove[5][0]": {},
     "result_glove[6][0]": {},
     "result_glove[7][0]": {},
     "result_glove[8][0]": {},
     "result_glove[9][0]": {}
    }
   },
   "source": [
    "| resultado | relevante | razón |\n",
    "| :-----: |:----:|:---:|\n",
    "|{{result_glove[0][0]}}   |Sí | Comentario del partido |\n",
    "|{{result_glove[1][0]}}   |No | Repetido |\n",
    "|{{result_glove[2][0]}}   |Sí | Comentario del partido |\n",
    "|{{result_glove[3][0]}}   |No | Repetido |\n",
    "|{{result_glove[4][0]}}   |No | Repetido |\n",
    "|{{result_glove[5][0]}}   |No | Repetido |\n",
    "|{{result_glove[6][0]}}   |No | Repetido |\n",
    "|{{result_glove[7][0]}}   |No | Repetido |\n",
    "|{{result_glove[8][0]}}   |No | Conversación |\n",
    "|{{result_glove[9][0]}}   |No | Conversación |"
   ]
  },
  {
   "cell_type": "markdown",
   "metadata": {},
   "source": [
    "#### Cambios de posiciones de cada tweet"
   ]
  },
  {
   "cell_type": "code",
   "execution_count": null,
   "metadata": {
    "collapsed": true,
    "hide_input": true
   },
   "outputs": [],
   "source": [
    "original_tweets = [pair[0] for pair in result_q0]\n",
    "expanded_tweets = [pair[0] for pair in result_w2v]\n",
    "show_most_improved_tweet(original_tweets, expanded_tweets)\n",
    "show_most_devaluated_tweet(original_tweets, expanded_tweets)"
   ]
  },
  {
   "cell_type": "code",
   "execution_count": null,
   "metadata": {
    "collapsed": true,
    "hide_input": true
   },
   "outputs": [],
   "source": [
    "expanded_tweets = [pair[0] for pair in result_glove]\n",
    "show_most_improved_tweet(original_tweets, expanded_tweets)\n",
    "show_most_devaluated_tweet(original_tweets, expanded_tweets)"
   ]
  },
  {
   "cell_type": "markdown",
   "metadata": {},
   "source": [
    "#### Conclusión"
   ]
  },
  {
   "cell_type": "markdown",
   "metadata": {},
   "source": [
    "Al realizar la consulta \"New York Giants\", equipo ganador de la Super Bowl 2008, obtenemos resultados bastante dispares según el modelo que usemos. Si usamos los resultados originales, sin expandir la consulta, obtenemos resultados \"vacíos\", ya que en dichos tweets solamente encontramos exclamaciones y el nombre del equipo vencedor. Si utilizamos Glove, también obtenemos resultados muy similares entre sí, felicitando al equipo vencedor. En cambio, si utilizamos Word2Vec, obtenemos resultados variados sobre el pre y post partido, y sobre el partido en sí, obviamente. Al contrario que en los anteriores casos, los tweets que más puestos subieron en Word2Vec y en Glove son los mismos en los dos modelos, por lo que utilizando la información obtenida en la expansión de consultas, en este caso utilizaríamos Word2Vec."
   ]
  },
  {
   "cell_type": "markdown",
   "metadata": {},
   "source": [
    "## Precisiones obtenidas con cada modelo"
   ]
  },
  {
   "cell_type": "code",
   "execution_count": null,
   "metadata": {
    "collapsed": true
   },
   "outputs": [],
   "source": []
  },
  {
   "cell_type": "markdown",
   "metadata": {
    "collapsed": true
   },
   "source": [
    "## Comparativa del rendimiento de los modelos\n",
    "En este apartado vamos a relizar una serie de mediciones sobre ambos modelos para ver "
   ]
  },
  {
   "cell_type": "code",
   "execution_count": 16,
   "metadata": {
    "collapsed": true
   },
   "outputs": [],
   "source": [
    "import profiler"
   ]
  },
  {
   "cell_type": "code",
   "execution_count": 17,
   "metadata": {},
   "outputs": [
    {
     "ename": "KeyboardInterrupt",
     "evalue": "",
     "output_type": "error",
     "traceback": [
      "\u001b[1;31m---------------------------------------------------------------------------\u001b[0m",
      "\u001b[1;31mKeyboardInterrupt\u001b[0m                         Traceback (most recent call last)",
      "\u001b[1;32m<ipython-input-17-de2c9e590a3b>\u001b[0m in \u001b[0;36m<module>\u001b[1;34m()\u001b[0m\n\u001b[1;32m----> 1\u001b[1;33m \u001b[0mmem_usage_glove\u001b[0m \u001b[1;33m=\u001b[0m \u001b[0mmemory_usage\u001b[0m\u001b[1;33m(\u001b[0m\u001b[1;33m(\u001b[0m\u001b[0mprofiler\u001b[0m\u001b[1;33m.\u001b[0m\u001b[0mglove_benchmark\u001b[0m\u001b[1;33m,\u001b[0m \u001b[1;33m(\u001b[0m\u001b[0msentences_generator\u001b[0m\u001b[1;33m,\u001b[0m\u001b[1;33m)\u001b[0m\u001b[1;33m,\u001b[0m \u001b[1;33m{\u001b[0m\u001b[1;33m}\u001b[0m\u001b[1;33m)\u001b[0m\u001b[1;33m)\u001b[0m\u001b[1;33m\u001b[0m\u001b[0m\n\u001b[0m\u001b[0;32m      2\u001b[0m \u001b[0mmem_usage_w2v\u001b[0m \u001b[1;33m=\u001b[0m \u001b[0mmemory_usage\u001b[0m\u001b[1;33m(\u001b[0m\u001b[1;33m(\u001b[0m\u001b[0mprofiler\u001b[0m\u001b[1;33m.\u001b[0m\u001b[0mword2vec_benchmark\u001b[0m\u001b[1;33m,\u001b[0m \u001b[1;33m(\u001b[0m\u001b[0msentences_generator\u001b[0m\u001b[1;33m,\u001b[0m\u001b[1;33m)\u001b[0m\u001b[1;33m,\u001b[0m \u001b[1;33m{\u001b[0m\u001b[1;33m}\u001b[0m\u001b[1;33m)\u001b[0m\u001b[1;33m)\u001b[0m\u001b[1;33m\u001b[0m\u001b[0m\n\u001b[0;32m      3\u001b[0m \u001b[0mtime_glove\u001b[0m \u001b[1;33m=\u001b[0m \u001b[0mget_ipython\u001b[0m\u001b[1;33m(\u001b[0m\u001b[1;33m)\u001b[0m\u001b[1;33m.\u001b[0m\u001b[0mmagic\u001b[0m\u001b[1;33m(\u001b[0m\u001b[1;34m'timeit -n1 -r1 -o -q glove_benchmark(sentences_generator)'\u001b[0m\u001b[1;33m)\u001b[0m\u001b[1;33m\u001b[0m\u001b[0m\n\u001b[0;32m      4\u001b[0m \u001b[0mtime_w2v\u001b[0m \u001b[1;33m=\u001b[0m \u001b[0mget_ipython\u001b[0m\u001b[1;33m(\u001b[0m\u001b[1;33m)\u001b[0m\u001b[1;33m.\u001b[0m\u001b[0mmagic\u001b[0m\u001b[1;33m(\u001b[0m\u001b[1;34m'timeit -n1 -r1 -o -q word2vec_benchmark(sentences_generator)'\u001b[0m\u001b[1;33m)\u001b[0m\u001b[1;33m\u001b[0m\u001b[0m\n\u001b[0;32m      5\u001b[0m \u001b[0mprofiler\u001b[0m\u001b[1;33m.\u001b[0m\u001b[0mplot_results\u001b[0m\u001b[1;33m(\u001b[0m\u001b[0mmem_usage_glove\u001b[0m\u001b[1;33m,\u001b[0m \u001b[0mmem_usage_w2v\u001b[0m\u001b[1;33m,\u001b[0m \u001b[0mtime_glove\u001b[0m\u001b[1;33m,\u001b[0m \u001b[0mtime_w2v\u001b[0m\u001b[1;33m)\u001b[0m\u001b[1;33m\u001b[0m\u001b[0m\n",
      "\u001b[1;32m~\\AppData\\Local\\conda\\conda\\envs\\elasticsearch\\lib\\site-packages\\memory_profiler.py\u001b[0m in \u001b[0;36mmemory_usage\u001b[1;34m(proc, interval, timeout, timestamps, include_children, multiprocess, max_usage, retval, stream, backend)\u001b[0m\n\u001b[0;32m    332\u001b[0m             \u001b[0mp\u001b[0m\u001b[1;33m.\u001b[0m\u001b[0mstart\u001b[0m\u001b[1;33m(\u001b[0m\u001b[1;33m)\u001b[0m\u001b[1;33m\u001b[0m\u001b[0m\n\u001b[0;32m    333\u001b[0m             \u001b[0mparent_conn\u001b[0m\u001b[1;33m.\u001b[0m\u001b[0mrecv\u001b[0m\u001b[1;33m(\u001b[0m\u001b[1;33m)\u001b[0m  \u001b[1;31m# wait until we start getting memory\u001b[0m\u001b[1;33m\u001b[0m\u001b[0m\n\u001b[1;32m--> 334\u001b[1;33m             \u001b[0mreturned\u001b[0m \u001b[1;33m=\u001b[0m \u001b[0mf\u001b[0m\u001b[1;33m(\u001b[0m\u001b[1;33m*\u001b[0m\u001b[0margs\u001b[0m\u001b[1;33m,\u001b[0m \u001b[1;33m**\u001b[0m\u001b[0mkw\u001b[0m\u001b[1;33m)\u001b[0m\u001b[1;33m\u001b[0m\u001b[0m\n\u001b[0m\u001b[0;32m    335\u001b[0m             \u001b[0mparent_conn\u001b[0m\u001b[1;33m.\u001b[0m\u001b[0msend\u001b[0m\u001b[1;33m(\u001b[0m\u001b[1;36m0\u001b[0m\u001b[1;33m)\u001b[0m  \u001b[1;31m# finish timing\u001b[0m\u001b[1;33m\u001b[0m\u001b[0m\n\u001b[0;32m    336\u001b[0m             \u001b[0mret\u001b[0m \u001b[1;33m=\u001b[0m \u001b[0mparent_conn\u001b[0m\u001b[1;33m.\u001b[0m\u001b[0mrecv\u001b[0m\u001b[1;33m(\u001b[0m\u001b[1;33m)\u001b[0m\u001b[1;33m\u001b[0m\u001b[0m\n",
      "\u001b[1;32m~\\Documents\\tercero\\primer_semestre\\RI\\labs\\ElasticSearch\\entrega\\src\\profiler.py\u001b[0m in \u001b[0;36mglove_benchmark\u001b[1;34m(sentences_iterable, window, size, alpha, epochs, num_threads)\u001b[0m\n\u001b[0;32m     28\u001b[0m     \u001b[0mglove\u001b[0m \u001b[1;33m=\u001b[0m \u001b[0mGlove\u001b[0m\u001b[1;33m(\u001b[0m\u001b[0mno_components\u001b[0m\u001b[1;33m=\u001b[0m\u001b[0msize\u001b[0m\u001b[1;33m,\u001b[0m \u001b[0mlearning_rate\u001b[0m\u001b[1;33m=\u001b[0m\u001b[0malpha\u001b[0m\u001b[1;33m)\u001b[0m\u001b[1;33m\u001b[0m\u001b[0m\n\u001b[0;32m     29\u001b[0m     glove.fit(corpus_model.matrix, epochs=epochs,\n\u001b[1;32m---> 30\u001b[1;33m               no_threads=1, verbose=False)\n\u001b[0m\u001b[0;32m     31\u001b[0m \u001b[1;33m\u001b[0m\u001b[0m\n\u001b[0;32m     32\u001b[0m \u001b[1;33m\u001b[0m\u001b[0m\n",
      "\u001b[1;32m~\\AppData\\Local\\conda\\conda\\envs\\elasticsearch\\lib\\site-packages\\glove_python-0.1.0-py3.6-win-amd64.egg\\glove\\glove.py\u001b[0m in \u001b[0;36mfit\u001b[1;34m(self, matrix, epochs, no_threads, verbose)\u001b[0m\n\u001b[0;32m    129\u001b[0m                         \u001b[0mself\u001b[0m\u001b[1;33m.\u001b[0m\u001b[0malpha\u001b[0m\u001b[1;33m,\u001b[0m\u001b[1;33m\u001b[0m\u001b[0m\n\u001b[0;32m    130\u001b[0m                         \u001b[0mself\u001b[0m\u001b[1;33m.\u001b[0m\u001b[0mmax_loss\u001b[0m\u001b[1;33m,\u001b[0m\u001b[1;33m\u001b[0m\u001b[0m\n\u001b[1;32m--> 131\u001b[1;33m                         int(no_threads))\n\u001b[0m\u001b[0;32m    132\u001b[0m \u001b[1;33m\u001b[0m\u001b[0m\n\u001b[0;32m    133\u001b[0m             \u001b[1;32mif\u001b[0m \u001b[1;32mnot\u001b[0m \u001b[0mnp\u001b[0m\u001b[1;33m.\u001b[0m\u001b[0misfinite\u001b[0m\u001b[1;33m(\u001b[0m\u001b[0mself\u001b[0m\u001b[1;33m.\u001b[0m\u001b[0mword_vectors\u001b[0m\u001b[1;33m)\u001b[0m\u001b[1;33m.\u001b[0m\u001b[0mall\u001b[0m\u001b[1;33m(\u001b[0m\u001b[1;33m)\u001b[0m\u001b[1;33m:\u001b[0m\u001b[1;33m\u001b[0m\u001b[0m\n",
      "\u001b[1;31mKeyboardInterrupt\u001b[0m: "
     ]
    }
   ],
   "source": [
    "mem_usage_glove = memory_usage((profiler.glove_benchmark, (sentences_generator,), {}))\n",
    "mem_usage_w2v = memory_usage((profiler.word2vec_benchmark, (sentences_generator,), {}))\n",
    "time_glove = %timeit -n1 -r1 -o -q glove_benchmark(sentences_generator)\n",
    "time_w2v = %timeit -n1 -r1 -o -q word2vec_benchmark(sentences_generator)\n",
    "profiler.plot_results(mem_usage_glove, mem_usage_w2v, time_glove, time_w2v)"
   ]
  },
  {
   "cell_type": "markdown",
   "metadata": {},
   "source": [
    "## Referencias"
   ]
  },
  {
   "cell_type": "markdown",
   "metadata": {},
   "source": [
    "[1] Explicación del funcionamiento del modelo Word2Vec de Google. https://code.google.com/archive/p/word2vec/\n",
    "\n",
    "[2] Explicación del funcionamiento del modelo Glove de Stanford. https://nlp.stanford.edu/projects/glove/\n",
    "\n",
    "[3] GloVe: Global Vectors for word representation. https://www.aclweb.org/anthology/D14-1162\n",
    "\n",
    "[4] Código fuente del tokenizador de tweets de NLTK. http://www.nltk.org/_modules/nltk/tokenize/casual.html\n",
    "\n",
    "[5] Documentación del módulo word2vec de gensim utilizado. https://radimrehurek.com/gensim/models/word2vec.html\n",
    "\n",
    "[6] Repositorio en github de la implementación de Glove utilizada. https://github.com/maciejkula/glove-python\n"
   ]
  },
  {
   "cell_type": "code",
   "execution_count": null,
   "metadata": {
    "collapsed": true
   },
   "outputs": [],
   "source": []
  }
 ],
 "metadata": {
  "kernelspec": {
   "display_name": "Python 3",
   "language": "python",
   "name": "python3"
  },
  "language_info": {
   "codemirror_mode": {
    "name": "ipython",
    "version": 3
   },
   "file_extension": ".py",
   "mimetype": "text/x-python",
   "name": "python",
   "nbconvert_exporter": "python",
   "pygments_lexer": "ipython3",
   "version": "3.6.2"
  },
  "latex_metadata": {
   "affiliation": "Universidad de Oviedo",
   "author": "Alejandro González Hevia",
   "title": "Expansión de consultas usando word embeddings"
  },
  "toc": {
   "nav_menu": {},
   "number_sections": true,
   "sideBar": true,
   "skip_h1_title": false,
   "toc_cell": false,
   "toc_position": {},
   "toc_section_display": "block",
   "toc_window_display": false
  }
 },
 "nbformat": 4,
 "nbformat_minor": 2
}
